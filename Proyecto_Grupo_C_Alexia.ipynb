{
  "cells": [
    {
      "cell_type": "markdown",
      "metadata": {
        "id": "SNMbmsavZSql"
      },
      "source": [
        "**Proyecto Equipo D**\n",
        "\n",
        "![An image](https://media.timtul.com/media/users/hackaboss_300_20211202185733.png)\n",
        "\n",
        "**Proyecto II Grupo D** del curso de Ciencia de Datos de Hack'a'Boss **01 Julio 2024** (DSB10RT).\n",
        "\n",
        "Seleccionar uno de estos enfoques para el proyecto y definir el problema\n",
        "\n",
        "Para este segundo proyecto vamos a poder elegir entre:\n",
        "\n",
        "**Machine Learning**\n",
        "*   Aprendizaje supervisado.\n",
        "*   Aprendizaje no supervisado.\n",
        "\n",
        "**NLP**\n",
        "*   Análisis de Texto.\n",
        "*   Modelos predictivos.\n",
        "*   Análisis de Sentimiento.\n",
        "\n",
        "**Algoritmos Genéticos**\n",
        "\n",
        "**Recomendadores.**\n"
      ]
    },
    {
      "cell_type": "markdown",
      "metadata": {
        "id": "1US1nJtTjFMC"
      },
      "source": [
        "# 01. Definición del problema"
      ]
    },
    {
      "cell_type": "markdown",
      "metadata": {
        "id": "jx_W9wSujq_y"
      },
      "source": [
        "Partimos por la definición del problema o el objetivo del proyecto.\n",
        "\n",
        "¿Qué variable queremos predecir?\n",
        "\n",
        "¿Es una regresión o una clasificación?\n",
        "\n",
        "¿Qué datos son necesarios para predecir esa variable?\n",
        "\n",
        "¿Cómo consigo esos datos?"
      ]
    },
    {
      "cell_type": "markdown",
      "metadata": {
        "id": "21Sk8zfTZtNX"
      },
      "source": [
        "# 02. Recopilación de Datos"
      ]
    },
    {
      "cell_type": "markdown",
      "metadata": {
        "id": "a4OtLBQznf8q"
      },
      "source": [
        "Una de las etapas más difíciles de todo proyecto, para esta etapa podemos decidir usar herramientas del los módulos pasados, como API o Web Scraping.\n",
        "\n",
        "Podemos usar las siguientes fuentes para encontrar los datos que necesitamos.\n",
        "\n",
        "Fuentes:\n",
        "\n",
        "*  UCI Machine Learning Repository: https://archive.ics.uci.edu/ml/datasets.php\n",
        "\n",
        "*  Kaggle: https://www.kaggle.com/datasets\n",
        "\n",
        "*  Google Dataset Search: https://datasetsearch.research.google.com/\n",
        "\n",
        "*  Microsoft Open Data: https://msropendata.com/\n",
        "\n",
        "*  European Data: https://data.europa.eu/en\n",
        "\n",
        "*  Awesome Data: https://github.com/awesomedata/awesome-public-datasets\n",
        "\n",
        "*  Amazon Web Services: https://registry.opendata.aws/\n",
        "\n",
        "##################\n",
        "\n",
        "####################\n",
        "\n",
        "El data set seleccionado fue descargado del siguiente enlace:\n",
        "\n",
        "https://chronicdata.cdc.gov/Heart-Disease-Stroke-Prevention/Behavioral-Risk-Factor-Surveillance-System-BRFSS-N/ikwk-8git/data"
      ]
    },
    {
      "cell_type": "markdown",
      "metadata": {
        "id": "SGIsMC7EauFr"
      },
      "source": [
        "# 03. Exploratory Data Analysis (EDA) y Procesamiento de Datos"
      ]
    },
    {
      "cell_type": "markdown",
      "metadata": {
        "id": "-_kpstbwn7dT"
      },
      "source": [
        "Para seguir con el proyecto es necesario conocer los datos, para esto vamos a utilizar las herramientas de EDA, es decir, visualizaciones y estadística.\n",
        "\n",
        "También es necesario procesar los datos antes de implementarlos en el modelo, esto comprende:\n",
        "\n",
        "*   NaN's.\n",
        "\n",
        "*   Outliers.\n",
        "\n",
        "*   Variables no numéricas.\n",
        "\n",
        "*   Dimensionalidad.\n",
        "\n",
        "*   Normalización de Datos.\n",
        "\n",
        "Esta parte del proyecto se debe adaptar a los datos.\n",
        "\n"
      ]
    },
    {
      "cell_type": "markdown",
      "metadata": {
        "id": "_DnBTSHVrNlD"
      },
      "source": [
        "## Importar Librerias Requeridas"
      ]
    },
    {
      "cell_type": "code",
      "execution_count": 1,
      "metadata": {
        "colab": {
          "base_uri": "https://localhost:8080/"
        },
        "id": "fLFxATHij2cI",
        "outputId": "c7ac2254-1264-4eb9-a860-8bbf2890b58f"
      },
      "outputs": [],
      "source": [
        "# !pip install scikit-learn\n",
        "# !pip install category_encoders\n",
        "# !pip install unidecode\n",
        "# !pip install --upgrade seaborn"
      ]
    },
    {
      "cell_type": "code",
      "execution_count": 2,
      "metadata": {
        "colab": {
          "base_uri": "https://localhost:8080/"
        },
        "id": "8gYWo8OgqLiv",
        "outputId": "cfadfcb6-e892-4b0d-d792-18ac7c4b221a"
      },
      "outputs": [
        {
          "data": {
            "text/plain": [
              "Ellipsis"
            ]
          },
          "execution_count": 2,
          "metadata": {},
          "output_type": "execute_result"
        }
      ],
      "source": [
        "import pandas as pd\n",
        "import numpy as np\n",
        "import seaborn as sns\n",
        "import matplotlib.pyplot as plt\n",
        "import re\n",
        "from math import sqrt\n",
        "from unidecode import unidecode\n",
        "\n",
        "# Modelo\n",
        "from sklearn.linear_model import LinearRegression\n",
        "from sklearn.neighbors import KNeighborsClassifier\n",
        "from sklearn.neighbors import RadiusNeighborsClassifier\n",
        "from sklearn.neighbors import NearestCentroid\n",
        "from sklearn.naive_bayes import GaussianNB\n",
        "from sklearn.linear_model import LogisticRegression\n",
        "from sklearn.tree import DecisionTreeClassifier\n",
        "from sklearn.ensemble import RandomForestClassifier\n",
        "from sklearn.svm import SVC\n",
        "from sklearn.ensemble import AdaBoostClassifier\n",
        "from sklearn.ensemble import GradientBoostingClassifier\n",
        "from sklearn.discriminant_analysis import LinearDiscriminantAnalysis, QuadraticDiscriminantAnalysis\n",
        "\n",
        "# Herramienta Preprocesamiento\n",
        "from sklearn.preprocessing import MinMaxScaler, LabelEncoder, OneHotEncoder\n",
        "from category_encoders import TargetEncoder\n",
        "\n",
        "# Train Test Split\n",
        "from sklearn.model_selection import train_test_split, GridSearchCV\n",
        "\n",
        "# Metricas\n",
        "from sklearn.metrics import mean_absolute_error, mean_squared_error, r2_score\n",
        "from sklearn.metrics import jaccard_score\n",
        "from sklearn.metrics import accuracy_score\n",
        "from sklearn.metrics import precision_score\n",
        "from sklearn.metrics import recall_score\n",
        "from sklearn.metrics import f1_score\n",
        "from sklearn.metrics import roc_auc_score\n",
        "from sklearn.metrics import confusion_matrix\n",
        "from sklearn.metrics import classification_report\n",
        "\n",
        "# Validaciones\n",
        "from sklearn.model_selection import KFold, LeaveOneOut\n",
        "\n",
        "# Importar herramientas de prepocesamiento necesarias\n",
        "..."
      ]
    },
    {
      "cell_type": "markdown",
      "metadata": {
        "id": "GCTyUI-YOsUh"
      },
      "source": [
        "## Exploración y limpieza Inicial del DataFrame"
      ]
    },
    {
      "cell_type": "code",
      "execution_count": 3,
      "metadata": {
        "id": "wAvNcixujtZy"
      },
      "outputs": [
        {
          "ename": "FileNotFoundError",
          "evalue": "[Errno 2] No such file or directory: './heart_2020_cleaned.csv'",
          "output_type": "error",
          "traceback": [
            "\u001b[0;31m---------------------------------------------------------------------------\u001b[0m",
            "\u001b[0;31mFileNotFoundError\u001b[0m                         Traceback (most recent call last)",
            "Cell \u001b[0;32mIn[3], line 1\u001b[0m\n\u001b[0;32m----> 1\u001b[0m df \u001b[38;5;241m=\u001b[39m pd\u001b[38;5;241m.\u001b[39mread_csv(\u001b[38;5;124m\"\u001b[39m\u001b[38;5;124m./heart_2020_cleaned.csv\u001b[39m\u001b[38;5;124m\"\u001b[39m)\n",
            "File \u001b[0;32m/opt/anaconda3/lib/python3.11/site-packages/pandas/io/parsers/readers.py:948\u001b[0m, in \u001b[0;36mread_csv\u001b[0;34m(filepath_or_buffer, sep, delimiter, header, names, index_col, usecols, dtype, engine, converters, true_values, false_values, skipinitialspace, skiprows, skipfooter, nrows, na_values, keep_default_na, na_filter, verbose, skip_blank_lines, parse_dates, infer_datetime_format, keep_date_col, date_parser, date_format, dayfirst, cache_dates, iterator, chunksize, compression, thousands, decimal, lineterminator, quotechar, quoting, doublequote, escapechar, comment, encoding, encoding_errors, dialect, on_bad_lines, delim_whitespace, low_memory, memory_map, float_precision, storage_options, dtype_backend)\u001b[0m\n\u001b[1;32m    935\u001b[0m kwds_defaults \u001b[38;5;241m=\u001b[39m _refine_defaults_read(\n\u001b[1;32m    936\u001b[0m     dialect,\n\u001b[1;32m    937\u001b[0m     delimiter,\n\u001b[0;32m   (...)\u001b[0m\n\u001b[1;32m    944\u001b[0m     dtype_backend\u001b[38;5;241m=\u001b[39mdtype_backend,\n\u001b[1;32m    945\u001b[0m )\n\u001b[1;32m    946\u001b[0m kwds\u001b[38;5;241m.\u001b[39mupdate(kwds_defaults)\n\u001b[0;32m--> 948\u001b[0m \u001b[38;5;28;01mreturn\u001b[39;00m _read(filepath_or_buffer, kwds)\n",
            "File \u001b[0;32m/opt/anaconda3/lib/python3.11/site-packages/pandas/io/parsers/readers.py:611\u001b[0m, in \u001b[0;36m_read\u001b[0;34m(filepath_or_buffer, kwds)\u001b[0m\n\u001b[1;32m    608\u001b[0m _validate_names(kwds\u001b[38;5;241m.\u001b[39mget(\u001b[38;5;124m\"\u001b[39m\u001b[38;5;124mnames\u001b[39m\u001b[38;5;124m\"\u001b[39m, \u001b[38;5;28;01mNone\u001b[39;00m))\n\u001b[1;32m    610\u001b[0m \u001b[38;5;66;03m# Create the parser.\u001b[39;00m\n\u001b[0;32m--> 611\u001b[0m parser \u001b[38;5;241m=\u001b[39m TextFileReader(filepath_or_buffer, \u001b[38;5;241m*\u001b[39m\u001b[38;5;241m*\u001b[39mkwds)\n\u001b[1;32m    613\u001b[0m \u001b[38;5;28;01mif\u001b[39;00m chunksize \u001b[38;5;129;01mor\u001b[39;00m iterator:\n\u001b[1;32m    614\u001b[0m     \u001b[38;5;28;01mreturn\u001b[39;00m parser\n",
            "File \u001b[0;32m/opt/anaconda3/lib/python3.11/site-packages/pandas/io/parsers/readers.py:1448\u001b[0m, in \u001b[0;36mTextFileReader.__init__\u001b[0;34m(self, f, engine, **kwds)\u001b[0m\n\u001b[1;32m   1445\u001b[0m     \u001b[38;5;28mself\u001b[39m\u001b[38;5;241m.\u001b[39moptions[\u001b[38;5;124m\"\u001b[39m\u001b[38;5;124mhas_index_names\u001b[39m\u001b[38;5;124m\"\u001b[39m] \u001b[38;5;241m=\u001b[39m kwds[\u001b[38;5;124m\"\u001b[39m\u001b[38;5;124mhas_index_names\u001b[39m\u001b[38;5;124m\"\u001b[39m]\n\u001b[1;32m   1447\u001b[0m \u001b[38;5;28mself\u001b[39m\u001b[38;5;241m.\u001b[39mhandles: IOHandles \u001b[38;5;241m|\u001b[39m \u001b[38;5;28;01mNone\u001b[39;00m \u001b[38;5;241m=\u001b[39m \u001b[38;5;28;01mNone\u001b[39;00m\n\u001b[0;32m-> 1448\u001b[0m \u001b[38;5;28mself\u001b[39m\u001b[38;5;241m.\u001b[39m_engine \u001b[38;5;241m=\u001b[39m \u001b[38;5;28mself\u001b[39m\u001b[38;5;241m.\u001b[39m_make_engine(f, \u001b[38;5;28mself\u001b[39m\u001b[38;5;241m.\u001b[39mengine)\n",
            "File \u001b[0;32m/opt/anaconda3/lib/python3.11/site-packages/pandas/io/parsers/readers.py:1705\u001b[0m, in \u001b[0;36mTextFileReader._make_engine\u001b[0;34m(self, f, engine)\u001b[0m\n\u001b[1;32m   1703\u001b[0m     \u001b[38;5;28;01mif\u001b[39;00m \u001b[38;5;124m\"\u001b[39m\u001b[38;5;124mb\u001b[39m\u001b[38;5;124m\"\u001b[39m \u001b[38;5;129;01mnot\u001b[39;00m \u001b[38;5;129;01min\u001b[39;00m mode:\n\u001b[1;32m   1704\u001b[0m         mode \u001b[38;5;241m+\u001b[39m\u001b[38;5;241m=\u001b[39m \u001b[38;5;124m\"\u001b[39m\u001b[38;5;124mb\u001b[39m\u001b[38;5;124m\"\u001b[39m\n\u001b[0;32m-> 1705\u001b[0m \u001b[38;5;28mself\u001b[39m\u001b[38;5;241m.\u001b[39mhandles \u001b[38;5;241m=\u001b[39m get_handle(\n\u001b[1;32m   1706\u001b[0m     f,\n\u001b[1;32m   1707\u001b[0m     mode,\n\u001b[1;32m   1708\u001b[0m     encoding\u001b[38;5;241m=\u001b[39m\u001b[38;5;28mself\u001b[39m\u001b[38;5;241m.\u001b[39moptions\u001b[38;5;241m.\u001b[39mget(\u001b[38;5;124m\"\u001b[39m\u001b[38;5;124mencoding\u001b[39m\u001b[38;5;124m\"\u001b[39m, \u001b[38;5;28;01mNone\u001b[39;00m),\n\u001b[1;32m   1709\u001b[0m     compression\u001b[38;5;241m=\u001b[39m\u001b[38;5;28mself\u001b[39m\u001b[38;5;241m.\u001b[39moptions\u001b[38;5;241m.\u001b[39mget(\u001b[38;5;124m\"\u001b[39m\u001b[38;5;124mcompression\u001b[39m\u001b[38;5;124m\"\u001b[39m, \u001b[38;5;28;01mNone\u001b[39;00m),\n\u001b[1;32m   1710\u001b[0m     memory_map\u001b[38;5;241m=\u001b[39m\u001b[38;5;28mself\u001b[39m\u001b[38;5;241m.\u001b[39moptions\u001b[38;5;241m.\u001b[39mget(\u001b[38;5;124m\"\u001b[39m\u001b[38;5;124mmemory_map\u001b[39m\u001b[38;5;124m\"\u001b[39m, \u001b[38;5;28;01mFalse\u001b[39;00m),\n\u001b[1;32m   1711\u001b[0m     is_text\u001b[38;5;241m=\u001b[39mis_text,\n\u001b[1;32m   1712\u001b[0m     errors\u001b[38;5;241m=\u001b[39m\u001b[38;5;28mself\u001b[39m\u001b[38;5;241m.\u001b[39moptions\u001b[38;5;241m.\u001b[39mget(\u001b[38;5;124m\"\u001b[39m\u001b[38;5;124mencoding_errors\u001b[39m\u001b[38;5;124m\"\u001b[39m, \u001b[38;5;124m\"\u001b[39m\u001b[38;5;124mstrict\u001b[39m\u001b[38;5;124m\"\u001b[39m),\n\u001b[1;32m   1713\u001b[0m     storage_options\u001b[38;5;241m=\u001b[39m\u001b[38;5;28mself\u001b[39m\u001b[38;5;241m.\u001b[39moptions\u001b[38;5;241m.\u001b[39mget(\u001b[38;5;124m\"\u001b[39m\u001b[38;5;124mstorage_options\u001b[39m\u001b[38;5;124m\"\u001b[39m, \u001b[38;5;28;01mNone\u001b[39;00m),\n\u001b[1;32m   1714\u001b[0m )\n\u001b[1;32m   1715\u001b[0m \u001b[38;5;28;01massert\u001b[39;00m \u001b[38;5;28mself\u001b[39m\u001b[38;5;241m.\u001b[39mhandles \u001b[38;5;129;01mis\u001b[39;00m \u001b[38;5;129;01mnot\u001b[39;00m \u001b[38;5;28;01mNone\u001b[39;00m\n\u001b[1;32m   1716\u001b[0m f \u001b[38;5;241m=\u001b[39m \u001b[38;5;28mself\u001b[39m\u001b[38;5;241m.\u001b[39mhandles\u001b[38;5;241m.\u001b[39mhandle\n",
            "File \u001b[0;32m/opt/anaconda3/lib/python3.11/site-packages/pandas/io/common.py:863\u001b[0m, in \u001b[0;36mget_handle\u001b[0;34m(path_or_buf, mode, encoding, compression, memory_map, is_text, errors, storage_options)\u001b[0m\n\u001b[1;32m    858\u001b[0m \u001b[38;5;28;01melif\u001b[39;00m \u001b[38;5;28misinstance\u001b[39m(handle, \u001b[38;5;28mstr\u001b[39m):\n\u001b[1;32m    859\u001b[0m     \u001b[38;5;66;03m# Check whether the filename is to be opened in binary mode.\u001b[39;00m\n\u001b[1;32m    860\u001b[0m     \u001b[38;5;66;03m# Binary mode does not support 'encoding' and 'newline'.\u001b[39;00m\n\u001b[1;32m    861\u001b[0m     \u001b[38;5;28;01mif\u001b[39;00m ioargs\u001b[38;5;241m.\u001b[39mencoding \u001b[38;5;129;01mand\u001b[39;00m \u001b[38;5;124m\"\u001b[39m\u001b[38;5;124mb\u001b[39m\u001b[38;5;124m\"\u001b[39m \u001b[38;5;129;01mnot\u001b[39;00m \u001b[38;5;129;01min\u001b[39;00m ioargs\u001b[38;5;241m.\u001b[39mmode:\n\u001b[1;32m    862\u001b[0m         \u001b[38;5;66;03m# Encoding\u001b[39;00m\n\u001b[0;32m--> 863\u001b[0m         handle \u001b[38;5;241m=\u001b[39m \u001b[38;5;28mopen\u001b[39m(\n\u001b[1;32m    864\u001b[0m             handle,\n\u001b[1;32m    865\u001b[0m             ioargs\u001b[38;5;241m.\u001b[39mmode,\n\u001b[1;32m    866\u001b[0m             encoding\u001b[38;5;241m=\u001b[39mioargs\u001b[38;5;241m.\u001b[39mencoding,\n\u001b[1;32m    867\u001b[0m             errors\u001b[38;5;241m=\u001b[39merrors,\n\u001b[1;32m    868\u001b[0m             newline\u001b[38;5;241m=\u001b[39m\u001b[38;5;124m\"\u001b[39m\u001b[38;5;124m\"\u001b[39m,\n\u001b[1;32m    869\u001b[0m         )\n\u001b[1;32m    870\u001b[0m     \u001b[38;5;28;01melse\u001b[39;00m:\n\u001b[1;32m    871\u001b[0m         \u001b[38;5;66;03m# Binary mode\u001b[39;00m\n\u001b[1;32m    872\u001b[0m         handle \u001b[38;5;241m=\u001b[39m \u001b[38;5;28mopen\u001b[39m(handle, ioargs\u001b[38;5;241m.\u001b[39mmode)\n",
            "\u001b[0;31mFileNotFoundError\u001b[0m: [Errno 2] No such file or directory: './heart_2020_cleaned.csv'"
          ]
        }
      ],
      "source": [
        "df = pd.read_csv(\"./heart_2020_cleaned.csv\")"
      ]
    },
    {
      "cell_type": "code",
      "execution_count": null,
      "metadata": {
        "id": "wvE3Gs8gLspl"
      },
      "outputs": [],
      "source": [
        "## Configurar Pandas para mostrar todas las columnas\n",
        "pd.set_option('display.max_columns', None)\n",
        "df"
      ]
    },
    {
      "cell_type": "code",
      "execution_count": null,
      "metadata": {
        "id": "RgY3S3WUrxy_"
      },
      "outputs": [],
      "source": [
        "df.info()"
      ]
    },
    {
      "cell_type": "code",
      "execution_count": null,
      "metadata": {
        "id": "bLAEVX5d_mLB"
      },
      "outputs": [],
      "source": [
        "plt.figure(figsize=(10,10))\n",
        "sns.barplot((pd.DataFrame(df.count())/df.shape[0]).reset_index(), x=0, y='index')\n",
        "plt.show()"
      ]
    },
    {
      "cell_type": "code",
      "execution_count": null,
      "metadata": {
        "id": "m15JAFXTBdB9"
      },
      "outputs": [],
      "source": [
        "stats = df.describe()\n",
        "\n",
        "stats"
      ]
    },
    {
      "cell_type": "code",
      "execution_count": null,
      "metadata": {
        "id": "se9CoGtS1oTo"
      },
      "outputs": [],
      "source": [
        "# Funcion para limpiar nombres de columnas de espacios y caracteres especiales\n",
        "\n",
        "def limpiar_nomb_colums(nombre_columna):\n",
        "    nombre_columna = nombre_columna.strip()\n",
        "    nombre_columna = nombre_columna.replace(' ', '_')\n",
        "    nombre_columna = unidecode(nombre_columna)\n",
        "    return nombre_columna\n"
      ]
    },
    {
      "cell_type": "code",
      "execution_count": null,
      "metadata": {
        "id": "JsRCiFxoRTIJ"
      },
      "outputs": [],
      "source": [
        "# Funcion para limpiar los espacios en blanco al inicio y al final\n",
        "\n",
        "def limpiar_espacios_blancos(df):\n",
        "  for columna in df.columns:\n",
        "    df[columna] = df[columna].str.strip()"
      ]
    },
    {
      "cell_type": "code",
      "execution_count": null,
      "metadata": {
        "id": "XvbrsBxQwNxj"
      },
      "outputs": [],
      "source": [
        "# Funcion para cambiar valores None por NaN\n",
        "\n",
        "def llenar_Nan(df):\n",
        "  for columna in df.columns:\n",
        "    df[columna] = df[columna].fillna(np.NaN)"
      ]
    },
    {
      "cell_type": "code",
      "execution_count": null,
      "metadata": {
        "id": "A9Mnq_zwFRg1"
      },
      "outputs": [],
      "source": [
        "df.columns"
      ]
    },
    {
      "cell_type": "code",
      "execution_count": null,
      "metadata": {
        "id": "OSX7RBvTV6tO"
      },
      "outputs": [],
      "source": [
        "## llenar_Nan(df)\n",
        "## df.columns = df.columns.map(limpiar_nomb_colums)\n",
        "## limpiar_espacios_blancos(df)"
      ]
    },
    {
      "cell_type": "code",
      "execution_count": null,
      "metadata": {
        "id": "pYVx7XOC7WPJ"
      },
      "outputs": [],
      "source": [
        "df.columns"
      ]
    },
    {
      "cell_type": "markdown",
      "metadata": {
        "id": "jjA_lW8-1cF6"
      },
      "source": [
        "## Columna: HeartDisease"
      ]
    },
    {
      "cell_type": "code",
      "execution_count": null,
      "metadata": {
        "id": "_90cWtQw8K7X"
      },
      "outputs": [],
      "source": [
        "df['HeartDisease'].unique()"
      ]
    },
    {
      "cell_type": "code",
      "execution_count": null,
      "metadata": {
        "id": "PZ8OZZdoVLKi"
      },
      "outputs": [],
      "source": [
        "df['HeartDisease'].nunique()"
      ]
    },
    {
      "cell_type": "code",
      "execution_count": null,
      "metadata": {
        "id": "lFNRTBgXVf62"
      },
      "outputs": [],
      "source": [
        "fig, axes = plt.subplots(1, 2, figsize = (10,10))\n",
        "\n",
        "sns.countplot(x='HeartDisease', palette='Blues', hue='HeartDisease', data=df, ax=axes[0])\n",
        "plt.pie(df['HeartDisease'].value_counts(), autopct='%1.1f%%', labels=df['HeartDisease'].unique())\n",
        "plt.subplots_adjust(left=0.2)\n",
        "plt.show()"
      ]
    },
    {
      "cell_type": "markdown",
      "metadata": {
        "id": "jtIg5JlH8b1B"
      },
      "source": [
        "## Columna: BMI"
      ]
    },
    {
      "cell_type": "code",
      "execution_count": null,
      "metadata": {
        "id": "DuFgAMo18b1C"
      },
      "outputs": [],
      "source": [
        "df['BMI'].unique()"
      ]
    },
    {
      "cell_type": "code",
      "execution_count": null,
      "metadata": {
        "id": "jjwKcIjuIuFR"
      },
      "outputs": [],
      "source": [
        "df['BMI'].nunique()"
      ]
    },
    {
      "cell_type": "code",
      "execution_count": null,
      "metadata": {
        "id": "eyjXR013IvIW"
      },
      "outputs": [],
      "source": [
        "plt.boxplot(df[\"BMI\"], by=df[\"HeartDisease\"], vert=False)\n",
        "plt.xlabel(\"BMI\")\n",
        "plt.ylabel(\"Heart Disease\")\n",
        "plt.title(\"Distribution of BMI by Heart Disease\")\n",
        "plt.grid(True)\n",
        "plt.show()"
      ]
    },
    {
      "cell_type": "markdown",
      "metadata": {
        "id": "QaTxpCLB8crJ"
      },
      "source": [
        "## Columna: Smoking"
      ]
    },
    {
      "cell_type": "code",
      "execution_count": null,
      "metadata": {
        "id": "EGr1ZU3P8crK"
      },
      "outputs": [],
      "source": [
        "df['Smoking'].unique()"
      ]
    },
    {
      "cell_type": "code",
      "execution_count": null,
      "metadata": {
        "id": "EpyhBdOgI1dR"
      },
      "outputs": [],
      "source": [
        "df['Smoking'].nunique()"
      ]
    },
    {
      "cell_type": "code",
      "execution_count": null,
      "metadata": {
        "id": "_9pG-cVxI1w7"
      },
      "outputs": [],
      "source": [
        "SMxHD = df.groupby([\"Smoking\", \"HeartDisease\"])[\"HeartDisease\"].count().unstack()\n",
        "SMxHD.plot(kind=\"bar\", stacked=False)  # Adjust for stacked or side-by-side bars\n",
        "plt.xlabel(\"Smoking \")\n",
        "plt.ylabel(\"Heart Disease\")\n",
        "plt.title(\"Heart Disease by Smoking\")\n",
        "plt.xticks(rotation=0)\n",
        "plt.grid(axis=\"y\")\n",
        "plt.show()"
      ]
    },
    {
      "cell_type": "markdown",
      "metadata": {
        "id": "-tTATvyM9LPo"
      },
      "source": [
        "## Columna: AlcoholDrinking"
      ]
    },
    {
      "cell_type": "code",
      "execution_count": null,
      "metadata": {
        "id": "CRF0j-wTI2tz"
      },
      "outputs": [],
      "source": [
        "df['AlcoholDrinking'].unique()"
      ]
    },
    {
      "cell_type": "code",
      "execution_count": null,
      "metadata": {
        "id": "XW3TC_4S9LPo"
      },
      "outputs": [],
      "source": [
        "df['AlcoholDrinking'].nunique()"
      ]
    },
    {
      "cell_type": "code",
      "execution_count": null,
      "metadata": {
        "id": "T-pDIqLUI3Xv"
      },
      "outputs": [],
      "source": [
        "ADxHD = df.groupby([\"AlcoholDrinking\", \"HeartDisease\"])[\"HeartDisease\"].count().unstack()\n",
        "ADxHD.plot(kind=\"bar\", stacked=False)  # Adjust for stacked or side-by-side bars\n",
        "plt.xlabel(\"Alcohol Drinking\")\n",
        "plt.ylabel(\"Heart Disease\")\n",
        "plt.title(\"Heart Disease by Alcohol Drinking\")\n",
        "plt.xticks(rotation=0)\n",
        "plt.grid(axis=\"y\")\n",
        "plt.show()"
      ]
    },
    {
      "cell_type": "markdown",
      "metadata": {
        "id": "nUEWcvOK9LcX"
      },
      "source": [
        "## Columna: Stroke"
      ]
    },
    {
      "cell_type": "code",
      "execution_count": null,
      "metadata": {
        "id": "6EoV6K8W9LcX"
      },
      "outputs": [],
      "source": [
        "df['Stroke'].unique()"
      ]
    },
    {
      "cell_type": "code",
      "execution_count": null,
      "metadata": {
        "id": "dlXHEO74I31-"
      },
      "outputs": [],
      "source": [
        "df['Stroke'].nunique()"
      ]
    },
    {
      "cell_type": "code",
      "execution_count": null,
      "metadata": {
        "id": "JgkNgtELI4Qf"
      },
      "outputs": [],
      "source": [
        "STxHD = df.groupby([\"Stroke\", \"HeartDisease\"])[\"HeartDisease\"].count().unstack()\n",
        "STxHD.plot(kind=\"bar\", stacked=False)  # Adjust for stacked or side-by-side bars\n",
        "plt.xlabel(\"Stroke\")\n",
        "plt.ylabel(\"Heart Disease\")\n",
        "plt.title(\"Heart Disease by Stroke\")\n",
        "plt.xticks(rotation=0)\n",
        "plt.grid(axis=\"y\")\n",
        "plt.show()"
      ]
    },
    {
      "cell_type": "markdown",
      "metadata": {
        "id": "Y2na-3o_9Ljw"
      },
      "source": [
        "## Columna: PhysicalHealth"
      ]
    },
    {
      "cell_type": "code",
      "execution_count": null,
      "metadata": {
        "id": "-7WZu73W9Ljx"
      },
      "outputs": [],
      "source": [
        "# Rosalia"
      ]
    },
    {
      "cell_type": "markdown",
      "metadata": {
        "id": "e0hSa83n9LpF"
      },
      "source": [
        "## Columna: MentalHealth"
      ]
    },
    {
      "cell_type": "code",
      "execution_count": null,
      "metadata": {
        "id": "qzd8DAJH9LpF"
      },
      "outputs": [],
      "source": [
        "# Rosalia"
      ]
    },
    {
      "cell_type": "markdown",
      "metadata": {
        "id": "j1OH53-59L2M"
      },
      "source": [
        "## Columna: DiffWalking"
      ]
    },
    {
      "cell_type": "code",
      "execution_count": null,
      "metadata": {
        "id": "ZT9iAOv89L2N"
      },
      "outputs": [],
      "source": [
        "# Rosalia"
      ]
    },
    {
      "cell_type": "markdown",
      "metadata": {
        "id": "Y1kiMiSB9L8F"
      },
      "source": [
        "## Columna: Sex"
      ]
    },
    {
      "cell_type": "code",
      "execution_count": null,
      "metadata": {
        "id": "xGr3CTRv9L8F"
      },
      "outputs": [],
      "source": [
        "# Rosalia"
      ]
    },
    {
      "cell_type": "markdown",
      "metadata": {
        "id": "mnewfxec8TrW"
      },
      "source": [
        "## Columna: AgeCategory"
      ]
    },
    {
      "cell_type": "code",
      "execution_count": null,
      "metadata": {
        "colab": {
          "base_uri": "https://localhost:8080/"
        },
        "id": "Cc2lOe299rrH",
        "outputId": "27d8633d-77eb-4051-8dcf-bdf036740728"
      },
      "outputs": [
        {
          "data": {
            "text/plain": [
              "array(['55-59', '80 or older', '65-69', '75-79', '40-44', '70-74',\n",
              "       '60-64', '50-54', '45-49', '18-24', '35-39', '30-34', '25-29'],\n",
              "      dtype=object)"
            ]
          },
          "execution_count": 10,
          "metadata": {},
          "output_type": "execute_result"
        }
      ],
      "source": [
        "# 2024-07-02 AGM\n",
        "df['AgeCategory'].unique()"
      ]
    },
    {
      "cell_type": "code",
      "execution_count": null,
      "metadata": {
        "colab": {
          "base_uri": "https://localhost:8080/"
        },
        "id": "mFbp-oytVnG1",
        "outputId": "68e6cd0c-50df-4a42-bc52-2fb13612651a"
      },
      "outputs": [
        {
          "name": "stdout",
          "output_type": "stream",
          "text": [
            "<class 'pandas.core.series.Series'>\n",
            "RangeIndex: 28962 entries, 0 to 28961\n",
            "Series name: AgeCategory\n",
            "Non-Null Count  Dtype \n",
            "--------------  ----- \n",
            "28962 non-null  object\n",
            "dtypes: object(1)\n",
            "memory usage: 226.4+ KB\n"
          ]
        }
      ],
      "source": [
        "df['AgeCategory'].info()"
      ]
    },
    {
      "cell_type": "code",
      "execution_count": null,
      "metadata": {
        "colab": {
          "base_uri": "https://localhost:8080/",
          "height": 244
        },
        "id": "MqGxZTz_Vx83",
        "outputId": "cc5353c8-7b10-4809-a405-9a67ee5d11a9"
      },
      "outputs": [
        {
          "data": {
            "application/vnd.google.colaboratory.intrinsic+json": {
              "summary": "{\n  \"name\": \"df_age_category\",\n  \"rows\": 5,\n  \"fields\": [\n    {\n      \"column\": \"AgeCategory_18-24\",\n      \"properties\": {\n        \"dtype\": \"number\",\n        \"std\": 0.44721359549995804,\n        \"min\": 0.0,\n        \"max\": 1.0,\n        \"num_unique_values\": 2,\n        \"samples\": [\n          1.0,\n          0.0\n        ],\n        \"semantic_type\": \"\",\n        \"description\": \"\"\n      }\n    },\n    {\n      \"column\": \"AgeCategory_25-29\",\n      \"properties\": {\n        \"dtype\": \"number\",\n        \"std\": 0.0,\n        \"min\": 0.0,\n        \"max\": 0.0,\n        \"num_unique_values\": 1,\n        \"samples\": [\n          0.0\n        ],\n        \"semantic_type\": \"\",\n        \"description\": \"\"\n      }\n    },\n    {\n      \"column\": \"AgeCategory_30-34\",\n      \"properties\": {\n        \"dtype\": \"number\",\n        \"std\": 0.0,\n        \"min\": 0.0,\n        \"max\": 0.0,\n        \"num_unique_values\": 1,\n        \"samples\": [\n          0.0\n        ],\n        \"semantic_type\": \"\",\n        \"description\": \"\"\n      }\n    },\n    {\n      \"column\": \"AgeCategory_35-39\",\n      \"properties\": {\n        \"dtype\": \"number\",\n        \"std\": 0.447213595499958,\n        \"min\": 0.0,\n        \"max\": 1.0,\n        \"num_unique_values\": 2,\n        \"samples\": [\n          1.0\n        ],\n        \"semantic_type\": \"\",\n        \"description\": \"\"\n      }\n    },\n    {\n      \"column\": \"AgeCategory_40-44\",\n      \"properties\": {\n        \"dtype\": \"number\",\n        \"std\": 0.0,\n        \"min\": 0.0,\n        \"max\": 0.0,\n        \"num_unique_values\": 1,\n        \"samples\": [\n          0.0\n        ],\n        \"semantic_type\": \"\",\n        \"description\": \"\"\n      }\n    },\n    {\n      \"column\": \"AgeCategory_45-49\",\n      \"properties\": {\n        \"dtype\": \"number\",\n        \"std\": 0.0,\n        \"min\": 0.0,\n        \"max\": 0.0,\n        \"num_unique_values\": 1,\n        \"samples\": [\n          0.0\n        ],\n        \"semantic_type\": \"\",\n        \"description\": \"\"\n      }\n    },\n    {\n      \"column\": \"AgeCategory_50-54\",\n      \"properties\": {\n        \"dtype\": \"number\",\n        \"std\": 0.0,\n        \"min\": 0.0,\n        \"max\": 0.0,\n        \"num_unique_values\": 1,\n        \"samples\": [\n          0.0\n        ],\n        \"semantic_type\": \"\",\n        \"description\": \"\"\n      }\n    },\n    {\n      \"column\": \"AgeCategory_55-59\",\n      \"properties\": {\n        \"dtype\": \"number\",\n        \"std\": 0.44721359549995804,\n        \"min\": 0.0,\n        \"max\": 1.0,\n        \"num_unique_values\": 2,\n        \"samples\": [\n          1.0\n        ],\n        \"semantic_type\": \"\",\n        \"description\": \"\"\n      }\n    },\n    {\n      \"column\": \"AgeCategory_60-64\",\n      \"properties\": {\n        \"dtype\": \"number\",\n        \"std\": 0.0,\n        \"min\": 0.0,\n        \"max\": 0.0,\n        \"num_unique_values\": 1,\n        \"samples\": [\n          0.0\n        ],\n        \"semantic_type\": \"\",\n        \"description\": \"\"\n      }\n    },\n    {\n      \"column\": \"AgeCategory_65-69\",\n      \"properties\": {\n        \"dtype\": \"number\",\n        \"std\": 0.44721359549995804,\n        \"min\": 0.0,\n        \"max\": 1.0,\n        \"num_unique_values\": 2,\n        \"samples\": [\n          0.0\n        ],\n        \"semantic_type\": \"\",\n        \"description\": \"\"\n      }\n    },\n    {\n      \"column\": \"AgeCategory_70-74\",\n      \"properties\": {\n        \"dtype\": \"number\",\n        \"std\": 0.0,\n        \"min\": 0.0,\n        \"max\": 0.0,\n        \"num_unique_values\": 1,\n        \"samples\": [\n          0.0\n        ],\n        \"semantic_type\": \"\",\n        \"description\": \"\"\n      }\n    },\n    {\n      \"column\": \"AgeCategory_75-79\",\n      \"properties\": {\n        \"dtype\": \"number\",\n        \"std\": 0.0,\n        \"min\": 0.0,\n        \"max\": 0.0,\n        \"num_unique_values\": 1,\n        \"samples\": [\n          0.0\n        ],\n        \"semantic_type\": \"\",\n        \"description\": \"\"\n      }\n    },\n    {\n      \"column\": \"AgeCategory_80 or older\",\n      \"properties\": {\n        \"dtype\": \"number\",\n        \"std\": 0.447213595499958,\n        \"min\": 0.0,\n        \"max\": 1.0,\n        \"num_unique_values\": 2,\n        \"samples\": [\n          1.0\n        ],\n        \"semantic_type\": \"\",\n        \"description\": \"\"\n      }\n    }\n  ]\n}",
              "type": "dataframe"
            },
            "text/html": [
              "\n",
              "  <div id=\"df-83643bc8-4da2-42c4-a6d6-5a7faa7e6eaf\" class=\"colab-df-container\">\n",
              "    <div>\n",
              "<style scoped>\n",
              "    .dataframe tbody tr th:only-of-type {\n",
              "        vertical-align: middle;\n",
              "    }\n",
              "\n",
              "    .dataframe tbody tr th {\n",
              "        vertical-align: top;\n",
              "    }\n",
              "\n",
              "    .dataframe thead th {\n",
              "        text-align: right;\n",
              "    }\n",
              "</style>\n",
              "<table border=\"1\" class=\"dataframe\">\n",
              "  <thead>\n",
              "    <tr style=\"text-align: right;\">\n",
              "      <th></th>\n",
              "      <th>AgeCategory_18-24</th>\n",
              "      <th>AgeCategory_25-29</th>\n",
              "      <th>AgeCategory_30-34</th>\n",
              "      <th>AgeCategory_35-39</th>\n",
              "      <th>AgeCategory_40-44</th>\n",
              "      <th>AgeCategory_45-49</th>\n",
              "      <th>AgeCategory_50-54</th>\n",
              "      <th>AgeCategory_55-59</th>\n",
              "      <th>AgeCategory_60-64</th>\n",
              "      <th>AgeCategory_65-69</th>\n",
              "      <th>AgeCategory_70-74</th>\n",
              "      <th>AgeCategory_75-79</th>\n",
              "      <th>AgeCategory_80 or older</th>\n",
              "    </tr>\n",
              "  </thead>\n",
              "  <tbody>\n",
              "    <tr>\n",
              "      <th>10323</th>\n",
              "      <td>0.0</td>\n",
              "      <td>0.0</td>\n",
              "      <td>0.0</td>\n",
              "      <td>0.0</td>\n",
              "      <td>0.0</td>\n",
              "      <td>0.0</td>\n",
              "      <td>0.0</td>\n",
              "      <td>0.0</td>\n",
              "      <td>0.0</td>\n",
              "      <td>1.0</td>\n",
              "      <td>0.0</td>\n",
              "      <td>0.0</td>\n",
              "      <td>0.0</td>\n",
              "    </tr>\n",
              "    <tr>\n",
              "      <th>21877</th>\n",
              "      <td>1.0</td>\n",
              "      <td>0.0</td>\n",
              "      <td>0.0</td>\n",
              "      <td>0.0</td>\n",
              "      <td>0.0</td>\n",
              "      <td>0.0</td>\n",
              "      <td>0.0</td>\n",
              "      <td>0.0</td>\n",
              "      <td>0.0</td>\n",
              "      <td>0.0</td>\n",
              "      <td>0.0</td>\n",
              "      <td>0.0</td>\n",
              "      <td>0.0</td>\n",
              "    </tr>\n",
              "    <tr>\n",
              "      <th>1729</th>\n",
              "      <td>0.0</td>\n",
              "      <td>0.0</td>\n",
              "      <td>0.0</td>\n",
              "      <td>0.0</td>\n",
              "      <td>0.0</td>\n",
              "      <td>0.0</td>\n",
              "      <td>0.0</td>\n",
              "      <td>1.0</td>\n",
              "      <td>0.0</td>\n",
              "      <td>0.0</td>\n",
              "      <td>0.0</td>\n",
              "      <td>0.0</td>\n",
              "      <td>0.0</td>\n",
              "    </tr>\n",
              "    <tr>\n",
              "      <th>9636</th>\n",
              "      <td>0.0</td>\n",
              "      <td>0.0</td>\n",
              "      <td>0.0</td>\n",
              "      <td>1.0</td>\n",
              "      <td>0.0</td>\n",
              "      <td>0.0</td>\n",
              "      <td>0.0</td>\n",
              "      <td>0.0</td>\n",
              "      <td>0.0</td>\n",
              "      <td>0.0</td>\n",
              "      <td>0.0</td>\n",
              "      <td>0.0</td>\n",
              "      <td>0.0</td>\n",
              "    </tr>\n",
              "    <tr>\n",
              "      <th>24738</th>\n",
              "      <td>0.0</td>\n",
              "      <td>0.0</td>\n",
              "      <td>0.0</td>\n",
              "      <td>0.0</td>\n",
              "      <td>0.0</td>\n",
              "      <td>0.0</td>\n",
              "      <td>0.0</td>\n",
              "      <td>0.0</td>\n",
              "      <td>0.0</td>\n",
              "      <td>0.0</td>\n",
              "      <td>0.0</td>\n",
              "      <td>0.0</td>\n",
              "      <td>1.0</td>\n",
              "    </tr>\n",
              "  </tbody>\n",
              "</table>\n",
              "</div>\n",
              "    <div class=\"colab-df-buttons\">\n",
              "\n",
              "  <div class=\"colab-df-container\">\n",
              "    <button class=\"colab-df-convert\" onclick=\"convertToInteractive('df-83643bc8-4da2-42c4-a6d6-5a7faa7e6eaf')\"\n",
              "            title=\"Convert this dataframe to an interactive table.\"\n",
              "            style=\"display:none;\">\n",
              "\n",
              "  <svg xmlns=\"http://www.w3.org/2000/svg\" height=\"24px\" viewBox=\"0 -960 960 960\">\n",
              "    <path d=\"M120-120v-720h720v720H120Zm60-500h600v-160H180v160Zm220 220h160v-160H400v160Zm0 220h160v-160H400v160ZM180-400h160v-160H180v160Zm440 0h160v-160H620v160ZM180-180h160v-160H180v160Zm440 0h160v-160H620v160Z\"/>\n",
              "  </svg>\n",
              "    </button>\n",
              "\n",
              "  <style>\n",
              "    .colab-df-container {\n",
              "      display:flex;\n",
              "      gap: 12px;\n",
              "    }\n",
              "\n",
              "    .colab-df-convert {\n",
              "      background-color: #E8F0FE;\n",
              "      border: none;\n",
              "      border-radius: 50%;\n",
              "      cursor: pointer;\n",
              "      display: none;\n",
              "      fill: #1967D2;\n",
              "      height: 32px;\n",
              "      padding: 0 0 0 0;\n",
              "      width: 32px;\n",
              "    }\n",
              "\n",
              "    .colab-df-convert:hover {\n",
              "      background-color: #E2EBFA;\n",
              "      box-shadow: 0px 1px 2px rgba(60, 64, 67, 0.3), 0px 1px 3px 1px rgba(60, 64, 67, 0.15);\n",
              "      fill: #174EA6;\n",
              "    }\n",
              "\n",
              "    .colab-df-buttons div {\n",
              "      margin-bottom: 4px;\n",
              "    }\n",
              "\n",
              "    [theme=dark] .colab-df-convert {\n",
              "      background-color: #3B4455;\n",
              "      fill: #D2E3FC;\n",
              "    }\n",
              "\n",
              "    [theme=dark] .colab-df-convert:hover {\n",
              "      background-color: #434B5C;\n",
              "      box-shadow: 0px 1px 3px 1px rgba(0, 0, 0, 0.15);\n",
              "      filter: drop-shadow(0px 1px 2px rgba(0, 0, 0, 0.3));\n",
              "      fill: #FFFFFF;\n",
              "    }\n",
              "  </style>\n",
              "\n",
              "    <script>\n",
              "      const buttonEl =\n",
              "        document.querySelector('#df-83643bc8-4da2-42c4-a6d6-5a7faa7e6eaf button.colab-df-convert');\n",
              "      buttonEl.style.display =\n",
              "        google.colab.kernel.accessAllowed ? 'block' : 'none';\n",
              "\n",
              "      async function convertToInteractive(key) {\n",
              "        const element = document.querySelector('#df-83643bc8-4da2-42c4-a6d6-5a7faa7e6eaf');\n",
              "        const dataTable =\n",
              "          await google.colab.kernel.invokeFunction('convertToInteractive',\n",
              "                                                    [key], {});\n",
              "        if (!dataTable) return;\n",
              "\n",
              "        const docLinkHtml = 'Like what you see? Visit the ' +\n",
              "          '<a target=\"_blank\" href=https://colab.research.google.com/notebooks/data_table.ipynb>data table notebook</a>'\n",
              "          + ' to learn more about interactive tables.';\n",
              "        element.innerHTML = '';\n",
              "        dataTable['output_type'] = 'display_data';\n",
              "        await google.colab.output.renderOutput(dataTable, element);\n",
              "        const docLink = document.createElement('div');\n",
              "        docLink.innerHTML = docLinkHtml;\n",
              "        element.appendChild(docLink);\n",
              "      }\n",
              "    </script>\n",
              "  </div>\n",
              "\n",
              "\n",
              "<div id=\"df-0d580f1f-e9fa-4ce9-af85-145644b8cedc\">\n",
              "  <button class=\"colab-df-quickchart\" onclick=\"quickchart('df-0d580f1f-e9fa-4ce9-af85-145644b8cedc')\"\n",
              "            title=\"Suggest charts\"\n",
              "            style=\"display:none;\">\n",
              "\n",
              "<svg xmlns=\"http://www.w3.org/2000/svg\" height=\"24px\"viewBox=\"0 0 24 24\"\n",
              "     width=\"24px\">\n",
              "    <g>\n",
              "        <path d=\"M19 3H5c-1.1 0-2 .9-2 2v14c0 1.1.9 2 2 2h14c1.1 0 2-.9 2-2V5c0-1.1-.9-2-2-2zM9 17H7v-7h2v7zm4 0h-2V7h2v10zm4 0h-2v-4h2v4z\"/>\n",
              "    </g>\n",
              "</svg>\n",
              "  </button>\n",
              "\n",
              "<style>\n",
              "  .colab-df-quickchart {\n",
              "      --bg-color: #E8F0FE;\n",
              "      --fill-color: #1967D2;\n",
              "      --hover-bg-color: #E2EBFA;\n",
              "      --hover-fill-color: #174EA6;\n",
              "      --disabled-fill-color: #AAA;\n",
              "      --disabled-bg-color: #DDD;\n",
              "  }\n",
              "\n",
              "  [theme=dark] .colab-df-quickchart {\n",
              "      --bg-color: #3B4455;\n",
              "      --fill-color: #D2E3FC;\n",
              "      --hover-bg-color: #434B5C;\n",
              "      --hover-fill-color: #FFFFFF;\n",
              "      --disabled-bg-color: #3B4455;\n",
              "      --disabled-fill-color: #666;\n",
              "  }\n",
              "\n",
              "  .colab-df-quickchart {\n",
              "    background-color: var(--bg-color);\n",
              "    border: none;\n",
              "    border-radius: 50%;\n",
              "    cursor: pointer;\n",
              "    display: none;\n",
              "    fill: var(--fill-color);\n",
              "    height: 32px;\n",
              "    padding: 0;\n",
              "    width: 32px;\n",
              "  }\n",
              "\n",
              "  .colab-df-quickchart:hover {\n",
              "    background-color: var(--hover-bg-color);\n",
              "    box-shadow: 0 1px 2px rgba(60, 64, 67, 0.3), 0 1px 3px 1px rgba(60, 64, 67, 0.15);\n",
              "    fill: var(--button-hover-fill-color);\n",
              "  }\n",
              "\n",
              "  .colab-df-quickchart-complete:disabled,\n",
              "  .colab-df-quickchart-complete:disabled:hover {\n",
              "    background-color: var(--disabled-bg-color);\n",
              "    fill: var(--disabled-fill-color);\n",
              "    box-shadow: none;\n",
              "  }\n",
              "\n",
              "  .colab-df-spinner {\n",
              "    border: 2px solid var(--fill-color);\n",
              "    border-color: transparent;\n",
              "    border-bottom-color: var(--fill-color);\n",
              "    animation:\n",
              "      spin 1s steps(1) infinite;\n",
              "  }\n",
              "\n",
              "  @keyframes spin {\n",
              "    0% {\n",
              "      border-color: transparent;\n",
              "      border-bottom-color: var(--fill-color);\n",
              "      border-left-color: var(--fill-color);\n",
              "    }\n",
              "    20% {\n",
              "      border-color: transparent;\n",
              "      border-left-color: var(--fill-color);\n",
              "      border-top-color: var(--fill-color);\n",
              "    }\n",
              "    30% {\n",
              "      border-color: transparent;\n",
              "      border-left-color: var(--fill-color);\n",
              "      border-top-color: var(--fill-color);\n",
              "      border-right-color: var(--fill-color);\n",
              "    }\n",
              "    40% {\n",
              "      border-color: transparent;\n",
              "      border-right-color: var(--fill-color);\n",
              "      border-top-color: var(--fill-color);\n",
              "    }\n",
              "    60% {\n",
              "      border-color: transparent;\n",
              "      border-right-color: var(--fill-color);\n",
              "    }\n",
              "    80% {\n",
              "      border-color: transparent;\n",
              "      border-right-color: var(--fill-color);\n",
              "      border-bottom-color: var(--fill-color);\n",
              "    }\n",
              "    90% {\n",
              "      border-color: transparent;\n",
              "      border-bottom-color: var(--fill-color);\n",
              "    }\n",
              "  }\n",
              "</style>\n",
              "\n",
              "  <script>\n",
              "    async function quickchart(key) {\n",
              "      const quickchartButtonEl =\n",
              "        document.querySelector('#' + key + ' button');\n",
              "      quickchartButtonEl.disabled = true;  // To prevent multiple clicks.\n",
              "      quickchartButtonEl.classList.add('colab-df-spinner');\n",
              "      try {\n",
              "        const charts = await google.colab.kernel.invokeFunction(\n",
              "            'suggestCharts', [key], {});\n",
              "      } catch (error) {\n",
              "        console.error('Error during call to suggestCharts:', error);\n",
              "      }\n",
              "      quickchartButtonEl.classList.remove('colab-df-spinner');\n",
              "      quickchartButtonEl.classList.add('colab-df-quickchart-complete');\n",
              "    }\n",
              "    (() => {\n",
              "      let quickchartButtonEl =\n",
              "        document.querySelector('#df-0d580f1f-e9fa-4ce9-af85-145644b8cedc button');\n",
              "      quickchartButtonEl.style.display =\n",
              "        google.colab.kernel.accessAllowed ? 'block' : 'none';\n",
              "    })();\n",
              "  </script>\n",
              "</div>\n",
              "\n",
              "    </div>\n",
              "  </div>\n"
            ],
            "text/plain": [
              "       AgeCategory_18-24  AgeCategory_25-29  AgeCategory_30-34  \\\n",
              "10323                0.0                0.0                0.0   \n",
              "21877                1.0                0.0                0.0   \n",
              "1729                 0.0                0.0                0.0   \n",
              "9636                 0.0                0.0                0.0   \n",
              "24738                0.0                0.0                0.0   \n",
              "\n",
              "       AgeCategory_35-39  AgeCategory_40-44  AgeCategory_45-49  \\\n",
              "10323                0.0                0.0                0.0   \n",
              "21877                0.0                0.0                0.0   \n",
              "1729                 0.0                0.0                0.0   \n",
              "9636                 1.0                0.0                0.0   \n",
              "24738                0.0                0.0                0.0   \n",
              "\n",
              "       AgeCategory_50-54  AgeCategory_55-59  AgeCategory_60-64  \\\n",
              "10323                0.0                0.0                0.0   \n",
              "21877                0.0                0.0                0.0   \n",
              "1729                 0.0                1.0                0.0   \n",
              "9636                 0.0                0.0                0.0   \n",
              "24738                0.0                0.0                0.0   \n",
              "\n",
              "       AgeCategory_65-69  AgeCategory_70-74  AgeCategory_75-79  \\\n",
              "10323                1.0                0.0                0.0   \n",
              "21877                0.0                0.0                0.0   \n",
              "1729                 0.0                0.0                0.0   \n",
              "9636                 0.0                0.0                0.0   \n",
              "24738                0.0                0.0                0.0   \n",
              "\n",
              "       AgeCategory_80 or older  \n",
              "10323                      0.0  \n",
              "21877                      0.0  \n",
              "1729                       0.0  \n",
              "9636                       0.0  \n",
              "24738                      1.0  "
            ]
          },
          "execution_count": 15,
          "metadata": {},
          "output_type": "execute_result"
        }
      ],
      "source": [
        "one_hot_encoder = OneHotEncoder(drop = None, sparse_output = False)\n",
        "tabla = one_hot_encoder.fit_transform(df[['AgeCategory']])\n",
        "df_age_category = pd.DataFrame(tabla, columns = one_hot_encoder.get_feature_names_out(['AgeCategory']))\n",
        "df_age_category.sample(5)"
      ]
    },
    {
      "cell_type": "code",
      "execution_count": null,
      "metadata": {
        "colab": {
          "base_uri": "https://localhost:8080/"
        },
        "id": "NrxA9_nzV2K4",
        "outputId": "2e805624-d7fc-4e18-a897-3324acb55202"
      },
      "outputs": [
        {
          "data": {
            "text/plain": [
              "AgeCategory_18-24          int64\n",
              "AgeCategory_25-29          int64\n",
              "AgeCategory_30-34          int64\n",
              "AgeCategory_35-39          int64\n",
              "AgeCategory_40-44          int64\n",
              "AgeCategory_45-49          int64\n",
              "AgeCategory_50-54          int64\n",
              "AgeCategory_55-59          int64\n",
              "AgeCategory_60-64          int64\n",
              "AgeCategory_65-69          int64\n",
              "AgeCategory_70-74          int64\n",
              "AgeCategory_75-79          int64\n",
              "AgeCategory_80 or older    int64\n",
              "dtype: object"
            ]
          },
          "execution_count": 16,
          "metadata": {},
          "output_type": "execute_result"
        }
      ],
      "source": [
        "df_age_category = df_age_category.astype(int)\n",
        "df_age_category.dtypes"
      ]
    },
    {
      "cell_type": "code",
      "execution_count": null,
      "metadata": {
        "colab": {
          "base_uri": "https://localhost:8080/",
          "height": 607
        },
        "id": "RBl1s-pHV8Wy",
        "outputId": "c5515e4d-f9cd-4c6f-d75a-c8884a483053"
      },
      "outputs": [
        {
          "data": {
            "image/png": "[encoded data removed]",
            "text/plain": [
              "<Figure size 1000x600 with 1 Axes>"
            ]
          },
          "metadata": {},
          "output_type": "display_data"
        }
      ],
      "source": [
        "suma_edades = df_age_category.sum(axis = 0)\n",
        "\n",
        "plt.figure(figsize=(10, 6))\n",
        "plt.bar(suma_edades.index, suma_edades.values)\n",
        "plt.title('Distribución por Franjas de Edad')\n",
        "plt.xlabel('Categoría de Edad')\n",
        "plt.ylabel('Número')\n",
        "plt.xticks(rotation=45)\n",
        "plt.tight_layout()\n",
        "\n",
        "plt.show()"
      ]
    },
    {
      "cell_type": "markdown",
      "metadata": {
        "id": "A9uatJEP9uos"
      },
      "source": [
        "## Columna: Race"
      ]
    },
    {
      "cell_type": "code",
      "execution_count": null,
      "metadata": {
        "id": "DwnGWGal9uoy"
      },
      "outputs": [],
      "source": [
        "# Alexia"
      ]
    },
    {
      "cell_type": "markdown",
      "metadata": {
        "id": "YVSBLMmK9u1n"
      },
      "source": [
        "## Columna: Diabetic"
      ]
    },
    {
      "cell_type": "code",
      "execution_count": null,
      "metadata": {
        "id": "-Rqs2xll9u1n"
      },
      "outputs": [],
      "source": [
        "# Alexia"
      ]
    },
    {
      "cell_type": "markdown",
      "metadata": {
        "id": "1rBzdrO-9u7r"
      },
      "source": [
        "## Columna: PhysicalActivity"
      ]
    },
    {
      "cell_type": "code",
      "execution_count": null,
      "metadata": {
        "id": "npogNU7T9u7s"
      },
      "outputs": [],
      "source": [
        "# Alexia"
      ]
    },
    {
      "cell_type": "markdown",
      "metadata": {
        "id": "Csr9mw7n9vDR"
      },
      "source": [
        "## Columna: GenHealth"
      ]
    },
    {
      "cell_type": "code",
      "execution_count": null,
      "metadata": {
        "id": "w5GwQymG9vDS"
      },
      "outputs": [],
      "source": [
        "df['GenHealth'].unique()"
      ]
    },
    {
      "cell_type": "code",
      "execution_count": null,
      "metadata": {
        "id": "vfy6M8xllb7u"
      },
      "outputs": [],
      "source": [
        "df['GenHealth'].nunique()"
      ]
    },
    {
      "cell_type": "code",
      "execution_count": null,
      "metadata": {
        "id": "NrvMfr1XloM1"
      },
      "outputs": [],
      "source": [
        "def health_clasification(x):\n",
        "  if x == None:\n",
        "    return np.nan\n",
        "\n",
        "  x = x.strip()\n",
        "\n",
        "  if x == 'Poor':\n",
        "    return 0\n",
        "  elif x == 'Fair':\n",
        "    return 1\n",
        "  elif x == 'Good':\n",
        "    return 2\n",
        "  elif x == 'Very good':\n",
        "    return 3\n",
        "  elif x == 'Excellent':\n",
        "    return 4"
      ]
    },
    {
      "cell_type": "code",
      "execution_count": null,
      "metadata": {
        "id": "q3oM4zJipL5X"
      },
      "outputs": [],
      "source": [
        "df['GenHealth'] = df['GenHealth'].apply(health_clasification)"
      ]
    },
    {
      "cell_type": "code",
      "execution_count": null,
      "metadata": {
        "id": "MEcpJGVQpoEm"
      },
      "outputs": [],
      "source": [
        "df['GenHealth'].unique()"
      ]
    },
    {
      "cell_type": "code",
      "execution_count": null,
      "metadata": {
        "id": "ie6hoUdiqUqK"
      },
      "outputs": [],
      "source": [
        "# Graficos 'GenHealth'\n",
        "\n",
        "fig, axes = plt.subplots(1, 4, figsize=(16, 5))\n",
        "\n",
        "sns.countplot(x='GenHealth', data=df, hue='GenHealth', palette='husl', ax=axes[0])\n",
        "df_agrupado = df.groupby(['GenHealth', 'HeartDisease']).size().unstack()\n",
        "df_agrupado.plot(kind='bar', stacked=False, ax=axes[1])\n",
        "sns.boxplot(x='HeartDisease', y='GenHealth', data=df, hue='HeartDisease', palette='husl', ax=axes[2])\n",
        "sns.violinplot(x='HeartDisease', y='GenHealth', data=df, hue='HeartDisease', palette='husl', ax=axes[3])"
      ]
    },
    {
      "cell_type": "markdown",
      "metadata": {
        "id": "cDf8I7UD9vQa"
      },
      "source": [
        "## Columna: SleepTime"
      ]
    },
    {
      "cell_type": "code",
      "execution_count": null,
      "metadata": {
        "id": "pfPquocqlaxK"
      },
      "outputs": [],
      "source": [
        "df['SleepTime'].unique()"
      ]
    },
    {
      "cell_type": "code",
      "execution_count": null,
      "metadata": {
        "id": "d6rxzPlC9vQb"
      },
      "outputs": [],
      "source": [
        "df['SleepTime'].nunique()"
      ]
    },
    {
      "cell_type": "code",
      "execution_count": null,
      "metadata": {
        "id": "floC1d2YAS93"
      },
      "outputs": [],
      "source": [
        "# Graficos 'GenHealth'\n",
        "\n",
        "fig, axes = plt.subplots(1, 4, figsize=(16, 5))\n",
        "\n",
        "sns.countplot(x='SleepTime', data=df, hue='SleepTime', palette='husl', ax=axes[0])\n",
        "df_agrupado = df.groupby(['SleepTime', 'HeartDisease']).size().unstack()\n",
        "df_agrupado.plot(kind='bar', stacked=False, ax=axes[1])\n",
        "sns.boxplot(x='HeartDisease', y='SleepTime', data=df, hue='HeartDisease', palette='husl', ax=axes[2])\n",
        "sns.violinplot(x='HeartDisease', y='SleepTime', data=df, hue='HeartDisease', palette='husl', ax=axes[3])"
      ]
    },
    {
      "cell_type": "markdown",
      "metadata": {
        "id": "aa9fBzDJ-NzC"
      },
      "source": [
        "## Columna: Asthma"
      ]
    },
    {
      "cell_type": "code",
      "execution_count": null,
      "metadata": {
        "id": "16a4tshM-NzI"
      },
      "outputs": [],
      "source": [
        "df['Asthma'].unique()"
      ]
    },
    {
      "cell_type": "markdown",
      "metadata": {
        "id": "lIXplPGa-OQ4"
      },
      "source": [
        "## Columna: KidneyDisease"
      ]
    },
    {
      "cell_type": "code",
      "execution_count": null,
      "metadata": {
        "id": "pnRZYCKy-OQ4"
      },
      "outputs": [],
      "source": [
        "df['KidneyDisease'].unique()"
      ]
    },
    {
      "cell_type": "markdown",
      "metadata": {
        "id": "4KLwmT2a-dxu"
      },
      "source": [
        "## Columna: SkinCancer"
      ]
    },
    {
      "cell_type": "code",
      "execution_count": null,
      "metadata": {
        "id": "QI_mAcXm-dx8"
      },
      "outputs": [],
      "source": [
        "df['SkinCancer'].unique()"
      ]
    },
    {
      "cell_type": "markdown",
      "metadata": {
        "id": "LKx2O8e4pNzL"
      },
      "source": [
        "# Exploratory Data Analysis (EDA)"
      ]
    },
    {
      "cell_type": "code",
      "execution_count": null,
      "metadata": {
        "id": "zRCtBDrGqE66"
      },
      "outputs": [],
      "source": [
        "print(\"Valores únicos para variables categóricas:\")\n",
        "for columna in df.select_dtypes(include = 'object').columns:\n",
        "    print(f\"Columna '{columna}':\")\n",
        "    print(df[columna].value_counts())"
      ]
    },
    {
      "cell_type": "code",
      "execution_count": null,
      "metadata": {
        "id": "gujlOA70pwL8"
      },
      "outputs": [],
      "source": [
        "# Distribución de la variable HeartDisease\n",
        "\n",
        "import matplotlib.pyplot as plt\n",
        "import seaborn as sns\n",
        "\n",
        "plt.figure(figsize = (8, 6))\n",
        "sns.countplot(x = 'HeartDisease', data = df)\n",
        "plt.title('Distribución de la variable HeartDisease')\n",
        "plt.show()"
      ]
    },
    {
      "cell_type": "code",
      "execution_count": null,
      "metadata": {
        "id": "rDrtRq3S4gL8"
      },
      "outputs": [],
      "source": [
        "# Distribución de variables categóricas\n",
        "\n",
        "columnas_categoricas = ['Smoking', 'AlcoholDrinking', 'Stroke', 'DiffWalking', 'Sex', 'AgeCategory', 'Race', 'Diabetic', 'PhysicalActivity', 'GenHealth', 'Asthma', 'KidneyDisease', 'SkinCancer']\n",
        "\n",
        "plt.figure(figsize = (20, 20))\n",
        "for i, col in enumerate(columnas_categoricas, 1):\n",
        "    plt.subplot(5, 3, i)\n",
        "    sns.countplot(x = col, data = df)\n",
        "    plt.title(f'Distribución de {col}')\n",
        "    plt.xticks(rotation = 90)\n",
        "plt.tight_layout()\n",
        "plt.show()"
      ]
    },
    {
      "cell_type": "code",
      "execution_count": null,
      "metadata": {
        "id": "rnm8OgE04gSv"
      },
      "outputs": [],
      "source": [
        "# Distribución de las variables numéricas\n",
        "\n",
        "columnas_numericas = ['BMI', 'PhysicalHealth', 'MentalHealth', 'SleepTime']\n",
        "\n",
        "plt.figure(figsize = (20, 10))\n",
        "for i, col in enumerate(columnas_numericas, 1):\n",
        "    plt.subplot(2, 2, i)\n",
        "    sns.histplot(df[col], kde = True)\n",
        "    plt.title(f'Distribución de {col}')\n",
        "plt.tight_layout()\n",
        "plt.show()"
      ]
    },
    {
      "cell_type": "code",
      "execution_count": null,
      "metadata": {
        "id": "KQy0TH4J4gWw"
      },
      "outputs": [],
      "source": [
        "# Relación entre variables\n",
        "\n",
        "# Relación entre variables categóricas y HeartDisease\n",
        "plt.figure(figsize = (20, 20))\n",
        "for i, col in enumerate(columnas_categoricas, 1):\n",
        "    plt.subplot(5, 3, i)\n",
        "    sns.countplot(x = col, hue = 'HeartDisease', data = df)\n",
        "    plt.title(f'Relación entre {col} y HeartDisease')\n",
        "    plt.xticks(rotation = 90)\n",
        "plt.tight_layout()\n",
        "plt.show()\n",
        "\n",
        "# Relación entre variables numéricas y HeartDisease\n",
        "plt.figure(figsize = (20, 10))\n",
        "for i, col in enumerate(columnas_numericas, 1):\n",
        "    plt.subplot(2, 2, i)\n",
        "    sns.boxplot(x = 'HeartDisease', y = col, data = df)\n",
        "    plt.title(f'Relación entre {col} y HeartDisease')\n",
        "plt.tight_layout()\n",
        "plt.show()"
      ]
    },
    {
      "cell_type": "code",
      "execution_count": null,
      "metadata": {
        "id": "uBbi0fqw4gZl"
      },
      "outputs": [],
      "source": []
    },
    {
      "cell_type": "code",
      "execution_count": null,
      "metadata": {
        "id": "hzQfRAUa4gdH"
      },
      "outputs": [],
      "source": []
    },
    {
      "cell_type": "markdown",
      "metadata": {
        "id": "bgHMlyYPZYMy"
      },
      "source": [
        "# 04. Modelos, Métricas y Métodos de Validación"
      ]
    },
    {
      "cell_type": "markdown",
      "metadata": {
        "id": "0sbXf_HspI66"
      },
      "source": [
        "En esta etapa vamos a implementar los modelos de Machine Learning que se adecuen mejor al problema y como consecuencia las métricas de cada modelo.\n",
        "\n",
        "*  Primero vamos a entrenar diferentes modelos y calcular todas las métricas y dependiendo de la naturaleza del problema vamos a seleccionar el modelo que mejor desempeño tiene, utilizando los 3 métodos de validación.\n",
        "\n",
        "*  Luego vamos a hacerle \"Tuning\" con GridSearchCV para encontrar los mejores parámetros para el modelo.\n",
        "\n",
        "En caso de estar haciendo un Algoritmo Genético o un Recomendador el objetivo de esta parte deberá ser el de mejorar el modelo para que sea más eficiente."
      ]
    },
    {
      "cell_type": "code",
      "execution_count": null,
      "metadata": {
        "id": "nNxfTanMO2x1"
      },
      "outputs": [],
      "source": [
        "# 2024-07-01 AGM Subo la parte de ML :) <<-- todos los comentarios son eliminables luego ;)\n",
        "\n",
        "# 2024-07-01 AGM Vemos cinco filas al azar.\n",
        "\n",
        "df.sample(5)"
      ]
    },
    {
      "cell_type": "code",
      "execution_count": null,
      "metadata": {
        "id": "GXBewYo6Q3bE"
      },
      "outputs": [],
      "source": [
        "# 2024-07-01 AGM Esta parte es para dejar el dataframe listo para ML, luego movemos esta parte. Lo que quiero para entrenar los modelos es dejar el dataframe con las columnas Yes/No a 1/0, y hacer OneHotEncoding para las que tienen varios valores.\n",
        "\n",
        "# 2024-07-01 AGM Lo primero, hacemos una copia del dataframe.\n",
        "\n",
        "df_ml = df.copy()\n",
        "df_ml.sample(5)"
      ]
    },
    {
      "cell_type": "code",
      "execution_count": null,
      "metadata": {
        "id": "tvGTCcNWXo-K"
      },
      "outputs": [],
      "source": [
        "# 2024-07-01 AGM Modificamos las columnas binarias a 0´s y 1´s y la columna Sexla tratamos por separado.\n",
        "\n",
        "columns_yes_no = ['HeartDisease', 'Smoking', 'AlcoholDrinking', 'Stroke', 'DiffWalking', 'PhysicalActivity', 'Asthma', 'KidneyDisease', 'SkinCancer']\n",
        "\n",
        "for column in columns_yes_no:\n",
        "    df_ml[column] = df_ml[column].map({'Yes':1, 'No':0})\n",
        "\n",
        "df_ml['Sex'] = df_ml['Sex'].map({'Male':0, 'Female':1})\n",
        "\n",
        "df_ml.sample(5)"
      ]
    },
    {
      "cell_type": "code",
      "execution_count": null,
      "metadata": {
        "id": "P42L-xvYZq8R"
      },
      "outputs": [],
      "source": [
        "# 2024-07-01 AGM Modificamos ahora las columnas categóricas haciendo OneHotEncoding.\n",
        "\n",
        "columns_to_encode = ['AgeCategory', 'Race', 'Diabetic', 'GenHealth']\n",
        "\n",
        "# 2024-07-01 AGM Inicializar el OneHotEncoder. Sparse_output = false genera una matriz que se puede convertir a dataframe.\n",
        "one_hot_encoder = OneHotEncoder(drop = None, sparse_output = False)\n",
        "\n",
        "# 2024-07-01 AGM Crea tabla con todas las columnas que se han codificado.\n",
        "encoded_data = one_hot_encoder.fit_transform(df_ml[columns_to_encode])\n",
        "\n",
        "# 2024-07-01 AGM Convertimos dataframe del encoded_data y asignamos nombres a las columnas.\n",
        "df_encoded_data = pd.DataFrame(encoded_data, columns = one_hot_encoder.get_feature_names_out(columns_to_encode))\n",
        "df_encoded_data"
      ]
    },
    {
      "cell_type": "code",
      "execution_count": null,
      "metadata": {
        "id": "lNN-QzC5cDfT"
      },
      "outputs": [],
      "source": [
        "# 2024-07-01 AGM Eliminamos las columnas codificadas.\n",
        "\n",
        "df_ml.drop(columns = columns_to_encode, inplace = True)\n",
        "df_ml.columns"
      ]
    },
    {
      "cell_type": "code",
      "execution_count": null,
      "metadata": {
        "id": "aePHE2yic1Yn"
      },
      "outputs": [],
      "source": [
        "# 2024-07-01 AGM Vamos a unir ambos dataframes. Importante: Al usar concat hay que especificar si queremos que concatene los dataframes verticalmente u horizontalmente. Para concatenar horizontalmente hay que usar axis = 1, para verticalmente, axis = 0. Lo descubrí tras varios fallos y ChatGPT me ayudó :P\n",
        "\n",
        "df_ml = pd.concat([df_ml, df_encoded_data], axis = 1)\n",
        "df_ml.columns"
      ]
    },
    {
      "cell_type": "code",
      "execution_count": null,
      "metadata": {
        "id": "OO5VYv2Xdgyd"
      },
      "outputs": [],
      "source": [
        "df_ml.sample(5)"
      ]
    },
    {
      "cell_type": "code",
      "execution_count": null,
      "metadata": {
        "id": "ZdJl7iXffdRF"
      },
      "outputs": [],
      "source": [
        "df_ml['GenHealth_nan'].unique()"
      ]
    },
    {
      "cell_type": "code",
      "execution_count": null,
      "metadata": {
        "id": "gddoGLwYf8xU"
      },
      "outputs": [],
      "source": [
        "df_ml.isna().sum()"
      ]
    },
    {
      "cell_type": "code",
      "execution_count": null,
      "metadata": {
        "id": "nan-A0TSgP2H"
      },
      "outputs": [],
      "source": [
        "# 2024-07-01 AGM De alguna manera se nos ha colado algún nulo. Me los cargo para poder hacer rápido esto, pero habrá que echar un vistazo.\n",
        "\n",
        "df_ml.dropna(inplace = True)"
      ]
    },
    {
      "cell_type": "code",
      "execution_count": null,
      "metadata": {
        "id": "IO2pgjeGduZG"
      },
      "outputs": [],
      "source": [
        "# 2024-07-01 AGM Convertimos de Float a int todas las columnas excepto BMI.\n",
        "\n",
        "for column in df_ml.columns:\n",
        "    if column != 'BMI':\n",
        "        df_ml[column] = df_ml[column].astype(int)\n",
        "\n",
        "df_ml.sample(5)"
      ]
    },
    {
      "cell_type": "code",
      "execution_count": null,
      "metadata": {
        "id": "I92ujxdjVts-"
      },
      "outputs": [],
      "source": [
        "# 2024-07-01 AGM Variable a predecir (Target): HeartDisease\n",
        "\n",
        "df_ml_copy = df_ml.copy()\n",
        "\n",
        "X = df_ml_copy.drop('HeartDisease', axis = 1)\n",
        "y = df_ml_copy['HeartDisease']"
      ]
    },
    {
      "cell_type": "code",
      "execution_count": null,
      "metadata": {
        "id": "u_vUmjxmhXfs"
      },
      "outputs": [],
      "source": [
        "# 2024-07-01 AGM\n",
        "\n",
        "X_train, X_test, y_train, y_test = train_test_split(X, y, test_size = 0.20, random_state = 42)"
      ]
    },
    {
      "cell_type": "code",
      "execution_count": null,
      "metadata": {
        "id": "SdsyLIQEhuKW"
      },
      "outputs": [],
      "source": [
        "# 2024-07-01 AGM Usamos de normalizador el MinMaxScaler. Se puede probar con varios.\n",
        "\n",
        "scaler = MinMaxScaler()\n",
        "\n",
        "X_train = scaler.fit_transform(X_train)\n",
        "X_test = scaler.transform(X_test)"
      ]
    },
    {
      "cell_type": "code",
      "execution_count": null,
      "metadata": {
        "id": "Z9F0ZWR4iDlb"
      },
      "outputs": [],
      "source": [
        "# 2024-07-01 AGM Modelos candidatos: añadir mas opciones luego.\n",
        "\n",
        "candidate_models = {'Regresión logística': LogisticRegression(max_iter = 1000),\n",
        "                    'Árbol de decisión': DecisionTreeClassifier(),\n",
        "                    'Random forest': RandomForestClassifier(),\n",
        "                    'Gradient boosting': GradientBoostingClassifier(),\n",
        "                    'Adaboost': AdaBoostClassifier(),\n",
        "                    'KNN': KNeighborsClassifier(),\n",
        "                    'Gaussian NB': GaussianNB(),\n",
        "                    'LDA': LinearDiscriminantAnalysis(),\n",
        "                    'QDA': QuadraticDiscriminantAnalysis()}\n",
        "\n",
        "# Quito 'SVM': SVC() del diccionario porque tarda mucho (222 minutos).\n",
        "for name, model in candidate_models.items():\n",
        "    model.fit(X_train, y_train)\n",
        "    y_predict = model.predict(X_test)\n",
        "    accuracy = accuracy_score(y_test, y_predict)\n",
        "    print(f'{name}: \\naccuracy: {accuracy}')\n",
        "    print(confusion_matrix(y_test, y_predict))"
      ]
    },
    {
      "cell_type": "code",
      "execution_count": null,
      "metadata": {
        "id": "hrJiRlAVm4yz"
      },
      "outputs": [],
      "source": [
        "print(classification_report(y_test, y_predict))\n",
        "print(confusion_matrix(y_test, y_predict))"
      ]
    },
    {
      "cell_type": "code",
      "execution_count": null,
      "metadata": {
        "id": "Qj9_x5uOnF7h"
      },
      "outputs": [],
      "source": [
        "# Tuning de hiperparámetros con GridSearchCV\n",
        "\n",
        "parametros = {\n",
        "    'n_estimators': [100, 200],\n",
        "    'max_features': ['sqrt', 'log2'],\n",
        "    'max_depth': [4, 6, 8, 10],\n",
        "    'criterion': ['gini', 'entropy']\n",
        "}\n",
        "\n",
        "grid_search = GridSearchCV(estimator = RandomForestClassifier(random_state = 0), param_grid = parametros, cv = 3, n_jobs = -1, verbose = 2)\n",
        "grid_search.fit(X_train, y_train)\n",
        "\n",
        "print(\"Mejores hiperparámetros para Random Forest:\", grid_search.best_params_)\n",
        "\n",
        "mejor_modelo = grid_search.best_estimator_\n",
        "y_pred_mejor = mejor_modelo.predict(X_test)\n",
        "\n",
        "print(\"Resultados Random Forest optimizado con GridSearchCV:\")\n",
        "print(classification_report(y_test, y_pred_mejor))\n",
        "print(confusion_matrix(y_test, y_pred_mejor))"
      ]
    },
    {
      "cell_type": "markdown",
      "metadata": {
        "id": "ikTZTxPxZaVu"
      },
      "source": [
        "# 05. Resultados y Conclusiones"
      ]
    },
    {
      "cell_type": "markdown",
      "metadata": {
        "id": "yzWA-vS3pIxq"
      },
      "source": [
        "Para terminar, vamos a probar el modelo con datos completamente nuevos y vamos explicar el desempeño del modelo y que alternativas podemos tomar para mejorar el desempeño del modelo."
      ]
    },
    {
      "cell_type": "code",
      "execution_count": null,
      "metadata": {
        "id": "KSAcnXb0Nl_5"
      },
      "outputs": [],
      "source": [
        "print(\"Resultados del modelo optimizado con GridSearchCV:\")\n",
        "print(classification_report(y_test, y_pred_mejor))\n",
        "print(\"Matriz de confusión del modelo optimizado:\")\n",
        "print(confusion_matrix(y_test, y_pred_mejor))"
      ]
    },
    {
      "cell_type": "code",
      "execution_count": null,
      "metadata": {
        "id": "SL4WWVXWNndM"
      },
      "outputs": [],
      "source": []
    },
    {
      "cell_type": "markdown",
      "metadata": {
        "id": "rGYgye9Apf2M"
      },
      "source": [
        "# 06. Storytelling"
      ]
    },
    {
      "cell_type": "markdown",
      "metadata": {
        "id": "6ld8nkq7pkAY"
      },
      "source": [
        "Como último vamos a hacer una pequeña presentación de principio a fin sobre el proyecto, esta presentación puede incluir:\n",
        "\n",
        "*  Motivaciones del proyecto.\n",
        "\n",
        "*  Alcance del proyecto.\n",
        "\n",
        "*  Herramientas o tecnologías usadas.\n",
        "\n",
        "*  Desafíos en cada parte del proceso.\n",
        "\n",
        "*  Resolución de cada desafío o problema.\n",
        "\n",
        "*  Un esquema de lo que fue el proyecto.\n",
        "\n",
        "*  Visualizaciones y resultados.\n",
        "\n",
        "Todos los miembros del equipo deben participar, no es obligatorio hacer una presentación o material audiovisual. Esta parte no será evaluada."
      ]
    }
  ],
  "metadata": {
    "colab": {
      "provenance": []
    },
    "kernelspec": {
      "display_name": "Python 3",
      "name": "python3"
    },
    "language_info": {
      "codemirror_mode": {
        "name": "ipython",
        "version": 3
      },
      "file_extension": ".py",
      "mimetype": "text/x-python",
      "name": "python",
      "nbconvert_exporter": "python",
      "pygments_lexer": "ipython3",
      "version": "3.11.7"
    }
  },
  "nbformat": 4,
  "nbformat_minor": 0
}
