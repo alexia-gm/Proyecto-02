{
  "cells": [
    {
      "cell_type": "markdown",
      "metadata": {
        "id": "SNMbmsavZSql"
      },
      "source": [
        "**Proyecto Equipo D**\n",
        "\n",
        "![An image](https://media.timtul.com/media/users/hackaboss_300_20211202185733.png)\n",
        "\n",
        "**Proyecto II Grupo D** del curso de Ciencia de Datos de Hack'a'Boss **01 Julio 2024** (DSB10RT).\n",
        "\n",
        "Seleccionar uno de estos enfoques para el proyecto y definir el problema\n",
        "\n",
        "Para este segundo proyecto vamos a poder elegir entre:\n",
        "\n",
        "**Machine Learning**\n",
        "*   Aprendizaje supervisado.\n",
        "*   Aprendizaje no supervisado.\n",
        "\n",
        "**NLP**\n",
        "*   Análisis de Texto.\n",
        "*   Modelos predictivos.\n",
        "*   Análisis de Sentimiento.\n",
        "\n",
        "**Algoritmos Genéticos**\n",
        "\n",
        "**Recomendadores.**\n"
      ]
    },
    {
      "cell_type": "markdown",
      "metadata": {
        "id": "1US1nJtTjFMC"
      },
      "source": [
        "# 01. Definición del problema"
      ]
    },
    {
      "cell_type": "markdown",
      "metadata": {
        "id": "jx_W9wSujq_y"
      },
      "source": [
        "Partimos por la definición del problema o el objetivo del proyecto.\n",
        "- El objetivo es predecir si una persona tiene enfermedad cardíaca (HeartDisease) en base a las características proporcionadas en el dataset.\n",
        "\n",
        "¿Qué variable queremos predecir?\n",
        "- HeartDisease (clasificación binaria: 'Yes' o 'No')\n",
        "\n",
        "¿Es una regresión o una clasificación?\n",
        "- Clasificación\n",
        "\n",
        "¿Qué datos son necesarios para predecir esa variable?\n",
        "- Las características proporcionadas en el dataset, que incluyen factores de salud y hábitos de vida de los individuos.\n",
        "\n",
        "¿Cómo consigo esos datos?\n",
        "- Los datos ya están disponibles en el archivo 'heart_2020_cleaned.csv'."
      ]
    },
    {
      "cell_type": "markdown",
      "metadata": {
        "id": "21Sk8zfTZtNX"
      },
      "source": [
        "# 02. Recopilación de Datos"
      ]
    },
    {
      "cell_type": "markdown",
      "metadata": {
        "id": "a4OtLBQznf8q"
      },
      "source": [
        "Una de las etapas más difíciles de todo proyecto, para esta etapa podemos decidir usar herramientas del los módulos pasados, como API o Web Scraping.\n",
        "\n",
        "Podemos usar las siguientes fuentes para encontrar los datos que necesitamos.\n",
        "\n",
        "Fuentes:\n",
        "\n",
        "*  UCI Machine Learning Repository: https://archive.ics.uci.edu/ml/datasets.php\n",
        "\n",
        "*  Kaggle: https://www.kaggle.com/datasets\n",
        "\n",
        "*  Google Dataset Search: https://datasetsearch.research.google.com/\n",
        "\n",
        "*  Microsoft Open Data: https://msropendata.com/\n",
        "\n",
        "*  European Data: https://data.europa.eu/en\n",
        "\n",
        "*  Awesome Data: https://github.com/awesomedata/awesome-public-datasets\n",
        "\n",
        "*  Amazon Web Services: https://registry.opendata.aws/\n",
        "\n",
        "##################\n",
        "\n",
        "####################\n",
        "\n",
        "El data set seleccionado fue descargado del siguiente enlace:\n",
        "\n",
        "https://chronicdata.cdc.gov/Heart-Disease-Stroke-Prevention/Behavioral-Risk-Factor-Surveillance-System-BRFSS-N/ikwk-8git/data"
      ]
    },
    {
      "cell_type": "markdown",
      "metadata": {
        "id": "SGIsMC7EauFr"
      },
      "source": [
        "# 03. Exploratory Data Analysis (EDA) y Procesamiento de Datos"
      ]
    },
    {
      "cell_type": "markdown",
      "metadata": {
        "id": "-_kpstbwn7dT"
      },
      "source": [
        "Para seguir con el proyecto es necesario conocer los datos, para esto vamos a utilizar las herramientas de EDA, es decir, visualizaciones y estadística.\n",
        "\n",
        "También es necesario procesar los datos antes de implementarlos en el modelo, esto comprende:\n",
        "\n",
        "*   NaN's.\n",
        "\n",
        "*   Outliers.\n",
        "\n",
        "*   Variables no numéricas.\n",
        "\n",
        "*   Dimensionalidad.\n",
        "\n",
        "*   Normalización de Datos.\n",
        "\n",
        "Esta parte del proyecto se debe adaptar a los datos.\n",
        "\n"
      ]
    },
    {
      "cell_type": "markdown",
      "metadata": {
        "id": "_DnBTSHVrNlD"
      },
      "source": [
        "## Importar Librerias Requeridas"
      ]
    },
    {
      "cell_type": "code",
      "execution_count": 5,
      "metadata": {
        "colab": {
          "base_uri": "https://localhost:8080/"
        },
        "id": "fLFxATHij2cI",
        "outputId": "03709aaf-008a-46d6-faa4-9df3b92db5ad"
      },
      "outputs": [
        {
          "name": "stdout",
          "output_type": "stream",
          "text": [
            "Requirement already satisfied: scikit-learn in /opt/anaconda3/lib/python3.11/site-packages (1.5.0)\n",
            "Requirement already satisfied: numpy>=1.19.5 in /opt/anaconda3/lib/python3.11/site-packages (from scikit-learn) (1.26.4)\n",
            "Requirement already satisfied: scipy>=1.6.0 in /opt/anaconda3/lib/python3.11/site-packages (from scikit-learn) (1.11.4)\n",
            "Requirement already satisfied: joblib>=1.2.0 in /opt/anaconda3/lib/python3.11/site-packages (from scikit-learn) (1.2.0)\n",
            "Requirement already satisfied: threadpoolctl>=3.1.0 in /opt/anaconda3/lib/python3.11/site-packages (from scikit-learn) (3.5.0)\n",
            "Requirement already satisfied: category_encoders in /opt/anaconda3/lib/python3.11/site-packages (2.6.3)\n",
            "Requirement already satisfied: numpy>=1.14.0 in /opt/anaconda3/lib/python3.11/site-packages (from category_encoders) (1.26.4)\n",
            "Requirement already satisfied: scikit-learn>=0.20.0 in /opt/anaconda3/lib/python3.11/site-packages (from category_encoders) (1.5.0)\n",
            "Requirement already satisfied: scipy>=1.0.0 in /opt/anaconda3/lib/python3.11/site-packages (from category_encoders) (1.11.4)\n",
            "Requirement already satisfied: statsmodels>=0.9.0 in /opt/anaconda3/lib/python3.11/site-packages (from category_encoders) (0.14.0)\n",
            "Requirement already satisfied: pandas>=1.0.5 in /opt/anaconda3/lib/python3.11/site-packages (from category_encoders) (2.1.4)\n",
            "Requirement already satisfied: patsy>=0.5.1 in /opt/anaconda3/lib/python3.11/site-packages (from category_encoders) (0.5.3)\n",
            "Requirement already satisfied: python-dateutil>=2.8.2 in /opt/anaconda3/lib/python3.11/site-packages (from pandas>=1.0.5->category_encoders) (2.8.2)\n",
            "Requirement already satisfied: pytz>=2020.1 in /opt/anaconda3/lib/python3.11/site-packages (from pandas>=1.0.5->category_encoders) (2023.3.post1)\n",
            "Requirement already satisfied: tzdata>=2022.1 in /opt/anaconda3/lib/python3.11/site-packages (from pandas>=1.0.5->category_encoders) (2023.3)\n",
            "Requirement already satisfied: six in /opt/anaconda3/lib/python3.11/site-packages (from patsy>=0.5.1->category_encoders) (1.16.0)\n",
            "Requirement already satisfied: joblib>=1.2.0 in /opt/anaconda3/lib/python3.11/site-packages (from scikit-learn>=0.20.0->category_encoders) (1.2.0)\n",
            "Requirement already satisfied: threadpoolctl>=3.1.0 in /opt/anaconda3/lib/python3.11/site-packages (from scikit-learn>=0.20.0->category_encoders) (3.5.0)\n",
            "Requirement already satisfied: packaging>=21.3 in /opt/anaconda3/lib/python3.11/site-packages (from statsmodels>=0.9.0->category_encoders) (23.1)\n",
            "Requirement already satisfied: unidecode in /opt/anaconda3/lib/python3.11/site-packages (1.2.0)\n",
            "Requirement already satisfied: seaborn in /opt/anaconda3/lib/python3.11/site-packages (0.13.2)\n",
            "Requirement already satisfied: numpy!=1.24.0,>=1.20 in /opt/anaconda3/lib/python3.11/site-packages (from seaborn) (1.26.4)\n",
            "Requirement already satisfied: pandas>=1.2 in /opt/anaconda3/lib/python3.11/site-packages (from seaborn) (2.1.4)\n",
            "Requirement already satisfied: matplotlib!=3.6.1,>=3.4 in /opt/anaconda3/lib/python3.11/site-packages (from seaborn) (3.8.0)\n",
            "Requirement already satisfied: contourpy>=1.0.1 in /opt/anaconda3/lib/python3.11/site-packages (from matplotlib!=3.6.1,>=3.4->seaborn) (1.2.0)\n",
            "Requirement already satisfied: cycler>=0.10 in /opt/anaconda3/lib/python3.11/site-packages (from matplotlib!=3.6.1,>=3.4->seaborn) (0.11.0)\n",
            "Requirement already satisfied: fonttools>=4.22.0 in /opt/anaconda3/lib/python3.11/site-packages (from matplotlib!=3.6.1,>=3.4->seaborn) (4.25.0)\n",
            "Requirement already satisfied: kiwisolver>=1.0.1 in /opt/anaconda3/lib/python3.11/site-packages (from matplotlib!=3.6.1,>=3.4->seaborn) (1.4.4)\n",
            "Requirement already satisfied: packaging>=20.0 in /opt/anaconda3/lib/python3.11/site-packages (from matplotlib!=3.6.1,>=3.4->seaborn) (23.1)\n",
            "Requirement already satisfied: pillow>=6.2.0 in /opt/anaconda3/lib/python3.11/site-packages (from matplotlib!=3.6.1,>=3.4->seaborn) (10.2.0)\n",
            "Requirement already satisfied: pyparsing>=2.3.1 in /opt/anaconda3/lib/python3.11/site-packages (from matplotlib!=3.6.1,>=3.4->seaborn) (3.0.9)\n",
            "Requirement already satisfied: python-dateutil>=2.7 in /opt/anaconda3/lib/python3.11/site-packages (from matplotlib!=3.6.1,>=3.4->seaborn) (2.8.2)\n",
            "Requirement already satisfied: pytz>=2020.1 in /opt/anaconda3/lib/python3.11/site-packages (from pandas>=1.2->seaborn) (2023.3.post1)\n",
            "Requirement already satisfied: tzdata>=2022.1 in /opt/anaconda3/lib/python3.11/site-packages (from pandas>=1.2->seaborn) (2023.3)\n",
            "Requirement already satisfied: six>=1.5 in /opt/anaconda3/lib/python3.11/site-packages (from python-dateutil>=2.7->matplotlib!=3.6.1,>=3.4->seaborn) (1.16.0)\n"
          ]
        }
      ],
      "source": [
        "!pip install scikit-learn\n",
        "!pip install category_encoders\n",
        "!pip install unidecode\n",
        "!pip install --upgrade seaborn"
      ]
    },
    {
      "cell_type": "code",
      "execution_count": 6,
      "metadata": {
        "colab": {
          "base_uri": "https://localhost:8080/"
        },
        "id": "8gYWo8OgqLiv",
        "outputId": "b252d6d4-211a-4bb5-b692-77a709d4af61"
      },
      "outputs": [
        {
          "data": {
            "text/plain": [
              "Ellipsis"
            ]
          },
          "execution_count": 6,
          "metadata": {},
          "output_type": "execute_result"
        }
      ],
      "source": [
        "import pandas as pd\n",
        "import numpy as np\n",
        "import seaborn as sns\n",
        "import matplotlib.pyplot as plt\n",
        "import re\n",
        "from math import sqrt\n",
        "from unidecode import unidecode\n",
        "\n",
        "# Modelo\n",
        "from sklearn.linear_model import LinearRegression\n",
        "from sklearn.neighbors import KNeighborsClassifier\n",
        "from sklearn.neighbors import RadiusNeighborsClassifier\n",
        "from sklearn.neighbors import NearestCentroid\n",
        "from sklearn.naive_bayes import GaussianNB\n",
        "from sklearn.linear_model import LogisticRegression\n",
        "from sklearn.tree import DecisionTreeClassifier\n",
        "from sklearn.ensemble import RandomForestClassifier\n",
        "from sklearn.svm import SVC\n",
        "from sklearn.ensemble import AdaBoostClassifier\n",
        "from sklearn.ensemble import GradientBoostingClassifier\n",
        "from sklearn.discriminant_analysis import LinearDiscriminantAnalysis, QuadraticDiscriminantAnalysis\n",
        "\n",
        "# Herramienta Preprocesamiento\n",
        "from sklearn.preprocessing import MinMaxScaler, LabelEncoder, OneHotEncoder\n",
        "from category_encoders import TargetEncoder\n",
        "\n",
        "# Train Test Split\n",
        "from sklearn.model_selection import train_test_split, GridSearchCV\n",
        "\n",
        "# Metricas\n",
        "from sklearn.metrics import mean_absolute_error, mean_squared_error, r2_score\n",
        "from sklearn.metrics import jaccard_score\n",
        "from sklearn.metrics import accuracy_score\n",
        "from sklearn.metrics import precision_score\n",
        "from sklearn.metrics import recall_score\n",
        "from sklearn.metrics import f1_score\n",
        "from sklearn.metrics import roc_auc_score\n",
        "from sklearn.metrics import confusion_matrix\n",
        "from sklearn.metrics import classification_report\n",
        "\n",
        "# Validaciones\n",
        "from sklearn.model_selection import KFold, LeaveOneOut\n",
        "\n",
        "# Importar herramientas de prepocesamiento necesarias\n",
        "..."
      ]
    },
    {
      "cell_type": "markdown",
      "metadata": {
        "id": "GCTyUI-YOsUh"
      },
      "source": [
        "## Exploración y limpieza Inicial del DataFrame"
      ]
    },
    {
      "cell_type": "code",
      "execution_count": 7,
      "metadata": {
        "id": "wAvNcixujtZy"
      },
      "outputs": [],
      "source": [
        "df = pd.read_csv(\"Data/heart_2020_cleaned.csv\")"
      ]
    },
    {
      "cell_type": "code",
      "execution_count": 8,
      "metadata": {
        "colab": {
          "base_uri": "https://localhost:8080/",
          "height": 443
        },
        "id": "wvE3Gs8gLspl",
        "outputId": "7ea7b75b-f634-4afc-db39-83721523db76"
      },
      "outputs": [
        {
          "data": {
            "text/html": [
              "<div>\n",
              "<style scoped>\n",
              "    .dataframe tbody tr th:only-of-type {\n",
              "        vertical-align: middle;\n",
              "    }\n",
              "\n",
              "    .dataframe tbody tr th {\n",
              "        vertical-align: top;\n",
              "    }\n",
              "\n",
              "    .dataframe thead th {\n",
              "        text-align: right;\n",
              "    }\n",
              "</style>\n",
              "<table border=\"1\" class=\"dataframe\">\n",
              "  <thead>\n",
              "    <tr style=\"text-align: right;\">\n",
              "      <th></th>\n",
              "      <th>HeartDisease</th>\n",
              "      <th>BMI</th>\n",
              "      <th>Smoking</th>\n",
              "      <th>AlcoholDrinking</th>\n",
              "      <th>Stroke</th>\n",
              "      <th>PhysicalHealth</th>\n",
              "      <th>MentalHealth</th>\n",
              "      <th>DiffWalking</th>\n",
              "      <th>Sex</th>\n",
              "      <th>AgeCategory</th>\n",
              "      <th>Race</th>\n",
              "      <th>Diabetic</th>\n",
              "      <th>PhysicalActivity</th>\n",
              "      <th>GenHealth</th>\n",
              "      <th>SleepTime</th>\n",
              "      <th>Asthma</th>\n",
              "      <th>KidneyDisease</th>\n",
              "      <th>SkinCancer</th>\n",
              "    </tr>\n",
              "  </thead>\n",
              "  <tbody>\n",
              "    <tr>\n",
              "      <th>0</th>\n",
              "      <td>No</td>\n",
              "      <td>16.60</td>\n",
              "      <td>Yes</td>\n",
              "      <td>No</td>\n",
              "      <td>No</td>\n",
              "      <td>3</td>\n",
              "      <td>30</td>\n",
              "      <td>No</td>\n",
              "      <td>Female</td>\n",
              "      <td>55-59</td>\n",
              "      <td>White</td>\n",
              "      <td>Yes</td>\n",
              "      <td>Yes</td>\n",
              "      <td>Very good</td>\n",
              "      <td>5</td>\n",
              "      <td>Yes</td>\n",
              "      <td>No</td>\n",
              "      <td>Yes</td>\n",
              "    </tr>\n",
              "    <tr>\n",
              "      <th>1</th>\n",
              "      <td>No</td>\n",
              "      <td>20.34</td>\n",
              "      <td>No</td>\n",
              "      <td>No</td>\n",
              "      <td>Yes</td>\n",
              "      <td>0</td>\n",
              "      <td>0</td>\n",
              "      <td>No</td>\n",
              "      <td>Female</td>\n",
              "      <td>80 or older</td>\n",
              "      <td>White</td>\n",
              "      <td>No</td>\n",
              "      <td>Yes</td>\n",
              "      <td>Very good</td>\n",
              "      <td>7</td>\n",
              "      <td>No</td>\n",
              "      <td>No</td>\n",
              "      <td>No</td>\n",
              "    </tr>\n",
              "    <tr>\n",
              "      <th>2</th>\n",
              "      <td>No</td>\n",
              "      <td>26.58</td>\n",
              "      <td>Yes</td>\n",
              "      <td>No</td>\n",
              "      <td>No</td>\n",
              "      <td>20</td>\n",
              "      <td>30</td>\n",
              "      <td>No</td>\n",
              "      <td>Male</td>\n",
              "      <td>65-69</td>\n",
              "      <td>White</td>\n",
              "      <td>Yes</td>\n",
              "      <td>Yes</td>\n",
              "      <td>Fair</td>\n",
              "      <td>8</td>\n",
              "      <td>Yes</td>\n",
              "      <td>No</td>\n",
              "      <td>No</td>\n",
              "    </tr>\n",
              "    <tr>\n",
              "      <th>3</th>\n",
              "      <td>No</td>\n",
              "      <td>24.21</td>\n",
              "      <td>No</td>\n",
              "      <td>No</td>\n",
              "      <td>No</td>\n",
              "      <td>0</td>\n",
              "      <td>0</td>\n",
              "      <td>No</td>\n",
              "      <td>Female</td>\n",
              "      <td>75-79</td>\n",
              "      <td>White</td>\n",
              "      <td>No</td>\n",
              "      <td>No</td>\n",
              "      <td>Good</td>\n",
              "      <td>6</td>\n",
              "      <td>No</td>\n",
              "      <td>No</td>\n",
              "      <td>Yes</td>\n",
              "    </tr>\n",
              "    <tr>\n",
              "      <th>4</th>\n",
              "      <td>No</td>\n",
              "      <td>23.71</td>\n",
              "      <td>No</td>\n",
              "      <td>No</td>\n",
              "      <td>No</td>\n",
              "      <td>28</td>\n",
              "      <td>0</td>\n",
              "      <td>Yes</td>\n",
              "      <td>Female</td>\n",
              "      <td>40-44</td>\n",
              "      <td>White</td>\n",
              "      <td>No</td>\n",
              "      <td>Yes</td>\n",
              "      <td>Very good</td>\n",
              "      <td>8</td>\n",
              "      <td>No</td>\n",
              "      <td>No</td>\n",
              "      <td>No</td>\n",
              "    </tr>\n",
              "    <tr>\n",
              "      <th>...</th>\n",
              "      <td>...</td>\n",
              "      <td>...</td>\n",
              "      <td>...</td>\n",
              "      <td>...</td>\n",
              "      <td>...</td>\n",
              "      <td>...</td>\n",
              "      <td>...</td>\n",
              "      <td>...</td>\n",
              "      <td>...</td>\n",
              "      <td>...</td>\n",
              "      <td>...</td>\n",
              "      <td>...</td>\n",
              "      <td>...</td>\n",
              "      <td>...</td>\n",
              "      <td>...</td>\n",
              "      <td>...</td>\n",
              "      <td>...</td>\n",
              "      <td>...</td>\n",
              "    </tr>\n",
              "    <tr>\n",
              "      <th>319790</th>\n",
              "      <td>Yes</td>\n",
              "      <td>27.41</td>\n",
              "      <td>Yes</td>\n",
              "      <td>No</td>\n",
              "      <td>No</td>\n",
              "      <td>7</td>\n",
              "      <td>0</td>\n",
              "      <td>Yes</td>\n",
              "      <td>Male</td>\n",
              "      <td>60-64</td>\n",
              "      <td>Hispanic</td>\n",
              "      <td>Yes</td>\n",
              "      <td>No</td>\n",
              "      <td>Fair</td>\n",
              "      <td>6</td>\n",
              "      <td>Yes</td>\n",
              "      <td>No</td>\n",
              "      <td>No</td>\n",
              "    </tr>\n",
              "    <tr>\n",
              "      <th>319791</th>\n",
              "      <td>No</td>\n",
              "      <td>29.84</td>\n",
              "      <td>Yes</td>\n",
              "      <td>No</td>\n",
              "      <td>No</td>\n",
              "      <td>0</td>\n",
              "      <td>0</td>\n",
              "      <td>No</td>\n",
              "      <td>Male</td>\n",
              "      <td>35-39</td>\n",
              "      <td>Hispanic</td>\n",
              "      <td>No</td>\n",
              "      <td>Yes</td>\n",
              "      <td>Very good</td>\n",
              "      <td>5</td>\n",
              "      <td>Yes</td>\n",
              "      <td>No</td>\n",
              "      <td>No</td>\n",
              "    </tr>\n",
              "    <tr>\n",
              "      <th>319792</th>\n",
              "      <td>No</td>\n",
              "      <td>24.24</td>\n",
              "      <td>No</td>\n",
              "      <td>No</td>\n",
              "      <td>No</td>\n",
              "      <td>0</td>\n",
              "      <td>0</td>\n",
              "      <td>No</td>\n",
              "      <td>Female</td>\n",
              "      <td>45-49</td>\n",
              "      <td>Hispanic</td>\n",
              "      <td>No</td>\n",
              "      <td>Yes</td>\n",
              "      <td>Good</td>\n",
              "      <td>6</td>\n",
              "      <td>No</td>\n",
              "      <td>No</td>\n",
              "      <td>No</td>\n",
              "    </tr>\n",
              "    <tr>\n",
              "      <th>319793</th>\n",
              "      <td>No</td>\n",
              "      <td>32.81</td>\n",
              "      <td>No</td>\n",
              "      <td>No</td>\n",
              "      <td>No</td>\n",
              "      <td>0</td>\n",
              "      <td>0</td>\n",
              "      <td>No</td>\n",
              "      <td>Female</td>\n",
              "      <td>25-29</td>\n",
              "      <td>Hispanic</td>\n",
              "      <td>No</td>\n",
              "      <td>No</td>\n",
              "      <td>Good</td>\n",
              "      <td>12</td>\n",
              "      <td>No</td>\n",
              "      <td>No</td>\n",
              "      <td>No</td>\n",
              "    </tr>\n",
              "    <tr>\n",
              "      <th>319794</th>\n",
              "      <td>No</td>\n",
              "      <td>46.56</td>\n",
              "      <td>No</td>\n",
              "      <td>No</td>\n",
              "      <td>No</td>\n",
              "      <td>0</td>\n",
              "      <td>0</td>\n",
              "      <td>No</td>\n",
              "      <td>Female</td>\n",
              "      <td>80 or older</td>\n",
              "      <td>Hispanic</td>\n",
              "      <td>No</td>\n",
              "      <td>Yes</td>\n",
              "      <td>Good</td>\n",
              "      <td>8</td>\n",
              "      <td>No</td>\n",
              "      <td>No</td>\n",
              "      <td>No</td>\n",
              "    </tr>\n",
              "  </tbody>\n",
              "</table>\n",
              "<p>319795 rows × 18 columns</p>\n",
              "</div>"
            ],
            "text/plain": [
              "       HeartDisease    BMI Smoking AlcoholDrinking Stroke  PhysicalHealth  \\\n",
              "0                No  16.60     Yes              No     No               3   \n",
              "1                No  20.34      No              No    Yes               0   \n",
              "2                No  26.58     Yes              No     No              20   \n",
              "3                No  24.21      No              No     No               0   \n",
              "4                No  23.71      No              No     No              28   \n",
              "...             ...    ...     ...             ...    ...             ...   \n",
              "319790          Yes  27.41     Yes              No     No               7   \n",
              "319791           No  29.84     Yes              No     No               0   \n",
              "319792           No  24.24      No              No     No               0   \n",
              "319793           No  32.81      No              No     No               0   \n",
              "319794           No  46.56      No              No     No               0   \n",
              "\n",
              "        MentalHealth DiffWalking     Sex  AgeCategory      Race Diabetic  \\\n",
              "0                 30          No  Female        55-59     White      Yes   \n",
              "1                  0          No  Female  80 or older     White       No   \n",
              "2                 30          No    Male        65-69     White      Yes   \n",
              "3                  0          No  Female        75-79     White       No   \n",
              "4                  0         Yes  Female        40-44     White       No   \n",
              "...              ...         ...     ...          ...       ...      ...   \n",
              "319790             0         Yes    Male        60-64  Hispanic      Yes   \n",
              "319791             0          No    Male        35-39  Hispanic       No   \n",
              "319792             0          No  Female        45-49  Hispanic       No   \n",
              "319793             0          No  Female        25-29  Hispanic       No   \n",
              "319794             0          No  Female  80 or older  Hispanic       No   \n",
              "\n",
              "       PhysicalActivity  GenHealth  SleepTime Asthma KidneyDisease SkinCancer  \n",
              "0                   Yes  Very good          5    Yes            No        Yes  \n",
              "1                   Yes  Very good          7     No            No         No  \n",
              "2                   Yes       Fair          8    Yes            No         No  \n",
              "3                    No       Good          6     No            No        Yes  \n",
              "4                   Yes  Very good          8     No            No         No  \n",
              "...                 ...        ...        ...    ...           ...        ...  \n",
              "319790               No       Fair          6    Yes            No         No  \n",
              "319791              Yes  Very good          5    Yes            No         No  \n",
              "319792              Yes       Good          6     No            No         No  \n",
              "319793               No       Good         12     No            No         No  \n",
              "319794              Yes       Good          8     No            No         No  \n",
              "\n",
              "[319795 rows x 18 columns]"
            ]
          },
          "execution_count": 8,
          "metadata": {},
          "output_type": "execute_result"
        }
      ],
      "source": [
        "## Configurar Pandas para mostrar todas las columnas\n",
        "pd.set_option('display.max_columns', None)\n",
        "df"
      ]
    },
    {
      "cell_type": "code",
      "execution_count": 9,
      "metadata": {
        "colab": {
          "base_uri": "https://localhost:8080/"
        },
        "id": "RgY3S3WUrxy_",
        "outputId": "15006b69-eff7-4361-e930-12f76738dd33"
      },
      "outputs": [
        {
          "name": "stdout",
          "output_type": "stream",
          "text": [
            "<class 'pandas.core.frame.DataFrame'>\n",
            "RangeIndex: 319795 entries, 0 to 319794\n",
            "Data columns (total 18 columns):\n",
            " #   Column            Non-Null Count   Dtype  \n",
            "---  ------            --------------   -----  \n",
            " 0   HeartDisease      319795 non-null  object \n",
            " 1   BMI               319795 non-null  float64\n",
            " 2   Smoking           319795 non-null  object \n",
            " 3   AlcoholDrinking   319795 non-null  object \n",
            " 4   Stroke            319795 non-null  object \n",
            " 5   PhysicalHealth    319795 non-null  int64  \n",
            " 6   MentalHealth      319795 non-null  int64  \n",
            " 7   DiffWalking       319795 non-null  object \n",
            " 8   Sex               319795 non-null  object \n",
            " 9   AgeCategory       319795 non-null  object \n",
            " 10  Race              319795 non-null  object \n",
            " 11  Diabetic          319795 non-null  object \n",
            " 12  PhysicalActivity  319795 non-null  object \n",
            " 13  GenHealth         319795 non-null  object \n",
            " 14  SleepTime         319795 non-null  int64  \n",
            " 15  Asthma            319795 non-null  object \n",
            " 16  KidneyDisease     319795 non-null  object \n",
            " 17  SkinCancer        319795 non-null  object \n",
            "dtypes: float64(1), int64(3), object(14)\n",
            "memory usage: 43.9+ MB\n"
          ]
        }
      ],
      "source": [
        "df.info()"
      ]
    },
    {
      "cell_type": "code",
      "execution_count": 10,
      "metadata": {
        "colab": {
          "base_uri": "https://localhost:8080/",
          "height": 578
        },
        "id": "bLAEVX5d_mLB",
        "outputId": "4bb75e04-2909-4764-879b-d5d9039383ee"
      },
      "outputs": [
        {
          "data": {
            "image/png": "[encoded data removed]",
            "text/plain": [
              "<Figure size 1000x1000 with 1 Axes>"
            ]
          },
          "metadata": {},
          "output_type": "display_data"
        }
      ],
      "source": [
        "plt.figure(figsize=(10,10))\n",
        "sns.barplot((pd.DataFrame(df.count())/df.shape[0]).reset_index(), x=0, y='index')\n",
        "plt.show()"
      ]
    },
    {
      "cell_type": "code",
      "execution_count": 11,
      "metadata": {
        "colab": {
          "base_uri": "https://localhost:8080/",
          "height": 300
        },
        "id": "m15JAFXTBdB9",
        "outputId": "a22c4ff4-11e5-47ee-a7c8-9e1466c708e6"
      },
      "outputs": [
        {
          "data": {
            "text/html": [
              "<div>\n",
              "<style scoped>\n",
              "    .dataframe tbody tr th:only-of-type {\n",
              "        vertical-align: middle;\n",
              "    }\n",
              "\n",
              "    .dataframe tbody tr th {\n",
              "        vertical-align: top;\n",
              "    }\n",
              "\n",
              "    .dataframe thead th {\n",
              "        text-align: right;\n",
              "    }\n",
              "</style>\n",
              "<table border=\"1\" class=\"dataframe\">\n",
              "  <thead>\n",
              "    <tr style=\"text-align: right;\">\n",
              "      <th></th>\n",
              "      <th>BMI</th>\n",
              "      <th>PhysicalHealth</th>\n",
              "      <th>MentalHealth</th>\n",
              "      <th>SleepTime</th>\n",
              "    </tr>\n",
              "  </thead>\n",
              "  <tbody>\n",
              "    <tr>\n",
              "      <th>count</th>\n",
              "      <td>319795.000000</td>\n",
              "      <td>319795.00000</td>\n",
              "      <td>319795.000000</td>\n",
              "      <td>319795.000000</td>\n",
              "    </tr>\n",
              "    <tr>\n",
              "      <th>mean</th>\n",
              "      <td>28.325399</td>\n",
              "      <td>3.37171</td>\n",
              "      <td>3.898366</td>\n",
              "      <td>7.097075</td>\n",
              "    </tr>\n",
              "    <tr>\n",
              "      <th>std</th>\n",
              "      <td>6.356100</td>\n",
              "      <td>7.95085</td>\n",
              "      <td>7.955235</td>\n",
              "      <td>1.436007</td>\n",
              "    </tr>\n",
              "    <tr>\n",
              "      <th>min</th>\n",
              "      <td>12.020000</td>\n",
              "      <td>0.00000</td>\n",
              "      <td>0.000000</td>\n",
              "      <td>1.000000</td>\n",
              "    </tr>\n",
              "    <tr>\n",
              "      <th>25%</th>\n",
              "      <td>24.030000</td>\n",
              "      <td>0.00000</td>\n",
              "      <td>0.000000</td>\n",
              "      <td>6.000000</td>\n",
              "    </tr>\n",
              "    <tr>\n",
              "      <th>50%</th>\n",
              "      <td>27.340000</td>\n",
              "      <td>0.00000</td>\n",
              "      <td>0.000000</td>\n",
              "      <td>7.000000</td>\n",
              "    </tr>\n",
              "    <tr>\n",
              "      <th>75%</th>\n",
              "      <td>31.420000</td>\n",
              "      <td>2.00000</td>\n",
              "      <td>3.000000</td>\n",
              "      <td>8.000000</td>\n",
              "    </tr>\n",
              "    <tr>\n",
              "      <th>max</th>\n",
              "      <td>94.850000</td>\n",
              "      <td>30.00000</td>\n",
              "      <td>30.000000</td>\n",
              "      <td>24.000000</td>\n",
              "    </tr>\n",
              "  </tbody>\n",
              "</table>\n",
              "</div>"
            ],
            "text/plain": [
              "                 BMI  PhysicalHealth   MentalHealth      SleepTime\n",
              "count  319795.000000    319795.00000  319795.000000  319795.000000\n",
              "mean       28.325399         3.37171       3.898366       7.097075\n",
              "std         6.356100         7.95085       7.955235       1.436007\n",
              "min        12.020000         0.00000       0.000000       1.000000\n",
              "25%        24.030000         0.00000       0.000000       6.000000\n",
              "50%        27.340000         0.00000       0.000000       7.000000\n",
              "75%        31.420000         2.00000       3.000000       8.000000\n",
              "max        94.850000        30.00000      30.000000      24.000000"
            ]
          },
          "execution_count": 11,
          "metadata": {},
          "output_type": "execute_result"
        }
      ],
      "source": [
        "stats = df.describe()\n",
        "\n",
        "stats"
      ]
    },
    {
      "cell_type": "code",
      "execution_count": 12,
      "metadata": {
        "id": "se9CoGtS1oTo"
      },
      "outputs": [],
      "source": [
        "# Funcion para limpiar nombres de columnas de espacios y caracteres especiales\n",
        "\n",
        "def limpiar_nomb_colums(nombre_columna):\n",
        "    nombre_columna = nombre_columna.strip()\n",
        "    nombre_columna = nombre_columna.replace(' ', '_')\n",
        "    nombre_columna = unidecode(nombre_columna)\n",
        "    return nombre_columna\n"
      ]
    },
    {
      "cell_type": "code",
      "execution_count": 13,
      "metadata": {
        "id": "JsRCiFxoRTIJ"
      },
      "outputs": [],
      "source": [
        "# Funcion para limpiar los espacios en blanco al inicio y al final\n",
        "\n",
        "def limpiar_espacios_blancos(df):\n",
        "  for columna in df.columns:\n",
        "    df[columna] = df[columna].str.strip()"
      ]
    },
    {
      "cell_type": "code",
      "execution_count": 14,
      "metadata": {
        "id": "XvbrsBxQwNxj"
      },
      "outputs": [],
      "source": [
        "# Funcion para cambiar valores None por NaN\n",
        "\n",
        "def llenar_Nan(df):\n",
        "  for columna in df.columns:\n",
        "    df[columna] = df[columna].fillna(np.NaN)"
      ]
    },
    {
      "cell_type": "code",
      "execution_count": 15,
      "metadata": {
        "colab": {
          "base_uri": "https://localhost:8080/"
        },
        "id": "A9Mnq_zwFRg1",
        "outputId": "3f84c65f-67a8-4338-cc4e-208312cf9205"
      },
      "outputs": [
        {
          "data": {
            "text/plain": [
              "Index(['HeartDisease', 'BMI', 'Smoking', 'AlcoholDrinking', 'Stroke',\n",
              "       'PhysicalHealth', 'MentalHealth', 'DiffWalking', 'Sex', 'AgeCategory',\n",
              "       'Race', 'Diabetic', 'PhysicalActivity', 'GenHealth', 'SleepTime',\n",
              "       'Asthma', 'KidneyDisease', 'SkinCancer'],\n",
              "      dtype='object')"
            ]
          },
          "execution_count": 15,
          "metadata": {},
          "output_type": "execute_result"
        }
      ],
      "source": [
        "df.columns"
      ]
    },
    {
      "cell_type": "code",
      "execution_count": 16,
      "metadata": {
        "id": "OSX7RBvTV6tO"
      },
      "outputs": [],
      "source": [
        "## llenar_Nan(df)\n",
        "## df.columns = df.columns.map(limpiar_nomb_colums)\n",
        "## limpiar_espacios_blancos(df)"
      ]
    },
    {
      "cell_type": "code",
      "execution_count": 17,
      "metadata": {
        "colab": {
          "base_uri": "https://localhost:8080/"
        },
        "id": "pYVx7XOC7WPJ",
        "outputId": "7ba84357-080f-4ae7-c139-280e0c89ab1d"
      },
      "outputs": [
        {
          "data": {
            "text/plain": [
              "Index(['HeartDisease', 'BMI', 'Smoking', 'AlcoholDrinking', 'Stroke',\n",
              "       'PhysicalHealth', 'MentalHealth', 'DiffWalking', 'Sex', 'AgeCategory',\n",
              "       'Race', 'Diabetic', 'PhysicalActivity', 'GenHealth', 'SleepTime',\n",
              "       'Asthma', 'KidneyDisease', 'SkinCancer'],\n",
              "      dtype='object')"
            ]
          },
          "execution_count": 17,
          "metadata": {},
          "output_type": "execute_result"
        }
      ],
      "source": [
        "df.columns"
      ]
    },
    {
      "cell_type": "markdown",
      "metadata": {
        "id": "jjA_lW8-1cF6"
      },
      "source": [
        "## Columna: HeartDisease"
      ]
    },
    {
      "cell_type": "code",
      "execution_count": 18,
      "metadata": {
        "colab": {
          "base_uri": "https://localhost:8080/"
        },
        "id": "_90cWtQw8K7X",
        "outputId": "aa36f592-3e5c-47b6-8a6e-0689e5fd9397"
      },
      "outputs": [
        {
          "data": {
            "text/plain": [
              "array(['No', 'Yes'], dtype=object)"
            ]
          },
          "execution_count": 18,
          "metadata": {},
          "output_type": "execute_result"
        }
      ],
      "source": [
        "df['HeartDisease'].unique()"
      ]
    },
    {
      "cell_type": "code",
      "execution_count": 19,
      "metadata": {
        "colab": {
          "base_uri": "https://localhost:8080/"
        },
        "id": "PZ8OZZdoVLKi",
        "outputId": "0e5a3fb6-317b-4691-d534-ba85185568a5"
      },
      "outputs": [
        {
          "data": {
            "text/plain": [
              "2"
            ]
          },
          "execution_count": 19,
          "metadata": {},
          "output_type": "execute_result"
        }
      ],
      "source": [
        "df['HeartDisease'].nunique()"
      ]
    },
    {
      "cell_type": "code",
      "execution_count": 20,
      "metadata": {
        "colab": {
          "base_uri": "https://localhost:8080/",
          "height": 670
        },
        "id": "lFNRTBgXVf62",
        "outputId": "231071ab-8299-4c98-b63a-65d01be4d846"
      },
      "outputs": [
        {
          "data": {
            "image/png": "[encoded data removed]",
            "text/plain": [
              "<Figure size 1000x1000 with 2 Axes>"
            ]
          },
          "metadata": {},
          "output_type": "display_data"
        }
      ],
      "source": [
        "fig, axes = plt.subplots(1, 2, figsize = (10,10))\n",
        "\n",
        "sns.countplot(x='HeartDisease', palette='Blues', hue='HeartDisease', data=df, ax=axes[0])\n",
        "plt.pie(df['HeartDisease'].value_counts(), autopct='%1.1f%%', labels=df['HeartDisease'].unique())\n",
        "plt.subplots_adjust(left=0.2)\n",
        "plt.show()"
      ]
    },
    {
      "cell_type": "markdown",
      "metadata": {
        "id": "jtIg5JlH8b1B"
      },
      "source": [
        "## Columna: BMI"
      ]
    },
    {
      "cell_type": "code",
      "execution_count": 21,
      "metadata": {
        "colab": {
          "base_uri": "https://localhost:8080/"
        },
        "id": "DuFgAMo18b1C",
        "outputId": "7d2f55ff-6b54-459c-e634-4b550e7c5f95"
      },
      "outputs": [
        {
          "data": {
            "text/plain": [
              "array([16.6 , 20.34, 26.58, ..., 62.42, 51.46, 46.56])"
            ]
          },
          "execution_count": 21,
          "metadata": {},
          "output_type": "execute_result"
        }
      ],
      "source": [
        "df['BMI'].unique()"
      ]
    },
    {
      "cell_type": "code",
      "execution_count": 22,
      "metadata": {
        "colab": {
          "base_uri": "https://localhost:8080/"
        },
        "id": "jjwKcIjuIuFR",
        "outputId": "9ee0e425-77d0-4fe4-d1a7-b7741922853b"
      },
      "outputs": [
        {
          "data": {
            "text/plain": [
              "3604"
            ]
          },
          "execution_count": 22,
          "metadata": {},
          "output_type": "execute_result"
        }
      ],
      "source": [
        "df['BMI'].nunique()"
      ]
    },
    {
      "cell_type": "code",
      "execution_count": 23,
      "metadata": {
        "colab": {
          "base_uri": "https://localhost:8080/",
          "height": 472
        },
        "id": "eyjXR013IvIW",
        "outputId": "35c2dc0b-ce6d-4d5a-ec4c-af32a53b8ad1"
      },
      "outputs": [
        {
          "data": {
            "image/png": "[encoded data removed]",
            "text/plain": [
              "<Figure size 640x480 with 1 Axes>"
            ]
          },
          "metadata": {},
          "output_type": "display_data"
        }
      ],
      "source": [
        "sns.boxplot(data = df, x = \"HeartDisease\", y = \"BMI\")\n",
        "plt.xlabel(\"Heart Disease\")\n",
        "plt.ylabel(\"BMI\")\n",
        "plt.title(\"Distribution of BMI by Heart Disease\")\n",
        "plt.grid(True)\n",
        "plt.show()\n",
        "\n",
        "# Aplicar logaritmo"
      ]
    },
    {
      "cell_type": "markdown",
      "metadata": {
        "id": "QaTxpCLB8crJ"
      },
      "source": [
        "## Columna: Smoking"
      ]
    },
    {
      "cell_type": "code",
      "execution_count": 24,
      "metadata": {
        "colab": {
          "base_uri": "https://localhost:8080/"
        },
        "id": "EGr1ZU3P8crK",
        "outputId": "b7e4c029-16b6-4b2c-bdad-00889282f6f1"
      },
      "outputs": [
        {
          "data": {
            "text/plain": [
              "array(['Yes', 'No'], dtype=object)"
            ]
          },
          "execution_count": 24,
          "metadata": {},
          "output_type": "execute_result"
        }
      ],
      "source": [
        "df['Smoking'].unique()"
      ]
    },
    {
      "cell_type": "code",
      "execution_count": 25,
      "metadata": {
        "colab": {
          "base_uri": "https://localhost:8080/"
        },
        "id": "EpyhBdOgI1dR",
        "outputId": "0a1a1d7b-1e23-45ce-9e48-4abea7080018"
      },
      "outputs": [
        {
          "data": {
            "text/plain": [
              "2"
            ]
          },
          "execution_count": 25,
          "metadata": {},
          "output_type": "execute_result"
        }
      ],
      "source": [
        "df['Smoking'].nunique()"
      ]
    },
    {
      "cell_type": "code",
      "execution_count": 26,
      "metadata": {
        "colab": {
          "base_uri": "https://localhost:8080/",
          "height": 472
        },
        "id": "_9pG-cVxI1w7",
        "outputId": "968ac1bc-37f7-4f8d-d18d-292799e6f792"
      },
      "outputs": [
        {
          "data": {
            "image/png": "[encoded data removed]",
            "text/plain": [
              "<Figure size 640x480 with 1 Axes>"
            ]
          },
          "metadata": {},
          "output_type": "display_data"
        }
      ],
      "source": [
        "SMxHD = df.groupby([\"Smoking\", \"HeartDisease\"])[\"HeartDisease\"].count().unstack()\n",
        "SMxHD.plot(kind=\"bar\", stacked=False)  # Adjust for stacked or side-by-side bars\n",
        "plt.xlabel(\"Smoking \")\n",
        "plt.ylabel(\"Heart Disease\")\n",
        "plt.title(\"Heart Disease by Smoking\")\n",
        "plt.xticks(rotation=0)\n",
        "plt.grid(axis=\"y\")\n",
        "plt.show()"
      ]
    },
    {
      "cell_type": "markdown",
      "metadata": {
        "id": "-tTATvyM9LPo"
      },
      "source": [
        "## Columna: AlcoholDrinking"
      ]
    },
    {
      "cell_type": "code",
      "execution_count": 27,
      "metadata": {
        "colab": {
          "base_uri": "https://localhost:8080/"
        },
        "id": "CRF0j-wTI2tz",
        "outputId": "60d75274-4a89-4f90-9438-ab75a0b0763f"
      },
      "outputs": [
        {
          "data": {
            "text/plain": [
              "array(['No', 'Yes'], dtype=object)"
            ]
          },
          "execution_count": 27,
          "metadata": {},
          "output_type": "execute_result"
        }
      ],
      "source": [
        "df['AlcoholDrinking'].unique()"
      ]
    },
    {
      "cell_type": "code",
      "execution_count": 28,
      "metadata": {
        "colab": {
          "base_uri": "https://localhost:8080/"
        },
        "id": "XW3TC_4S9LPo",
        "outputId": "0e07118c-dca0-4a06-c382-c64d0f38df94"
      },
      "outputs": [
        {
          "data": {
            "text/plain": [
              "2"
            ]
          },
          "execution_count": 28,
          "metadata": {},
          "output_type": "execute_result"
        }
      ],
      "source": [
        "df['AlcoholDrinking'].nunique()"
      ]
    },
    {
      "cell_type": "code",
      "execution_count": 29,
      "metadata": {
        "colab": {
          "base_uri": "https://localhost:8080/",
          "height": 472
        },
        "id": "T-pDIqLUI3Xv",
        "outputId": "3c4fafb4-5cd7-4f2f-aa14-12fd804ed630"
      },
      "outputs": [
        {
          "data": {
            "image/png": "[encoded data removed]",
            "text/plain": [
              "<Figure size 640x480 with 1 Axes>"
            ]
          },
          "metadata": {},
          "output_type": "display_data"
        }
      ],
      "source": [
        "ADxHD = df.groupby([\"AlcoholDrinking\", \"HeartDisease\"])[\"HeartDisease\"].count().unstack()\n",
        "ADxHD.plot(kind=\"bar\", stacked=False)  # Adjust for stacked or side-by-side bars\n",
        "plt.xlabel(\"Alcohol Drinking\")\n",
        "plt.ylabel(\"Heart Disease\")\n",
        "plt.title(\"Heart Disease by Alcohol Drinking\")\n",
        "plt.xticks(rotation=0)\n",
        "plt.grid(axis=\"y\")\n",
        "plt.show()"
      ]
    },
    {
      "cell_type": "markdown",
      "metadata": {
        "id": "nUEWcvOK9LcX"
      },
      "source": [
        "## Columna: Stroke"
      ]
    },
    {
      "cell_type": "code",
      "execution_count": 30,
      "metadata": {
        "colab": {
          "base_uri": "https://localhost:8080/"
        },
        "id": "6EoV6K8W9LcX",
        "outputId": "375a01f5-64f9-4e68-8a8b-d766a216c2e8"
      },
      "outputs": [
        {
          "data": {
            "text/plain": [
              "array(['No', 'Yes'], dtype=object)"
            ]
          },
          "execution_count": 30,
          "metadata": {},
          "output_type": "execute_result"
        }
      ],
      "source": [
        "df['Stroke'].unique()"
      ]
    },
    {
      "cell_type": "code",
      "execution_count": 31,
      "metadata": {
        "colab": {
          "base_uri": "https://localhost:8080/"
        },
        "id": "dlXHEO74I31-",
        "outputId": "759a69de-bba5-444a-f29e-356696ca3e1d"
      },
      "outputs": [
        {
          "data": {
            "text/plain": [
              "2"
            ]
          },
          "execution_count": 31,
          "metadata": {},
          "output_type": "execute_result"
        }
      ],
      "source": [
        "df['Stroke'].nunique()"
      ]
    },
    {
      "cell_type": "code",
      "execution_count": 32,
      "metadata": {
        "colab": {
          "base_uri": "https://localhost:8080/",
          "height": 472
        },
        "id": "JgkNgtELI4Qf",
        "outputId": "89f3b24c-ce98-48ed-9fbc-5d75aa6115fc"
      },
      "outputs": [
        {
          "data": {
            "image/png": "[encoded data removed]",
            "text/plain": [
              "<Figure size 640x480 with 1 Axes>"
            ]
          },
          "metadata": {},
          "output_type": "display_data"
        }
      ],
      "source": [
        "STxHD = df.groupby([\"Stroke\", \"HeartDisease\"])[\"HeartDisease\"].count().unstack()\n",
        "STxHD.plot(kind=\"bar\", stacked=False)  # Adjust for stacked or side-by-side bars\n",
        "plt.xlabel(\"Stroke\")\n",
        "plt.ylabel(\"Heart Disease\")\n",
        "plt.title(\"Heart Disease by Stroke\")\n",
        "plt.xticks(rotation=0)\n",
        "plt.grid(axis=\"y\")\n",
        "plt.show()"
      ]
    },
    {
      "cell_type": "markdown",
      "metadata": {
        "id": "Y2na-3o_9Ljw"
      },
      "source": [
        "## Columna: PhysicalHealth"
      ]
    },
    {
      "cell_type": "code",
      "execution_count": 33,
      "metadata": {
        "id": "-7WZu73W9Ljx"
      },
      "outputs": [],
      "source": [
        "# Rosalia"
      ]
    },
    {
      "cell_type": "markdown",
      "metadata": {
        "id": "e0hSa83n9LpF"
      },
      "source": [
        "## Columna: MentalHealth"
      ]
    },
    {
      "cell_type": "code",
      "execution_count": 34,
      "metadata": {
        "id": "qzd8DAJH9LpF"
      },
      "outputs": [],
      "source": [
        "# Rosalia"
      ]
    },
    {
      "cell_type": "markdown",
      "metadata": {
        "id": "j1OH53-59L2M"
      },
      "source": [
        "## Columna: DiffWalking"
      ]
    },
    {
      "cell_type": "code",
      "execution_count": 35,
      "metadata": {
        "id": "ZT9iAOv89L2N"
      },
      "outputs": [],
      "source": [
        "# Rosalia"
      ]
    },
    {
      "cell_type": "markdown",
      "metadata": {
        "id": "Y1kiMiSB9L8F"
      },
      "source": [
        "## Columna: Sex"
      ]
    },
    {
      "cell_type": "code",
      "execution_count": 36,
      "metadata": {
        "id": "xGr3CTRv9L8F"
      },
      "outputs": [],
      "source": [
        "# Rosalia"
      ]
    },
    {
      "cell_type": "markdown",
      "metadata": {
        "id": "mnewfxec8TrW"
      },
      "source": [
        "## Columna: AgeCategory"
      ]
    },
    {
      "cell_type": "code",
      "execution_count": 37,
      "metadata": {
        "colab": {
          "base_uri": "https://localhost:8080/"
        },
        "id": "Cc2lOe299rrH",
        "outputId": "fcc98c88-4dd9-45ab-8080-bc9c281616cc"
      },
      "outputs": [
        {
          "data": {
            "text/plain": [
              "array(['55-59', '80 or older', '65-69', '75-79', '40-44', '70-74',\n",
              "       '60-64', '50-54', '45-49', '18-24', '35-39', '30-34', '25-29'],\n",
              "      dtype=object)"
            ]
          },
          "execution_count": 37,
          "metadata": {},
          "output_type": "execute_result"
        }
      ],
      "source": [
        "# 2024-07-02 AGM\n",
        "df['AgeCategory'].unique()"
      ]
    },
    {
      "cell_type": "code",
      "execution_count": 38,
      "metadata": {
        "colab": {
          "base_uri": "https://localhost:8080/"
        },
        "id": "mFbp-oytVnG1",
        "outputId": "a5823396-3479-4646-a639-ae321572ae1e"
      },
      "outputs": [
        {
          "name": "stdout",
          "output_type": "stream",
          "text": [
            "<class 'pandas.core.series.Series'>\n",
            "RangeIndex: 319795 entries, 0 to 319794\n",
            "Series name: AgeCategory\n",
            "Non-Null Count   Dtype \n",
            "--------------   ----- \n",
            "319795 non-null  object\n",
            "dtypes: object(1)\n",
            "memory usage: 2.4+ MB\n"
          ]
        }
      ],
      "source": [
        "df['AgeCategory'].info()"
      ]
    },
    {
      "cell_type": "code",
      "execution_count": 39,
      "metadata": {
        "colab": {
          "base_uri": "https://localhost:8080/",
          "height": 244
        },
        "id": "MqGxZTz_Vx83",
        "outputId": "81b3ed23-540a-42cb-f208-532bda89562b"
      },
      "outputs": [
        {
          "data": {
            "text/html": [
              "<div>\n",
              "<style scoped>\n",
              "    .dataframe tbody tr th:only-of-type {\n",
              "        vertical-align: middle;\n",
              "    }\n",
              "\n",
              "    .dataframe tbody tr th {\n",
              "        vertical-align: top;\n",
              "    }\n",
              "\n",
              "    .dataframe thead th {\n",
              "        text-align: right;\n",
              "    }\n",
              "</style>\n",
              "<table border=\"1\" class=\"dataframe\">\n",
              "  <thead>\n",
              "    <tr style=\"text-align: right;\">\n",
              "      <th></th>\n",
              "      <th>AgeCategory_18-24</th>\n",
              "      <th>AgeCategory_25-29</th>\n",
              "      <th>AgeCategory_30-34</th>\n",
              "      <th>AgeCategory_35-39</th>\n",
              "      <th>AgeCategory_40-44</th>\n",
              "      <th>AgeCategory_45-49</th>\n",
              "      <th>AgeCategory_50-54</th>\n",
              "      <th>AgeCategory_55-59</th>\n",
              "      <th>AgeCategory_60-64</th>\n",
              "      <th>AgeCategory_65-69</th>\n",
              "      <th>AgeCategory_70-74</th>\n",
              "      <th>AgeCategory_75-79</th>\n",
              "      <th>AgeCategory_80 or older</th>\n",
              "    </tr>\n",
              "  </thead>\n",
              "  <tbody>\n",
              "    <tr>\n",
              "      <th>297671</th>\n",
              "      <td>0.0</td>\n",
              "      <td>0.0</td>\n",
              "      <td>0.0</td>\n",
              "      <td>0.0</td>\n",
              "      <td>0.0</td>\n",
              "      <td>0.0</td>\n",
              "      <td>0.0</td>\n",
              "      <td>0.0</td>\n",
              "      <td>0.0</td>\n",
              "      <td>0.0</td>\n",
              "      <td>0.0</td>\n",
              "      <td>0.0</td>\n",
              "      <td>1.0</td>\n",
              "    </tr>\n",
              "    <tr>\n",
              "      <th>56282</th>\n",
              "      <td>0.0</td>\n",
              "      <td>0.0</td>\n",
              "      <td>0.0</td>\n",
              "      <td>0.0</td>\n",
              "      <td>0.0</td>\n",
              "      <td>0.0</td>\n",
              "      <td>0.0</td>\n",
              "      <td>0.0</td>\n",
              "      <td>0.0</td>\n",
              "      <td>0.0</td>\n",
              "      <td>1.0</td>\n",
              "      <td>0.0</td>\n",
              "      <td>0.0</td>\n",
              "    </tr>\n",
              "    <tr>\n",
              "      <th>211677</th>\n",
              "      <td>0.0</td>\n",
              "      <td>1.0</td>\n",
              "      <td>0.0</td>\n",
              "      <td>0.0</td>\n",
              "      <td>0.0</td>\n",
              "      <td>0.0</td>\n",
              "      <td>0.0</td>\n",
              "      <td>0.0</td>\n",
              "      <td>0.0</td>\n",
              "      <td>0.0</td>\n",
              "      <td>0.0</td>\n",
              "      <td>0.0</td>\n",
              "      <td>0.0</td>\n",
              "    </tr>\n",
              "    <tr>\n",
              "      <th>284012</th>\n",
              "      <td>0.0</td>\n",
              "      <td>0.0</td>\n",
              "      <td>0.0</td>\n",
              "      <td>0.0</td>\n",
              "      <td>0.0</td>\n",
              "      <td>0.0</td>\n",
              "      <td>0.0</td>\n",
              "      <td>0.0</td>\n",
              "      <td>0.0</td>\n",
              "      <td>1.0</td>\n",
              "      <td>0.0</td>\n",
              "      <td>0.0</td>\n",
              "      <td>0.0</td>\n",
              "    </tr>\n",
              "    <tr>\n",
              "      <th>65091</th>\n",
              "      <td>0.0</td>\n",
              "      <td>0.0</td>\n",
              "      <td>0.0</td>\n",
              "      <td>0.0</td>\n",
              "      <td>0.0</td>\n",
              "      <td>0.0</td>\n",
              "      <td>0.0</td>\n",
              "      <td>1.0</td>\n",
              "      <td>0.0</td>\n",
              "      <td>0.0</td>\n",
              "      <td>0.0</td>\n",
              "      <td>0.0</td>\n",
              "      <td>0.0</td>\n",
              "    </tr>\n",
              "  </tbody>\n",
              "</table>\n",
              "</div>"
            ],
            "text/plain": [
              "        AgeCategory_18-24  AgeCategory_25-29  AgeCategory_30-34  \\\n",
              "297671                0.0                0.0                0.0   \n",
              "56282                 0.0                0.0                0.0   \n",
              "211677                0.0                1.0                0.0   \n",
              "284012                0.0                0.0                0.0   \n",
              "65091                 0.0                0.0                0.0   \n",
              "\n",
              "        AgeCategory_35-39  AgeCategory_40-44  AgeCategory_45-49  \\\n",
              "297671                0.0                0.0                0.0   \n",
              "56282                 0.0                0.0                0.0   \n",
              "211677                0.0                0.0                0.0   \n",
              "284012                0.0                0.0                0.0   \n",
              "65091                 0.0                0.0                0.0   \n",
              "\n",
              "        AgeCategory_50-54  AgeCategory_55-59  AgeCategory_60-64  \\\n",
              "297671                0.0                0.0                0.0   \n",
              "56282                 0.0                0.0                0.0   \n",
              "211677                0.0                0.0                0.0   \n",
              "284012                0.0                0.0                0.0   \n",
              "65091                 0.0                1.0                0.0   \n",
              "\n",
              "        AgeCategory_65-69  AgeCategory_70-74  AgeCategory_75-79  \\\n",
              "297671                0.0                0.0                0.0   \n",
              "56282                 0.0                1.0                0.0   \n",
              "211677                0.0                0.0                0.0   \n",
              "284012                1.0                0.0                0.0   \n",
              "65091                 0.0                0.0                0.0   \n",
              "\n",
              "        AgeCategory_80 or older  \n",
              "297671                      1.0  \n",
              "56282                       0.0  \n",
              "211677                      0.0  \n",
              "284012                      0.0  \n",
              "65091                       0.0  "
            ]
          },
          "execution_count": 39,
          "metadata": {},
          "output_type": "execute_result"
        }
      ],
      "source": [
        "one_hot_encoder = OneHotEncoder(drop = None, sparse_output = False)\n",
        "tabla = one_hot_encoder.fit_transform(df[['AgeCategory']])\n",
        "df_age_category = pd.DataFrame(tabla, columns = one_hot_encoder.get_feature_names_out(['AgeCategory']))\n",
        "df_age_category.sample(5)"
      ]
    },
    {
      "cell_type": "code",
      "execution_count": 40,
      "metadata": {
        "colab": {
          "base_uri": "https://localhost:8080/"
        },
        "id": "NrxA9_nzV2K4",
        "outputId": "3be31258-2922-446f-c2c0-4c8d1d385ddd"
      },
      "outputs": [
        {
          "data": {
            "text/plain": [
              "AgeCategory_18-24          int64\n",
              "AgeCategory_25-29          int64\n",
              "AgeCategory_30-34          int64\n",
              "AgeCategory_35-39          int64\n",
              "AgeCategory_40-44          int64\n",
              "AgeCategory_45-49          int64\n",
              "AgeCategory_50-54          int64\n",
              "AgeCategory_55-59          int64\n",
              "AgeCategory_60-64          int64\n",
              "AgeCategory_65-69          int64\n",
              "AgeCategory_70-74          int64\n",
              "AgeCategory_75-79          int64\n",
              "AgeCategory_80 or older    int64\n",
              "dtype: object"
            ]
          },
          "execution_count": 40,
          "metadata": {},
          "output_type": "execute_result"
        }
      ],
      "source": [
        "df_age_category = df_age_category.astype(int)\n",
        "df_age_category.dtypes"
      ]
    },
    {
      "cell_type": "code",
      "execution_count": 41,
      "metadata": {
        "colab": {
          "base_uri": "https://localhost:8080/",
          "height": 607
        },
        "id": "RBl1s-pHV8Wy",
        "outputId": "dc71e6da-3e49-4eef-c53f-966752be47d0"
      },
      "outputs": [
        {
          "data": {
            "image/png": "[encoded data removed]",
            "text/plain": [
              "<Figure size 1000x600 with 1 Axes>"
            ]
          },
          "metadata": {},
          "output_type": "display_data"
        }
      ],
      "source": [
        "suma_edades = df_age_category.sum(axis = 0)\n",
        "\n",
        "plt.figure(figsize=(10, 6))\n",
        "plt.bar(suma_edades.index, suma_edades.values)\n",
        "plt.title('Distribución por Franjas de Edad')\n",
        "plt.xlabel('Categoría de Edad')\n",
        "plt.ylabel('Número')\n",
        "plt.xticks(rotation=45)\n",
        "plt.tight_layout()\n",
        "\n",
        "plt.show()"
      ]
    },
    {
      "cell_type": "markdown",
      "metadata": {
        "id": "A9uatJEP9uos"
      },
      "source": [
        "## Columna: Race"
      ]
    },
    {
      "cell_type": "code",
      "execution_count": 42,
      "metadata": {
        "colab": {
          "base_uri": "https://localhost:8080/"
        },
        "id": "DwnGWGal9uoy",
        "outputId": "9bab935d-7271-46a0-8196-e89bd15d6d80"
      },
      "outputs": [
        {
          "data": {
            "text/plain": [
              "array(['White', 'Black', 'Asian', 'American Indian/Alaskan Native',\n",
              "       'Other', 'Hispanic'], dtype=object)"
            ]
          },
          "execution_count": 42,
          "metadata": {},
          "output_type": "execute_result"
        }
      ],
      "source": [
        "# 2024-07-02 AGM\n",
        "\n",
        "df['Race'].unique()"
      ]
    },
    {
      "cell_type": "code",
      "execution_count": 43,
      "metadata": {
        "colab": {
          "base_uri": "https://localhost:8080/",
          "height": 206
        },
        "id": "CnjSitU4dJ7v",
        "outputId": "53d8736f-143d-4a64-ac9b-fb3b649f19ab"
      },
      "outputs": [
        {
          "data": {
            "text/html": [
              "<div>\n",
              "<style scoped>\n",
              "    .dataframe tbody tr th:only-of-type {\n",
              "        vertical-align: middle;\n",
              "    }\n",
              "\n",
              "    .dataframe tbody tr th {\n",
              "        vertical-align: top;\n",
              "    }\n",
              "\n",
              "    .dataframe thead th {\n",
              "        text-align: right;\n",
              "    }\n",
              "</style>\n",
              "<table border=\"1\" class=\"dataframe\">\n",
              "  <thead>\n",
              "    <tr style=\"text-align: right;\">\n",
              "      <th></th>\n",
              "      <th>Race_American Indian/Alaskan Native</th>\n",
              "      <th>Race_Asian</th>\n",
              "      <th>Race_Black</th>\n",
              "      <th>Race_Hispanic</th>\n",
              "      <th>Race_Other</th>\n",
              "      <th>Race_White</th>\n",
              "    </tr>\n",
              "  </thead>\n",
              "  <tbody>\n",
              "    <tr>\n",
              "      <th>294265</th>\n",
              "      <td>0.0</td>\n",
              "      <td>0.0</td>\n",
              "      <td>0.0</td>\n",
              "      <td>0.0</td>\n",
              "      <td>0.0</td>\n",
              "      <td>1.0</td>\n",
              "    </tr>\n",
              "    <tr>\n",
              "      <th>191622</th>\n",
              "      <td>0.0</td>\n",
              "      <td>0.0</td>\n",
              "      <td>0.0</td>\n",
              "      <td>1.0</td>\n",
              "      <td>0.0</td>\n",
              "      <td>0.0</td>\n",
              "    </tr>\n",
              "    <tr>\n",
              "      <th>181406</th>\n",
              "      <td>0.0</td>\n",
              "      <td>0.0</td>\n",
              "      <td>0.0</td>\n",
              "      <td>1.0</td>\n",
              "      <td>0.0</td>\n",
              "      <td>0.0</td>\n",
              "    </tr>\n",
              "    <tr>\n",
              "      <th>236080</th>\n",
              "      <td>0.0</td>\n",
              "      <td>0.0</td>\n",
              "      <td>0.0</td>\n",
              "      <td>0.0</td>\n",
              "      <td>0.0</td>\n",
              "      <td>1.0</td>\n",
              "    </tr>\n",
              "    <tr>\n",
              "      <th>245713</th>\n",
              "      <td>0.0</td>\n",
              "      <td>0.0</td>\n",
              "      <td>0.0</td>\n",
              "      <td>0.0</td>\n",
              "      <td>0.0</td>\n",
              "      <td>1.0</td>\n",
              "    </tr>\n",
              "  </tbody>\n",
              "</table>\n",
              "</div>"
            ],
            "text/plain": [
              "        Race_American Indian/Alaskan Native  Race_Asian  Race_Black  \\\n",
              "294265                                  0.0         0.0         0.0   \n",
              "191622                                  0.0         0.0         0.0   \n",
              "181406                                  0.0         0.0         0.0   \n",
              "236080                                  0.0         0.0         0.0   \n",
              "245713                                  0.0         0.0         0.0   \n",
              "\n",
              "        Race_Hispanic  Race_Other  Race_White  \n",
              "294265            0.0         0.0         1.0  \n",
              "191622            1.0         0.0         0.0  \n",
              "181406            1.0         0.0         0.0  \n",
              "236080            0.0         0.0         1.0  \n",
              "245713            0.0         0.0         1.0  "
            ]
          },
          "execution_count": 43,
          "metadata": {},
          "output_type": "execute_result"
        }
      ],
      "source": [
        "one_hot_encoder = OneHotEncoder(drop = None, sparse_output = False)\n",
        "tabla = one_hot_encoder.fit_transform(df[['Race']])\n",
        "df_race = pd.DataFrame(tabla, columns = one_hot_encoder.get_feature_names_out(['Race']))\n",
        "df_race.sample(5)"
      ]
    },
    {
      "cell_type": "code",
      "execution_count": 44,
      "metadata": {
        "colab": {
          "base_uri": "https://localhost:8080/",
          "height": 206
        },
        "id": "aQgkoBAodUjA",
        "outputId": "c00424bd-67d5-4257-f938-98ff62994070"
      },
      "outputs": [
        {
          "data": {
            "text/html": [
              "<div>\n",
              "<style scoped>\n",
              "    .dataframe tbody tr th:only-of-type {\n",
              "        vertical-align: middle;\n",
              "    }\n",
              "\n",
              "    .dataframe tbody tr th {\n",
              "        vertical-align: top;\n",
              "    }\n",
              "\n",
              "    .dataframe thead th {\n",
              "        text-align: right;\n",
              "    }\n",
              "</style>\n",
              "<table border=\"1\" class=\"dataframe\">\n",
              "  <thead>\n",
              "    <tr style=\"text-align: right;\">\n",
              "      <th></th>\n",
              "      <th>Race_American Indian/Alaskan Native</th>\n",
              "      <th>Race_Asian</th>\n",
              "      <th>Race_Black</th>\n",
              "      <th>Race_Hispanic</th>\n",
              "      <th>Race_Other</th>\n",
              "      <th>Race_White</th>\n",
              "    </tr>\n",
              "  </thead>\n",
              "  <tbody>\n",
              "    <tr>\n",
              "      <th>221589</th>\n",
              "      <td>0</td>\n",
              "      <td>0</td>\n",
              "      <td>0</td>\n",
              "      <td>0</td>\n",
              "      <td>0</td>\n",
              "      <td>1</td>\n",
              "    </tr>\n",
              "    <tr>\n",
              "      <th>35269</th>\n",
              "      <td>0</td>\n",
              "      <td>0</td>\n",
              "      <td>0</td>\n",
              "      <td>0</td>\n",
              "      <td>1</td>\n",
              "      <td>0</td>\n",
              "    </tr>\n",
              "    <tr>\n",
              "      <th>29683</th>\n",
              "      <td>0</td>\n",
              "      <td>0</td>\n",
              "      <td>0</td>\n",
              "      <td>0</td>\n",
              "      <td>0</td>\n",
              "      <td>1</td>\n",
              "    </tr>\n",
              "    <tr>\n",
              "      <th>83266</th>\n",
              "      <td>0</td>\n",
              "      <td>0</td>\n",
              "      <td>0</td>\n",
              "      <td>0</td>\n",
              "      <td>0</td>\n",
              "      <td>1</td>\n",
              "    </tr>\n",
              "    <tr>\n",
              "      <th>290213</th>\n",
              "      <td>0</td>\n",
              "      <td>0</td>\n",
              "      <td>0</td>\n",
              "      <td>0</td>\n",
              "      <td>0</td>\n",
              "      <td>1</td>\n",
              "    </tr>\n",
              "  </tbody>\n",
              "</table>\n",
              "</div>"
            ],
            "text/plain": [
              "        Race_American Indian/Alaskan Native  Race_Asian  Race_Black  \\\n",
              "221589                                    0           0           0   \n",
              "35269                                     0           0           0   \n",
              "29683                                     0           0           0   \n",
              "83266                                     0           0           0   \n",
              "290213                                    0           0           0   \n",
              "\n",
              "        Race_Hispanic  Race_Other  Race_White  \n",
              "221589              0           0           1  \n",
              "35269               0           1           0  \n",
              "29683               0           0           1  \n",
              "83266               0           0           1  \n",
              "290213              0           0           1  "
            ]
          },
          "execution_count": 44,
          "metadata": {},
          "output_type": "execute_result"
        }
      ],
      "source": [
        "df_race = df_race.astype(int)\n",
        "df_race.sample(5)"
      ]
    },
    {
      "cell_type": "code",
      "execution_count": 45,
      "metadata": {
        "colab": {
          "base_uri": "https://localhost:8080/",
          "height": 607
        },
        "id": "GGC-L7nVdcrw",
        "outputId": "4178105a-98a6-48f4-dbb3-1d854ded83ca"
      },
      "outputs": [
        {
          "data": {
            "image/png": "[encoded data removed]",
            "text/plain": [
              "<Figure size 1000x600 with 1 Axes>"
            ]
          },
          "metadata": {},
          "output_type": "display_data"
        }
      ],
      "source": [
        "suma_razas = df_race.sum(axis = 0)\n",
        "\n",
        "plt.figure(figsize = (10, 6))\n",
        "plt.bar(suma_razas.index, suma_razas.values)\n",
        "plt.title('Distribución por razas')\n",
        "plt.xlabel('Raza')\n",
        "plt.ylabel('Personas')\n",
        "plt.xticks(rotation = 45)\n",
        "plt.tight_layout()\n",
        "\n",
        "plt.show()\n"
      ]
    },
    {
      "cell_type": "code",
      "execution_count": 46,
      "metadata": {
        "colab": {
          "base_uri": "https://localhost:8080/",
          "height": 625
        },
        "id": "jBOVhBdqdlWw",
        "outputId": "4d0b5690-3a43-4825-c5be-35974dba970c"
      },
      "outputs": [
        {
          "data": {
            "image/png": "[encoded data removed]",
            "text/plain": [
              "<Figure size 640x480 with 1 Axes>"
            ]
          },
          "metadata": {},
          "output_type": "display_data"
        }
      ],
      "source": [
        "race_vs_hd = df.groupby(['Race', 'HeartDisease'])['HeartDisease'].count().unstack()\n",
        "race_vs_hd.plot(kind = 'bar', stacked = False)\n",
        "plt.xlabel('Raza')\n",
        "plt.ylabel('Enfermedad cardiovascular')\n",
        "plt.title('Número de casos por raza')\n",
        "plt.xticks(rotation = 45)\n",
        "plt.grid(True)\n",
        "\n",
        "plt.show()"
      ]
    },
    {
      "cell_type": "code",
      "execution_count": 47,
      "metadata": {
        "colab": {
          "base_uri": "https://localhost:8080/",
          "height": 637
        },
        "id": "YgPGXNLwdud5",
        "outputId": "1cc9533b-578c-40e4-c7cf-f90e75209c18"
      },
      "outputs": [
        {
          "data": {
            "application/vnd.plotly.v1+json": {
              "config": {
                "plotlyServerURL": "https://plot.ly"
              },
              "data": [
                {
                  "alignmentgroup": "True",
                  "bingroup": "x",
                  "histfunc": "sum",
                  "hovertemplate": "HeartDisease=No<br>Raza=%{x}<br>sum of Personas=%{y}<extra></extra>",
                  "legendgroup": "No",
                  "marker": {
                    "color": "#636efa",
                    "pattern": {
                      "shape": ""
                    }
                  },
                  "name": "No",
                  "offsetgroup": "No",
                  "orientation": "v",
                  "showlegend": true,
                  "type": "histogram",
                  "x": [
                    "American Indian/Alaskan Native",
                    "Asian",
                    "Black",
                    "Hispanic",
                    "Other",
                    "White"
                  ],
                  "xaxis": "x",
                  "y": [
                    4660,
                    7802,
                    21210,
                    26003,
                    10042,
                    222705
                  ],
                  "yaxis": "y"
                },
                {
                  "alignmentgroup": "True",
                  "bingroup": "x",
                  "histfunc": "sum",
                  "hovertemplate": "HeartDisease=Yes<br>Raza=%{x}<br>sum of Personas=%{y}<extra></extra>",
                  "legendgroup": "Yes",
                  "marker": {
                    "color": "#EF553B",
                    "pattern": {
                      "shape": ""
                    }
                  },
                  "name": "Yes",
                  "offsetgroup": "Yes",
                  "orientation": "v",
                  "showlegend": true,
                  "type": "histogram",
                  "x": [
                    "American Indian/Alaskan Native",
                    "Asian",
                    "Black",
                    "Hispanic",
                    "Other",
                    "White"
                  ],
                  "xaxis": "x",
                  "y": [
                    542,
                    266,
                    1729,
                    1443,
                    886,
                    22507
                  ],
                  "yaxis": "y"
                }
              ],
              "layout": {
                "barmode": "group",
                "height": 600,
                "legend": {
                  "title": {
                    "text": "HeartDisease"
                  },
                  "tracegroupgap": 0
                },
                "template": {
                  "data": {
                    "bar": [
                      {
                        "error_x": {
                          "color": "#2a3f5f"
                        },
                        "error_y": {
                          "color": "#2a3f5f"
                        },
                        "marker": {
                          "line": {
                            "color": "#E5ECF6",
                            "width": 0.5
                          },
                          "pattern": {
                            "fillmode": "overlay",
                            "size": 10,
                            "solidity": 0.2
                          }
                        },
                        "type": "bar"
                      }
                    ],
                    "barpolar": [
                      {
                        "marker": {
                          "line": {
                            "color": "#E5ECF6",
                            "width": 0.5
                          },
                          "pattern": {
                            "fillmode": "overlay",
                            "size": 10,
                            "solidity": 0.2
                          }
                        },
                        "type": "barpolar"
                      }
                    ],
                    "carpet": [
                      {
                        "aaxis": {
                          "endlinecolor": "#2a3f5f",
                          "gridcolor": "white",
                          "linecolor": "white",
                          "minorgridcolor": "white",
                          "startlinecolor": "#2a3f5f"
                        },
                        "baxis": {
                          "endlinecolor": "#2a3f5f",
                          "gridcolor": "white",
                          "linecolor": "white",
                          "minorgridcolor": "white",
                          "startlinecolor": "#2a3f5f"
                        },
                        "type": "carpet"
                      }
                    ],
                    "choropleth": [
                      {
                        "colorbar": {
                          "outlinewidth": 0,
                          "ticks": ""
                        },
                        "type": "choropleth"
                      }
                    ],
                    "contour": [
                      {
                        "colorbar": {
                          "outlinewidth": 0,
                          "ticks": ""
                        },
                        "colorscale": [
                          [
                            0,
                            "#0d0887"
                          ],
                          [
                            0.1111111111111111,
                            "#46039f"
                          ],
                          [
                            0.2222222222222222,
                            "#7201a8"
                          ],
                          [
                            0.3333333333333333,
                            "#9c179e"
                          ],
                          [
                            0.4444444444444444,
                            "#bd3786"
                          ],
                          [
                            0.5555555555555556,
                            "#d8576b"
                          ],
                          [
                            0.6666666666666666,
                            "#ed7953"
                          ],
                          [
                            0.7777777777777778,
                            "#fb9f3a"
                          ],
                          [
                            0.8888888888888888,
                            "#fdca26"
                          ],
                          [
                            1,
                            "#f0f921"
                          ]
                        ],
                        "type": "contour"
                      }
                    ],
                    "contourcarpet": [
                      {
                        "colorbar": {
                          "outlinewidth": 0,
                          "ticks": ""
                        },
                        "type": "contourcarpet"
                      }
                    ],
                    "heatmap": [
                      {
                        "colorbar": {
                          "outlinewidth": 0,
                          "ticks": ""
                        },
                        "colorscale": [
                          [
                            0,
                            "#0d0887"
                          ],
                          [
                            0.1111111111111111,
                            "#46039f"
                          ],
                          [
                            0.2222222222222222,
                            "#7201a8"
                          ],
                          [
                            0.3333333333333333,
                            "#9c179e"
                          ],
                          [
                            0.4444444444444444,
                            "#bd3786"
                          ],
                          [
                            0.5555555555555556,
                            "#d8576b"
                          ],
                          [
                            0.6666666666666666,
                            "#ed7953"
                          ],
                          [
                            0.7777777777777778,
                            "#fb9f3a"
                          ],
                          [
                            0.8888888888888888,
                            "#fdca26"
                          ],
                          [
                            1,
                            "#f0f921"
                          ]
                        ],
                        "type": "heatmap"
                      }
                    ],
                    "heatmapgl": [
                      {
                        "colorbar": {
                          "outlinewidth": 0,
                          "ticks": ""
                        },
                        "colorscale": [
                          [
                            0,
                            "#0d0887"
                          ],
                          [
                            0.1111111111111111,
                            "#46039f"
                          ],
                          [
                            0.2222222222222222,
                            "#7201a8"
                          ],
                          [
                            0.3333333333333333,
                            "#9c179e"
                          ],
                          [
                            0.4444444444444444,
                            "#bd3786"
                          ],
                          [
                            0.5555555555555556,
                            "#d8576b"
                          ],
                          [
                            0.6666666666666666,
                            "#ed7953"
                          ],
                          [
                            0.7777777777777778,
                            "#fb9f3a"
                          ],
                          [
                            0.8888888888888888,
                            "#fdca26"
                          ],
                          [
                            1,
                            "#f0f921"
                          ]
                        ],
                        "type": "heatmapgl"
                      }
                    ],
                    "histogram": [
                      {
                        "marker": {
                          "pattern": {
                            "fillmode": "overlay",
                            "size": 10,
                            "solidity": 0.2
                          }
                        },
                        "type": "histogram"
                      }
                    ],
                    "histogram2d": [
                      {
                        "colorbar": {
                          "outlinewidth": 0,
                          "ticks": ""
                        },
                        "colorscale": [
                          [
                            0,
                            "#0d0887"
                          ],
                          [
                            0.1111111111111111,
                            "#46039f"
                          ],
                          [
                            0.2222222222222222,
                            "#7201a8"
                          ],
                          [
                            0.3333333333333333,
                            "#9c179e"
                          ],
                          [
                            0.4444444444444444,
                            "#bd3786"
                          ],
                          [
                            0.5555555555555556,
                            "#d8576b"
                          ],
                          [
                            0.6666666666666666,
                            "#ed7953"
                          ],
                          [
                            0.7777777777777778,
                            "#fb9f3a"
                          ],
                          [
                            0.8888888888888888,
                            "#fdca26"
                          ],
                          [
                            1,
                            "#f0f921"
                          ]
                        ],
                        "type": "histogram2d"
                      }
                    ],
                    "histogram2dcontour": [
                      {
                        "colorbar": {
                          "outlinewidth": 0,
                          "ticks": ""
                        },
                        "colorscale": [
                          [
                            0,
                            "#0d0887"
                          ],
                          [
                            0.1111111111111111,
                            "#46039f"
                          ],
                          [
                            0.2222222222222222,
                            "#7201a8"
                          ],
                          [
                            0.3333333333333333,
                            "#9c179e"
                          ],
                          [
                            0.4444444444444444,
                            "#bd3786"
                          ],
                          [
                            0.5555555555555556,
                            "#d8576b"
                          ],
                          [
                            0.6666666666666666,
                            "#ed7953"
                          ],
                          [
                            0.7777777777777778,
                            "#fb9f3a"
                          ],
                          [
                            0.8888888888888888,
                            "#fdca26"
                          ],
                          [
                            1,
                            "#f0f921"
                          ]
                        ],
                        "type": "histogram2dcontour"
                      }
                    ],
                    "mesh3d": [
                      {
                        "colorbar": {
                          "outlinewidth": 0,
                          "ticks": ""
                        },
                        "type": "mesh3d"
                      }
                    ],
                    "parcoords": [
                      {
                        "line": {
                          "colorbar": {
                            "outlinewidth": 0,
                            "ticks": ""
                          }
                        },
                        "type": "parcoords"
                      }
                    ],
                    "pie": [
                      {
                        "automargin": true,
                        "type": "pie"
                      }
                    ],
                    "scatter": [
                      {
                        "fillpattern": {
                          "fillmode": "overlay",
                          "size": 10,
                          "solidity": 0.2
                        },
                        "type": "scatter"
                      }
                    ],
                    "scatter3d": [
                      {
                        "line": {
                          "colorbar": {
                            "outlinewidth": 0,
                            "ticks": ""
                          }
                        },
                        "marker": {
                          "colorbar": {
                            "outlinewidth": 0,
                            "ticks": ""
                          }
                        },
                        "type": "scatter3d"
                      }
                    ],
                    "scattercarpet": [
                      {
                        "marker": {
                          "colorbar": {
                            "outlinewidth": 0,
                            "ticks": ""
                          }
                        },
                        "type": "scattercarpet"
                      }
                    ],
                    "scattergeo": [
                      {
                        "marker": {
                          "colorbar": {
                            "outlinewidth": 0,
                            "ticks": ""
                          }
                        },
                        "type": "scattergeo"
                      }
                    ],
                    "scattergl": [
                      {
                        "marker": {
                          "colorbar": {
                            "outlinewidth": 0,
                            "ticks": ""
                          }
                        },
                        "type": "scattergl"
                      }
                    ],
                    "scattermapbox": [
                      {
                        "marker": {
                          "colorbar": {
                            "outlinewidth": 0,
                            "ticks": ""
                          }
                        },
                        "type": "scattermapbox"
                      }
                    ],
                    "scatterpolar": [
                      {
                        "marker": {
                          "colorbar": {
                            "outlinewidth": 0,
                            "ticks": ""
                          }
                        },
                        "type": "scatterpolar"
                      }
                    ],
                    "scatterpolargl": [
                      {
                        "marker": {
                          "colorbar": {
                            "outlinewidth": 0,
                            "ticks": ""
                          }
                        },
                        "type": "scatterpolargl"
                      }
                    ],
                    "scatterternary": [
                      {
                        "marker": {
                          "colorbar": {
                            "outlinewidth": 0,
                            "ticks": ""
                          }
                        },
                        "type": "scatterternary"
                      }
                    ],
                    "surface": [
                      {
                        "colorbar": {
                          "outlinewidth": 0,
                          "ticks": ""
                        },
                        "colorscale": [
                          [
                            0,
                            "#0d0887"
                          ],
                          [
                            0.1111111111111111,
                            "#46039f"
                          ],
                          [
                            0.2222222222222222,
                            "#7201a8"
                          ],
                          [
                            0.3333333333333333,
                            "#9c179e"
                          ],
                          [
                            0.4444444444444444,
                            "#bd3786"
                          ],
                          [
                            0.5555555555555556,
                            "#d8576b"
                          ],
                          [
                            0.6666666666666666,
                            "#ed7953"
                          ],
                          [
                            0.7777777777777778,
                            "#fb9f3a"
                          ],
                          [
                            0.8888888888888888,
                            "#fdca26"
                          ],
                          [
                            1,
                            "#f0f921"
                          ]
                        ],
                        "type": "surface"
                      }
                    ],
                    "table": [
                      {
                        "cells": {
                          "fill": {
                            "color": "#EBF0F8"
                          },
                          "line": {
                            "color": "white"
                          }
                        },
                        "header": {
                          "fill": {
                            "color": "#C8D4E3"
                          },
                          "line": {
                            "color": "white"
                          }
                        },
                        "type": "table"
                      }
                    ]
                  },
                  "layout": {
                    "annotationdefaults": {
                      "arrowcolor": "#2a3f5f",
                      "arrowhead": 0,
                      "arrowwidth": 1
                    },
                    "autotypenumbers": "strict",
                    "coloraxis": {
                      "colorbar": {
                        "outlinewidth": 0,
                        "ticks": ""
                      }
                    },
                    "colorscale": {
                      "diverging": [
                        [
                          0,
                          "#8e0152"
                        ],
                        [
                          0.1,
                          "#c51b7d"
                        ],
                        [
                          0.2,
                          "#de77ae"
                        ],
                        [
                          0.3,
                          "#f1b6da"
                        ],
                        [
                          0.4,
                          "#fde0ef"
                        ],
                        [
                          0.5,
                          "#f7f7f7"
                        ],
                        [
                          0.6,
                          "#e6f5d0"
                        ],
                        [
                          0.7,
                          "#b8e186"
                        ],
                        [
                          0.8,
                          "#7fbc41"
                        ],
                        [
                          0.9,
                          "#4d9221"
                        ],
                        [
                          1,
                          "#276419"
                        ]
                      ],
                      "sequential": [
                        [
                          0,
                          "#0d0887"
                        ],
                        [
                          0.1111111111111111,
                          "#46039f"
                        ],
                        [
                          0.2222222222222222,
                          "#7201a8"
                        ],
                        [
                          0.3333333333333333,
                          "#9c179e"
                        ],
                        [
                          0.4444444444444444,
                          "#bd3786"
                        ],
                        [
                          0.5555555555555556,
                          "#d8576b"
                        ],
                        [
                          0.6666666666666666,
                          "#ed7953"
                        ],
                        [
                          0.7777777777777778,
                          "#fb9f3a"
                        ],
                        [
                          0.8888888888888888,
                          "#fdca26"
                        ],
                        [
                          1,
                          "#f0f921"
                        ]
                      ],
                      "sequentialminus": [
                        [
                          0,
                          "#0d0887"
                        ],
                        [
                          0.1111111111111111,
                          "#46039f"
                        ],
                        [
                          0.2222222222222222,
                          "#7201a8"
                        ],
                        [
                          0.3333333333333333,
                          "#9c179e"
                        ],
                        [
                          0.4444444444444444,
                          "#bd3786"
                        ],
                        [
                          0.5555555555555556,
                          "#d8576b"
                        ],
                        [
                          0.6666666666666666,
                          "#ed7953"
                        ],
                        [
                          0.7777777777777778,
                          "#fb9f3a"
                        ],
                        [
                          0.8888888888888888,
                          "#fdca26"
                        ],
                        [
                          1,
                          "#f0f921"
                        ]
                      ]
                    },
                    "colorway": [
                      "#636efa",
                      "#EF553B",
                      "#00cc96",
                      "#ab63fa",
                      "#FFA15A",
                      "#19d3f3",
                      "#FF6692",
                      "#B6E880",
                      "#FF97FF",
                      "#FECB52"
                    ],
                    "font": {
                      "color": "#2a3f5f"
                    },
                    "geo": {
                      "bgcolor": "white",
                      "lakecolor": "white",
                      "landcolor": "#E5ECF6",
                      "showlakes": true,
                      "showland": true,
                      "subunitcolor": "white"
                    },
                    "hoverlabel": {
                      "align": "left"
                    },
                    "hovermode": "closest",
                    "mapbox": {
                      "style": "light"
                    },
                    "paper_bgcolor": "white",
                    "plot_bgcolor": "#E5ECF6",
                    "polar": {
                      "angularaxis": {
                        "gridcolor": "white",
                        "linecolor": "white",
                        "ticks": ""
                      },
                      "bgcolor": "#E5ECF6",
                      "radialaxis": {
                        "gridcolor": "white",
                        "linecolor": "white",
                        "ticks": ""
                      }
                    },
                    "scene": {
                      "xaxis": {
                        "backgroundcolor": "#E5ECF6",
                        "gridcolor": "white",
                        "gridwidth": 2,
                        "linecolor": "white",
                        "showbackground": true,
                        "ticks": "",
                        "zerolinecolor": "white"
                      },
                      "yaxis": {
                        "backgroundcolor": "#E5ECF6",
                        "gridcolor": "white",
                        "gridwidth": 2,
                        "linecolor": "white",
                        "showbackground": true,
                        "ticks": "",
                        "zerolinecolor": "white"
                      },
                      "zaxis": {
                        "backgroundcolor": "#E5ECF6",
                        "gridcolor": "white",
                        "gridwidth": 2,
                        "linecolor": "white",
                        "showbackground": true,
                        "ticks": "",
                        "zerolinecolor": "white"
                      }
                    },
                    "shapedefaults": {
                      "line": {
                        "color": "#2a3f5f"
                      }
                    },
                    "ternary": {
                      "aaxis": {
                        "gridcolor": "white",
                        "linecolor": "white",
                        "ticks": ""
                      },
                      "baxis": {
                        "gridcolor": "white",
                        "linecolor": "white",
                        "ticks": ""
                      },
                      "bgcolor": "#E5ECF6",
                      "caxis": {
                        "gridcolor": "white",
                        "linecolor": "white",
                        "ticks": ""
                      }
                    },
                    "title": {
                      "x": 0.05
                    },
                    "xaxis": {
                      "automargin": true,
                      "gridcolor": "white",
                      "linecolor": "white",
                      "ticks": "",
                      "title": {
                        "standoff": 15
                      },
                      "zerolinecolor": "white",
                      "zerolinewidth": 2
                    },
                    "yaxis": {
                      "automargin": true,
                      "gridcolor": "white",
                      "linecolor": "white",
                      "ticks": "",
                      "title": {
                        "standoff": 15
                      },
                      "zerolinecolor": "white",
                      "zerolinewidth": 2
                    }
                  }
                },
                "title": {
                  "text": "Enfermedad cardiovascular por raza"
                },
                "width": 1024,
                "xaxis": {
                  "anchor": "y",
                  "domain": [
                    0,
                    1
                  ],
                  "title": {
                    "text": "Raza"
                  }
                },
                "yaxis": {
                  "anchor": "x",
                  "domain": [
                    0,
                    1
                  ],
                  "title": {
                    "text": "sum of Personas"
                  }
                }
              }
            }
          },
          "metadata": {},
          "output_type": "display_data"
        }
      ],
      "source": [
        "# Experimento con plotly.express https://plotly.com/python/bar-charts/\n",
        "import plotly.express as px\n",
        "race_vs_hd = df.groupby(['Race', 'HeartDisease']).size().reset_index(name='Casos')\n",
        "fig = px.histogram(race_vs_hd,\n",
        "                   x = 'Race',\n",
        "                   y = 'Casos',\n",
        "                   color = 'HeartDisease',\n",
        "                   barmode = 'group',\n",
        "                   height = 600,\n",
        "                   width = 1024,\n",
        "                   labels = {\n",
        "                       'Race': 'Raza',\n",
        "                       'Casos': 'Personas'\n",
        "                   },\n",
        "                   title = 'Enfermedad cardiovascular por raza')\n",
        "fig.show()"
      ]
    },
    {
      "cell_type": "markdown",
      "metadata": {
        "id": "YVSBLMmK9u1n"
      },
      "source": [
        "## Columna: Diabetic"
      ]
    },
    {
      "cell_type": "code",
      "execution_count": 48,
      "metadata": {
        "id": "-Rqs2xll9u1n"
      },
      "outputs": [],
      "source": [
        "# Alexia"
      ]
    },
    {
      "cell_type": "markdown",
      "metadata": {
        "id": "1rBzdrO-9u7r"
      },
      "source": [
        "## Columna: PhysicalActivity"
      ]
    },
    {
      "cell_type": "code",
      "execution_count": 49,
      "metadata": {
        "id": "npogNU7T9u7s"
      },
      "outputs": [],
      "source": [
        "# Alexia"
      ]
    },
    {
      "cell_type": "markdown",
      "metadata": {
        "id": "Csr9mw7n9vDR"
      },
      "source": [
        "## Columna: GenHealth"
      ]
    },
    {
      "cell_type": "code",
      "execution_count": 50,
      "metadata": {
        "colab": {
          "base_uri": "https://localhost:8080/"
        },
        "id": "w5GwQymG9vDS",
        "outputId": "23fcc161-f878-4eab-9d65-1df015d22433"
      },
      "outputs": [
        {
          "data": {
            "text/plain": [
              "array(['Very good', 'Fair', 'Good', 'Poor', 'Excellent'], dtype=object)"
            ]
          },
          "execution_count": 50,
          "metadata": {},
          "output_type": "execute_result"
        }
      ],
      "source": [
        "df['GenHealth'].unique()"
      ]
    },
    {
      "cell_type": "code",
      "execution_count": 51,
      "metadata": {
        "colab": {
          "base_uri": "https://localhost:8080/"
        },
        "id": "vfy6M8xllb7u",
        "outputId": "3cc47f47-7e44-4c60-bc1e-8611f2d4a7e5"
      },
      "outputs": [
        {
          "data": {
            "text/plain": [
              "5"
            ]
          },
          "execution_count": 51,
          "metadata": {},
          "output_type": "execute_result"
        }
      ],
      "source": [
        "df['GenHealth'].nunique()"
      ]
    },
    {
      "cell_type": "code",
      "execution_count": 52,
      "metadata": {
        "id": "NrvMfr1XloM1"
      },
      "outputs": [],
      "source": [
        "def health_clasification(x):\n",
        "  if x == None:\n",
        "    return np.nan\n",
        "\n",
        "  x = x.strip()\n",
        "\n",
        "  if x == 'Poor':\n",
        "    return 0\n",
        "  elif x == 'Fair':\n",
        "    return 1\n",
        "  elif x == 'Good':\n",
        "    return 2\n",
        "  elif x == 'Very good':\n",
        "    return 3\n",
        "  elif x == 'Excellent':\n",
        "    return 4"
      ]
    },
    {
      "cell_type": "code",
      "execution_count": 53,
      "metadata": {
        "id": "q3oM4zJipL5X"
      },
      "outputs": [],
      "source": [
        "df['GenHealth'] = df['GenHealth'].apply(health_clasification)"
      ]
    },
    {
      "cell_type": "code",
      "execution_count": 54,
      "metadata": {
        "colab": {
          "base_uri": "https://localhost:8080/"
        },
        "id": "MEcpJGVQpoEm",
        "outputId": "3f374f10-869b-47d3-baba-11b9896cf780"
      },
      "outputs": [
        {
          "data": {
            "text/plain": [
              "array([3, 1, 2, 0, 4])"
            ]
          },
          "execution_count": 54,
          "metadata": {},
          "output_type": "execute_result"
        }
      ],
      "source": [
        "df['GenHealth'].unique()"
      ]
    },
    {
      "cell_type": "code",
      "execution_count": 55,
      "metadata": {
        "colab": {
          "base_uri": "https://localhost:8080/",
          "height": 376
        },
        "id": "ie6hoUdiqUqK",
        "outputId": "34b89d6a-7bf7-4181-ac66-4f91f11b34fd"
      },
      "outputs": [
        {
          "data": {
            "text/plain": [
              "<Axes: xlabel='HeartDisease', ylabel='GenHealth'>"
            ]
          },
          "execution_count": 55,
          "metadata": {},
          "output_type": "execute_result"
        },
        {
          "data": {
            "image/png": "[encoded data removed]",
            "text/plain": [
              "<Figure size 1600x500 with 4 Axes>"
            ]
          },
          "metadata": {},
          "output_type": "display_data"
        }
      ],
      "source": [
        "# Graficos 'GenHealth'\n",
        "\n",
        "fig, axes = plt.subplots(1, 4, figsize=(16, 5))\n",
        "\n",
        "sns.countplot(x='GenHealth', data=df, hue='GenHealth', palette='husl', ax=axes[0])\n",
        "plt.xticks(rotation=45)\n",
        "df_agrupado = df.groupby(['GenHealth', 'HeartDisease']).size().unstack()\n",
        "df_agrupado.plot(kind='bar', stacked=False, ax=axes[1])\n",
        "sns.boxplot(x='HeartDisease', y='GenHealth', data=df, hue='HeartDisease', palette='husl', ax=axes[2])\n",
        "sns.violinplot(x='HeartDisease', y='GenHealth', data=df, hue='HeartDisease', palette='husl', ax=axes[3])"
      ]
    },
    {
      "cell_type": "markdown",
      "metadata": {
        "id": "cDf8I7UD9vQa"
      },
      "source": [
        "## Columna: SleepTime"
      ]
    },
    {
      "cell_type": "code",
      "execution_count": 56,
      "metadata": {
        "colab": {
          "base_uri": "https://localhost:8080/"
        },
        "id": "pfPquocqlaxK",
        "outputId": "b3dbd4a8-40c5-4c0a-af1d-5449132dfd3c"
      },
      "outputs": [
        {
          "data": {
            "text/plain": [
              "array([ 5,  7,  8,  6, 12,  4,  9, 10, 15,  3,  2,  1, 16, 18, 14, 20, 11,\n",
              "       13, 17, 24, 19, 21, 22, 23])"
            ]
          },
          "execution_count": 56,
          "metadata": {},
          "output_type": "execute_result"
        }
      ],
      "source": [
        "df['SleepTime'].unique()"
      ]
    },
    {
      "cell_type": "code",
      "execution_count": 57,
      "metadata": {
        "colab": {
          "base_uri": "https://localhost:8080/"
        },
        "id": "d6rxzPlC9vQb",
        "outputId": "f7cc666c-fa9f-4875-90ff-7ba8ea97ee35"
      },
      "outputs": [
        {
          "data": {
            "text/plain": [
              "24"
            ]
          },
          "execution_count": 57,
          "metadata": {},
          "output_type": "execute_result"
        }
      ],
      "source": [
        "df['SleepTime'].nunique()"
      ]
    },
    {
      "cell_type": "code",
      "execution_count": 58,
      "metadata": {
        "colab": {
          "base_uri": "https://localhost:8080/",
          "height": 298
        },
        "id": "floC1d2YAS93",
        "outputId": "7a9e1cac-ddcd-4ea2-eb23-2030cfa0845e"
      },
      "outputs": [
        {
          "data": {
            "image/png": "[encoded data removed]",
            "text/plain": [
              "<Figure size 1600x500 with 3 Axes>"
            ]
          },
          "metadata": {},
          "output_type": "display_data"
        }
      ],
      "source": [
        "# Graficos 'SleepTime'\n",
        "\n",
        "fig, axes = plt.subplots(1, 3, figsize=(16, 5))\n",
        "\n",
        "sns.countplot(x='SleepTime', data=df, hue='SleepTime', palette='husl', ax=axes[0])\n",
        "sns.boxplot(x='HeartDisease', y='SleepTime', data=df, hue='HeartDisease', palette='husl', ax=axes[1])\n",
        "sns.violinplot(x='HeartDisease', y='SleepTime', data=df, hue='HeartDisease', palette='husl', ax=axes[2])\n",
        "plt.show()"
      ]
    },
    {
      "cell_type": "markdown",
      "metadata": {
        "id": "aa9fBzDJ-NzC"
      },
      "source": [
        "## Columna: Asthma"
      ]
    },
    {
      "cell_type": "code",
      "execution_count": 59,
      "metadata": {
        "colab": {
          "base_uri": "https://localhost:8080/"
        },
        "id": "16a4tshM-NzI",
        "outputId": "f91a5468-0c4a-4deb-e105-5ad824796dcd"
      },
      "outputs": [
        {
          "data": {
            "text/plain": [
              "array(['Yes', 'No'], dtype=object)"
            ]
          },
          "execution_count": 59,
          "metadata": {},
          "output_type": "execute_result"
        }
      ],
      "source": [
        "df['Asthma'].unique()"
      ]
    },
    {
      "cell_type": "code",
      "execution_count": 60,
      "metadata": {
        "colab": {
          "base_uri": "https://localhost:8080/",
          "height": 358
        },
        "id": "HDjb1r4EJvj4",
        "outputId": "e0d2b7b1-2d5b-4d78-9a2e-dd6c612cda41"
      },
      "outputs": [
        {
          "data": {
            "image/png": "[encoded data removed]",
            "text/plain": [
              "<Figure size 1600x500 with 3 Axes>"
            ]
          },
          "metadata": {},
          "output_type": "display_data"
        }
      ],
      "source": [
        "# Graficos 'Asthma'\n",
        "\n",
        "fig, axes = plt.subplots(1, 3, figsize=(16, 5))\n",
        "\n",
        "sns.countplot(x='Asthma', data=df, hue='Asthma', palette='husl', ax=axes[0])\n",
        "plt.xticks(rotation=45)\n",
        "df_agrupado = df.groupby(['Asthma', 'HeartDisease']).size().unstack()\n",
        "df_agrupado.plot(kind='bar', stacked=False, ax=axes[1])\n",
        "sns.violinplot(x='HeartDisease', y='Asthma', data=df, hue='HeartDisease', palette='husl', ax=axes[2])\n",
        "plt.show()"
      ]
    },
    {
      "cell_type": "markdown",
      "metadata": {
        "id": "lIXplPGa-OQ4"
      },
      "source": [
        "## Columna: KidneyDisease"
      ]
    },
    {
      "cell_type": "code",
      "execution_count": 61,
      "metadata": {
        "colab": {
          "base_uri": "https://localhost:8080/"
        },
        "id": "pnRZYCKy-OQ4",
        "outputId": "4fe6e9f9-cba2-4098-dd8d-7fe4c9c707ee"
      },
      "outputs": [
        {
          "data": {
            "text/plain": [
              "array(['No', 'Yes'], dtype=object)"
            ]
          },
          "execution_count": 61,
          "metadata": {},
          "output_type": "execute_result"
        }
      ],
      "source": [
        "df['KidneyDisease'].unique()"
      ]
    },
    {
      "cell_type": "code",
      "execution_count": 62,
      "metadata": {
        "colab": {
          "base_uri": "https://localhost:8080/",
          "height": 358
        },
        "id": "7IYaJjFNWqh9",
        "outputId": "f6a73760-5d0f-4786-8a86-7d67e7bf28e4"
      },
      "outputs": [
        {
          "data": {
            "image/png": "[encoded data removed]",
            "text/plain": [
              "<Figure size 1600x500 with 3 Axes>"
            ]
          },
          "metadata": {},
          "output_type": "display_data"
        }
      ],
      "source": [
        "# Graficos 'KidneyDisease'\n",
        "\n",
        "fig, axes = plt.subplots(1, 3, figsize=(16, 5))\n",
        "\n",
        "sns.countplot(x='KidneyDisease', data=df, hue='KidneyDisease', palette='husl', ax=axes[0])\n",
        "plt.xticks(rotation=45)\n",
        "df_agrupado = df.groupby(['KidneyDisease', 'HeartDisease']).size().unstack()\n",
        "df_agrupado.plot(kind='bar', stacked=False, ax=axes[1])\n",
        "sns.violinplot(x='HeartDisease', y='KidneyDisease', data=df, hue='HeartDisease', palette='husl', ax=axes[2])\n",
        "plt.show()"
      ]
    },
    {
      "cell_type": "markdown",
      "metadata": {
        "id": "4KLwmT2a-dxu"
      },
      "source": [
        "## Columna: SkinCancer"
      ]
    },
    {
      "cell_type": "code",
      "execution_count": 63,
      "metadata": {
        "colab": {
          "base_uri": "https://localhost:8080/"
        },
        "id": "QI_mAcXm-dx8",
        "outputId": "0f60b22e-11bf-4bb3-b15a-969cf4e0558e"
      },
      "outputs": [
        {
          "data": {
            "text/plain": [
              "array(['Yes', 'No'], dtype=object)"
            ]
          },
          "execution_count": 63,
          "metadata": {},
          "output_type": "execute_result"
        }
      ],
      "source": [
        "df['SkinCancer'].unique()"
      ]
    },
    {
      "cell_type": "code",
      "execution_count": 64,
      "metadata": {
        "colab": {
          "base_uri": "https://localhost:8080/",
          "height": 358
        },
        "id": "vI0cb55TW7UX",
        "outputId": "24483422-9717-4d9b-98ea-72b3b8f568f8"
      },
      "outputs": [
        {
          "data": {
            "image/png": "[encoded data removed]",
            "text/plain": [
              "<Figure size 1600x500 with 3 Axes>"
            ]
          },
          "metadata": {},
          "output_type": "display_data"
        }
      ],
      "source": [
        "# Graficos 'SkinCancer'\n",
        "\n",
        "fig, axes = plt.subplots(1, 3, figsize=(16, 5))\n",
        "\n",
        "sns.countplot(x='SkinCancer', data=df, hue='SkinCancer', palette='husl', ax=axes[0])\n",
        "plt.xticks(rotation=45)\n",
        "df_agrupado = df.groupby(['SkinCancer', 'HeartDisease']).size().unstack()\n",
        "df_agrupado.plot(kind='bar', stacked=False, ax=axes[1])\n",
        "sns.violinplot(x='HeartDisease', y='SkinCancer', data=df, hue='HeartDisease', palette='husl', ax=axes[2])\n",
        "plt.show()"
      ]
    },
    {
      "cell_type": "markdown",
      "metadata": {
        "id": "bgHMlyYPZYMy"
      },
      "source": [
        "# 04. Modelos, Métricas y Métodos de Validación"
      ]
    },
    {
      "cell_type": "markdown",
      "metadata": {
        "id": "0sbXf_HspI66"
      },
      "source": [
        "En esta etapa vamos a implementar los modelos de Machine Learning que se adecuen mejor al problema y como consecuencia las métricas de cada modelo.\n",
        "\n",
        "*  Primero vamos a entrenar diferentes modelos y calcular todas las métricas y dependiendo de la naturaleza del problema vamos a seleccionar el modelo que mejor desempeño tiene, utilizando los 3 métodos de validación.\n",
        "\n",
        "*  Luego vamos a hacerle \"Tuning\" con GridSearchCV para encontrar los mejores parámetros para el modelo.\n",
        "\n",
        "En caso de estar haciendo un Algoritmo Genético o un Recomendador el objetivo de esta parte deberá ser el de mejorar el modelo para que sea más eficiente."
      ]
    },
    {
      "cell_type": "code",
      "execution_count": 65,
      "metadata": {
        "colab": {
          "base_uri": "https://localhost:8080/",
          "height": 261
        },
        "id": "nNxfTanMO2x1",
        "outputId": "26e0f4d1-fee6-4ba0-f721-ae3090f261be"
      },
      "outputs": [
        {
          "data": {
            "text/html": [
              "<div>\n",
              "<style scoped>\n",
              "    .dataframe tbody tr th:only-of-type {\n",
              "        vertical-align: middle;\n",
              "    }\n",
              "\n",
              "    .dataframe tbody tr th {\n",
              "        vertical-align: top;\n",
              "    }\n",
              "\n",
              "    .dataframe thead th {\n",
              "        text-align: right;\n",
              "    }\n",
              "</style>\n",
              "<table border=\"1\" class=\"dataframe\">\n",
              "  <thead>\n",
              "    <tr style=\"text-align: right;\">\n",
              "      <th></th>\n",
              "      <th>HeartDisease</th>\n",
              "      <th>BMI</th>\n",
              "      <th>Smoking</th>\n",
              "      <th>AlcoholDrinking</th>\n",
              "      <th>Stroke</th>\n",
              "      <th>PhysicalHealth</th>\n",
              "      <th>MentalHealth</th>\n",
              "      <th>DiffWalking</th>\n",
              "      <th>Sex</th>\n",
              "      <th>AgeCategory</th>\n",
              "      <th>Race</th>\n",
              "      <th>Diabetic</th>\n",
              "      <th>PhysicalActivity</th>\n",
              "      <th>GenHealth</th>\n",
              "      <th>SleepTime</th>\n",
              "      <th>Asthma</th>\n",
              "      <th>KidneyDisease</th>\n",
              "      <th>SkinCancer</th>\n",
              "    </tr>\n",
              "  </thead>\n",
              "  <tbody>\n",
              "    <tr>\n",
              "      <th>230392</th>\n",
              "      <td>No</td>\n",
              "      <td>26.58</td>\n",
              "      <td>No</td>\n",
              "      <td>No</td>\n",
              "      <td>No</td>\n",
              "      <td>0</td>\n",
              "      <td>3</td>\n",
              "      <td>No</td>\n",
              "      <td>Male</td>\n",
              "      <td>25-29</td>\n",
              "      <td>White</td>\n",
              "      <td>No</td>\n",
              "      <td>Yes</td>\n",
              "      <td>4</td>\n",
              "      <td>7</td>\n",
              "      <td>No</td>\n",
              "      <td>No</td>\n",
              "      <td>No</td>\n",
              "    </tr>\n",
              "    <tr>\n",
              "      <th>248720</th>\n",
              "      <td>No</td>\n",
              "      <td>26.58</td>\n",
              "      <td>No</td>\n",
              "      <td>No</td>\n",
              "      <td>No</td>\n",
              "      <td>7</td>\n",
              "      <td>30</td>\n",
              "      <td>Yes</td>\n",
              "      <td>Male</td>\n",
              "      <td>60-64</td>\n",
              "      <td>Black</td>\n",
              "      <td>No</td>\n",
              "      <td>No</td>\n",
              "      <td>2</td>\n",
              "      <td>8</td>\n",
              "      <td>No</td>\n",
              "      <td>No</td>\n",
              "      <td>No</td>\n",
              "    </tr>\n",
              "    <tr>\n",
              "      <th>166086</th>\n",
              "      <td>No</td>\n",
              "      <td>28.70</td>\n",
              "      <td>No</td>\n",
              "      <td>No</td>\n",
              "      <td>No</td>\n",
              "      <td>0</td>\n",
              "      <td>0</td>\n",
              "      <td>No</td>\n",
              "      <td>Male</td>\n",
              "      <td>60-64</td>\n",
              "      <td>White</td>\n",
              "      <td>No</td>\n",
              "      <td>Yes</td>\n",
              "      <td>3</td>\n",
              "      <td>8</td>\n",
              "      <td>No</td>\n",
              "      <td>No</td>\n",
              "      <td>No</td>\n",
              "    </tr>\n",
              "    <tr>\n",
              "      <th>73492</th>\n",
              "      <td>No</td>\n",
              "      <td>23.03</td>\n",
              "      <td>No</td>\n",
              "      <td>No</td>\n",
              "      <td>No</td>\n",
              "      <td>0</td>\n",
              "      <td>0</td>\n",
              "      <td>No</td>\n",
              "      <td>Female</td>\n",
              "      <td>45-49</td>\n",
              "      <td>White</td>\n",
              "      <td>No</td>\n",
              "      <td>Yes</td>\n",
              "      <td>3</td>\n",
              "      <td>7</td>\n",
              "      <td>No</td>\n",
              "      <td>No</td>\n",
              "      <td>No</td>\n",
              "    </tr>\n",
              "    <tr>\n",
              "      <th>281408</th>\n",
              "      <td>No</td>\n",
              "      <td>25.79</td>\n",
              "      <td>No</td>\n",
              "      <td>No</td>\n",
              "      <td>No</td>\n",
              "      <td>0</td>\n",
              "      <td>30</td>\n",
              "      <td>Yes</td>\n",
              "      <td>Female</td>\n",
              "      <td>50-54</td>\n",
              "      <td>White</td>\n",
              "      <td>No</td>\n",
              "      <td>Yes</td>\n",
              "      <td>2</td>\n",
              "      <td>9</td>\n",
              "      <td>No</td>\n",
              "      <td>No</td>\n",
              "      <td>No</td>\n",
              "    </tr>\n",
              "  </tbody>\n",
              "</table>\n",
              "</div>"
            ],
            "text/plain": [
              "       HeartDisease    BMI Smoking AlcoholDrinking Stroke  PhysicalHealth  \\\n",
              "230392           No  26.58      No              No     No               0   \n",
              "248720           No  26.58      No              No     No               7   \n",
              "166086           No  28.70      No              No     No               0   \n",
              "73492            No  23.03      No              No     No               0   \n",
              "281408           No  25.79      No              No     No               0   \n",
              "\n",
              "        MentalHealth DiffWalking     Sex AgeCategory   Race Diabetic  \\\n",
              "230392             3          No    Male       25-29  White       No   \n",
              "248720            30         Yes    Male       60-64  Black       No   \n",
              "166086             0          No    Male       60-64  White       No   \n",
              "73492              0          No  Female       45-49  White       No   \n",
              "281408            30         Yes  Female       50-54  White       No   \n",
              "\n",
              "       PhysicalActivity  GenHealth  SleepTime Asthma KidneyDisease SkinCancer  \n",
              "230392              Yes          4          7     No            No         No  \n",
              "248720               No          2          8     No            No         No  \n",
              "166086              Yes          3          8     No            No         No  \n",
              "73492               Yes          3          7     No            No         No  \n",
              "281408              Yes          2          9     No            No         No  "
            ]
          },
          "execution_count": 65,
          "metadata": {},
          "output_type": "execute_result"
        }
      ],
      "source": [
        "# 2024-07-01 AGM Subo la parte de ML :) <<-- todos los comentarios son eliminables luego ;)\n",
        "\n",
        "# 2024-07-01 AGM Vemos cinco filas al azar.\n",
        "\n",
        "df.sample(5)"
      ]
    },
    {
      "cell_type": "code",
      "execution_count": 66,
      "metadata": {
        "colab": {
          "base_uri": "https://localhost:8080/",
          "height": 226
        },
        "id": "GXBewYo6Q3bE",
        "outputId": "4c9d6a14-5f21-4029-8dc0-c7b217f8dbb3"
      },
      "outputs": [
        {
          "data": {
            "text/html": [
              "<div>\n",
              "<style scoped>\n",
              "    .dataframe tbody tr th:only-of-type {\n",
              "        vertical-align: middle;\n",
              "    }\n",
              "\n",
              "    .dataframe tbody tr th {\n",
              "        vertical-align: top;\n",
              "    }\n",
              "\n",
              "    .dataframe thead th {\n",
              "        text-align: right;\n",
              "    }\n",
              "</style>\n",
              "<table border=\"1\" class=\"dataframe\">\n",
              "  <thead>\n",
              "    <tr style=\"text-align: right;\">\n",
              "      <th></th>\n",
              "      <th>HeartDisease</th>\n",
              "      <th>BMI</th>\n",
              "      <th>Smoking</th>\n",
              "      <th>AlcoholDrinking</th>\n",
              "      <th>Stroke</th>\n",
              "      <th>PhysicalHealth</th>\n",
              "      <th>MentalHealth</th>\n",
              "      <th>DiffWalking</th>\n",
              "      <th>Sex</th>\n",
              "      <th>AgeCategory</th>\n",
              "      <th>Race</th>\n",
              "      <th>Diabetic</th>\n",
              "      <th>PhysicalActivity</th>\n",
              "      <th>GenHealth</th>\n",
              "      <th>SleepTime</th>\n",
              "      <th>Asthma</th>\n",
              "      <th>KidneyDisease</th>\n",
              "      <th>SkinCancer</th>\n",
              "    </tr>\n",
              "  </thead>\n",
              "  <tbody>\n",
              "    <tr>\n",
              "      <th>63083</th>\n",
              "      <td>No</td>\n",
              "      <td>21.83</td>\n",
              "      <td>No</td>\n",
              "      <td>No</td>\n",
              "      <td>No</td>\n",
              "      <td>4</td>\n",
              "      <td>30</td>\n",
              "      <td>No</td>\n",
              "      <td>Male</td>\n",
              "      <td>18-24</td>\n",
              "      <td>White</td>\n",
              "      <td>No</td>\n",
              "      <td>Yes</td>\n",
              "      <td>2</td>\n",
              "      <td>8</td>\n",
              "      <td>No</td>\n",
              "      <td>No</td>\n",
              "      <td>No</td>\n",
              "    </tr>\n",
              "    <tr>\n",
              "      <th>283532</th>\n",
              "      <td>No</td>\n",
              "      <td>54.93</td>\n",
              "      <td>No</td>\n",
              "      <td>No</td>\n",
              "      <td>No</td>\n",
              "      <td>10</td>\n",
              "      <td>4</td>\n",
              "      <td>No</td>\n",
              "      <td>Female</td>\n",
              "      <td>55-59</td>\n",
              "      <td>White</td>\n",
              "      <td>Yes</td>\n",
              "      <td>Yes</td>\n",
              "      <td>2</td>\n",
              "      <td>7</td>\n",
              "      <td>No</td>\n",
              "      <td>No</td>\n",
              "      <td>No</td>\n",
              "    </tr>\n",
              "    <tr>\n",
              "      <th>294159</th>\n",
              "      <td>No</td>\n",
              "      <td>33.47</td>\n",
              "      <td>Yes</td>\n",
              "      <td>No</td>\n",
              "      <td>No</td>\n",
              "      <td>1</td>\n",
              "      <td>15</td>\n",
              "      <td>No</td>\n",
              "      <td>Male</td>\n",
              "      <td>40-44</td>\n",
              "      <td>White</td>\n",
              "      <td>No</td>\n",
              "      <td>Yes</td>\n",
              "      <td>3</td>\n",
              "      <td>8</td>\n",
              "      <td>No</td>\n",
              "      <td>No</td>\n",
              "      <td>No</td>\n",
              "    </tr>\n",
              "    <tr>\n",
              "      <th>24453</th>\n",
              "      <td>No</td>\n",
              "      <td>21.90</td>\n",
              "      <td>Yes</td>\n",
              "      <td>No</td>\n",
              "      <td>No</td>\n",
              "      <td>30</td>\n",
              "      <td>0</td>\n",
              "      <td>No</td>\n",
              "      <td>Male</td>\n",
              "      <td>70-74</td>\n",
              "      <td>White</td>\n",
              "      <td>No</td>\n",
              "      <td>Yes</td>\n",
              "      <td>1</td>\n",
              "      <td>6</td>\n",
              "      <td>No</td>\n",
              "      <td>Yes</td>\n",
              "      <td>Yes</td>\n",
              "    </tr>\n",
              "    <tr>\n",
              "      <th>228708</th>\n",
              "      <td>No</td>\n",
              "      <td>36.26</td>\n",
              "      <td>No</td>\n",
              "      <td>No</td>\n",
              "      <td>No</td>\n",
              "      <td>0</td>\n",
              "      <td>0</td>\n",
              "      <td>No</td>\n",
              "      <td>Male</td>\n",
              "      <td>65-69</td>\n",
              "      <td>White</td>\n",
              "      <td>No</td>\n",
              "      <td>No</td>\n",
              "      <td>2</td>\n",
              "      <td>7</td>\n",
              "      <td>No</td>\n",
              "      <td>No</td>\n",
              "      <td>Yes</td>\n",
              "    </tr>\n",
              "  </tbody>\n",
              "</table>\n",
              "</div>"
            ],
            "text/plain": [
              "       HeartDisease    BMI Smoking AlcoholDrinking Stroke  PhysicalHealth  \\\n",
              "63083            No  21.83      No              No     No               4   \n",
              "283532           No  54.93      No              No     No              10   \n",
              "294159           No  33.47     Yes              No     No               1   \n",
              "24453            No  21.90     Yes              No     No              30   \n",
              "228708           No  36.26      No              No     No               0   \n",
              "\n",
              "        MentalHealth DiffWalking     Sex AgeCategory   Race Diabetic  \\\n",
              "63083             30          No    Male       18-24  White       No   \n",
              "283532             4          No  Female       55-59  White      Yes   \n",
              "294159            15          No    Male       40-44  White       No   \n",
              "24453              0          No    Male       70-74  White       No   \n",
              "228708             0          No    Male       65-69  White       No   \n",
              "\n",
              "       PhysicalActivity  GenHealth  SleepTime Asthma KidneyDisease SkinCancer  \n",
              "63083               Yes          2          8     No            No         No  \n",
              "283532              Yes          2          7     No            No         No  \n",
              "294159              Yes          3          8     No            No         No  \n",
              "24453               Yes          1          6     No           Yes        Yes  \n",
              "228708               No          2          7     No            No        Yes  "
            ]
          },
          "execution_count": 66,
          "metadata": {},
          "output_type": "execute_result"
        }
      ],
      "source": [
        "# 2024-07-01 AGM Esta parte es para dejar el dataframe listo para ML, luego movemos esta parte. Lo que quiero para entrenar los modelos es dejar el dataframe con las columnas Yes/No a 1/0, y hacer OneHotEncoding para las que tienen varios valores.\n",
        "\n",
        "# 2024-07-01 AGM Lo primero, hacemos una copia del dataframe.\n",
        "\n",
        "df_ml = df.copy()\n",
        "df_ml.sample(5)"
      ]
    },
    {
      "cell_type": "code",
      "execution_count": 67,
      "metadata": {
        "colab": {
          "base_uri": "https://localhost:8080/",
          "height": 226
        },
        "id": "tvGTCcNWXo-K",
        "outputId": "14e6e012-f4fb-4c0e-8d9f-4df3e90450ec"
      },
      "outputs": [
        {
          "data": {
            "text/html": [
              "<div>\n",
              "<style scoped>\n",
              "    .dataframe tbody tr th:only-of-type {\n",
              "        vertical-align: middle;\n",
              "    }\n",
              "\n",
              "    .dataframe tbody tr th {\n",
              "        vertical-align: top;\n",
              "    }\n",
              "\n",
              "    .dataframe thead th {\n",
              "        text-align: right;\n",
              "    }\n",
              "</style>\n",
              "<table border=\"1\" class=\"dataframe\">\n",
              "  <thead>\n",
              "    <tr style=\"text-align: right;\">\n",
              "      <th></th>\n",
              "      <th>HeartDisease</th>\n",
              "      <th>BMI</th>\n",
              "      <th>Smoking</th>\n",
              "      <th>AlcoholDrinking</th>\n",
              "      <th>Stroke</th>\n",
              "      <th>PhysicalHealth</th>\n",
              "      <th>MentalHealth</th>\n",
              "      <th>DiffWalking</th>\n",
              "      <th>Sex</th>\n",
              "      <th>AgeCategory</th>\n",
              "      <th>Race</th>\n",
              "      <th>Diabetic</th>\n",
              "      <th>PhysicalActivity</th>\n",
              "      <th>GenHealth</th>\n",
              "      <th>SleepTime</th>\n",
              "      <th>Asthma</th>\n",
              "      <th>KidneyDisease</th>\n",
              "      <th>SkinCancer</th>\n",
              "    </tr>\n",
              "  </thead>\n",
              "  <tbody>\n",
              "    <tr>\n",
              "      <th>254560</th>\n",
              "      <td>0</td>\n",
              "      <td>31.93</td>\n",
              "      <td>1</td>\n",
              "      <td>1</td>\n",
              "      <td>0</td>\n",
              "      <td>0</td>\n",
              "      <td>0</td>\n",
              "      <td>0</td>\n",
              "      <td>0</td>\n",
              "      <td>50-54</td>\n",
              "      <td>White</td>\n",
              "      <td>No</td>\n",
              "      <td>0</td>\n",
              "      <td>3</td>\n",
              "      <td>9</td>\n",
              "      <td>0</td>\n",
              "      <td>0</td>\n",
              "      <td>0</td>\n",
              "    </tr>\n",
              "    <tr>\n",
              "      <th>226615</th>\n",
              "      <td>0</td>\n",
              "      <td>32.10</td>\n",
              "      <td>1</td>\n",
              "      <td>0</td>\n",
              "      <td>0</td>\n",
              "      <td>0</td>\n",
              "      <td>15</td>\n",
              "      <td>0</td>\n",
              "      <td>0</td>\n",
              "      <td>50-54</td>\n",
              "      <td>White</td>\n",
              "      <td>No</td>\n",
              "      <td>1</td>\n",
              "      <td>2</td>\n",
              "      <td>5</td>\n",
              "      <td>0</td>\n",
              "      <td>0</td>\n",
              "      <td>0</td>\n",
              "    </tr>\n",
              "    <tr>\n",
              "      <th>186714</th>\n",
              "      <td>0</td>\n",
              "      <td>22.31</td>\n",
              "      <td>0</td>\n",
              "      <td>0</td>\n",
              "      <td>0</td>\n",
              "      <td>3</td>\n",
              "      <td>0</td>\n",
              "      <td>0</td>\n",
              "      <td>1</td>\n",
              "      <td>25-29</td>\n",
              "      <td>White</td>\n",
              "      <td>No</td>\n",
              "      <td>1</td>\n",
              "      <td>3</td>\n",
              "      <td>6</td>\n",
              "      <td>1</td>\n",
              "      <td>0</td>\n",
              "      <td>0</td>\n",
              "    </tr>\n",
              "    <tr>\n",
              "      <th>262486</th>\n",
              "      <td>0</td>\n",
              "      <td>26.54</td>\n",
              "      <td>1</td>\n",
              "      <td>0</td>\n",
              "      <td>0</td>\n",
              "      <td>1</td>\n",
              "      <td>0</td>\n",
              "      <td>0</td>\n",
              "      <td>0</td>\n",
              "      <td>60-64</td>\n",
              "      <td>White</td>\n",
              "      <td>No</td>\n",
              "      <td>1</td>\n",
              "      <td>2</td>\n",
              "      <td>8</td>\n",
              "      <td>0</td>\n",
              "      <td>0</td>\n",
              "      <td>0</td>\n",
              "    </tr>\n",
              "    <tr>\n",
              "      <th>314142</th>\n",
              "      <td>0</td>\n",
              "      <td>29.29</td>\n",
              "      <td>0</td>\n",
              "      <td>0</td>\n",
              "      <td>0</td>\n",
              "      <td>0</td>\n",
              "      <td>30</td>\n",
              "      <td>0</td>\n",
              "      <td>1</td>\n",
              "      <td>65-69</td>\n",
              "      <td>White</td>\n",
              "      <td>No</td>\n",
              "      <td>1</td>\n",
              "      <td>3</td>\n",
              "      <td>7</td>\n",
              "      <td>0</td>\n",
              "      <td>0</td>\n",
              "      <td>0</td>\n",
              "    </tr>\n",
              "  </tbody>\n",
              "</table>\n",
              "</div>"
            ],
            "text/plain": [
              "        HeartDisease    BMI  Smoking  AlcoholDrinking  Stroke  PhysicalHealth  \\\n",
              "254560             0  31.93        1                1       0               0   \n",
              "226615             0  32.10        1                0       0               0   \n",
              "186714             0  22.31        0                0       0               3   \n",
              "262486             0  26.54        1                0       0               1   \n",
              "314142             0  29.29        0                0       0               0   \n",
              "\n",
              "        MentalHealth  DiffWalking  Sex AgeCategory   Race Diabetic  \\\n",
              "254560             0            0    0       50-54  White       No   \n",
              "226615            15            0    0       50-54  White       No   \n",
              "186714             0            0    1       25-29  White       No   \n",
              "262486             0            0    0       60-64  White       No   \n",
              "314142            30            0    1       65-69  White       No   \n",
              "\n",
              "        PhysicalActivity  GenHealth  SleepTime  Asthma  KidneyDisease  \\\n",
              "254560                 0          3          9       0              0   \n",
              "226615                 1          2          5       0              0   \n",
              "186714                 1          3          6       1              0   \n",
              "262486                 1          2          8       0              0   \n",
              "314142                 1          3          7       0              0   \n",
              "\n",
              "        SkinCancer  \n",
              "254560           0  \n",
              "226615           0  \n",
              "186714           0  \n",
              "262486           0  \n",
              "314142           0  "
            ]
          },
          "execution_count": 67,
          "metadata": {},
          "output_type": "execute_result"
        }
      ],
      "source": [
        "# 2024-07-01 AGM Modificamos las columnas binarias a 0´s y 1´s y la columna Sexla tratamos por separado.\n",
        "\n",
        "columns_yes_no = ['HeartDisease', 'Smoking', 'AlcoholDrinking', 'Stroke', 'DiffWalking', 'PhysicalActivity', 'Asthma', 'KidneyDisease', 'SkinCancer']\n",
        "\n",
        "for column in columns_yes_no:\n",
        "    df_ml[column] = df_ml[column].map({'Yes':1, 'No':0})\n",
        "\n",
        "df_ml['Sex'] = df_ml['Sex'].map({'Male':0, 'Female':1})\n",
        "\n",
        "df_ml.sample(5)"
      ]
    },
    {
      "cell_type": "code",
      "execution_count": 68,
      "metadata": {
        "colab": {
          "base_uri": "https://localhost:8080/",
          "height": 478
        },
        "id": "P42L-xvYZq8R",
        "outputId": "495d3b63-5197-41e1-c46c-cb4cc22fb71b"
      },
      "outputs": [
        {
          "data": {
            "text/html": [
              "<div>\n",
              "<style scoped>\n",
              "    .dataframe tbody tr th:only-of-type {\n",
              "        vertical-align: middle;\n",
              "    }\n",
              "\n",
              "    .dataframe tbody tr th {\n",
              "        vertical-align: top;\n",
              "    }\n",
              "\n",
              "    .dataframe thead th {\n",
              "        text-align: right;\n",
              "    }\n",
              "</style>\n",
              "<table border=\"1\" class=\"dataframe\">\n",
              "  <thead>\n",
              "    <tr style=\"text-align: right;\">\n",
              "      <th></th>\n",
              "      <th>AgeCategory_18-24</th>\n",
              "      <th>AgeCategory_25-29</th>\n",
              "      <th>AgeCategory_30-34</th>\n",
              "      <th>AgeCategory_35-39</th>\n",
              "      <th>AgeCategory_40-44</th>\n",
              "      <th>AgeCategory_45-49</th>\n",
              "      <th>AgeCategory_50-54</th>\n",
              "      <th>AgeCategory_55-59</th>\n",
              "      <th>AgeCategory_60-64</th>\n",
              "      <th>AgeCategory_65-69</th>\n",
              "      <th>AgeCategory_70-74</th>\n",
              "      <th>AgeCategory_75-79</th>\n",
              "      <th>AgeCategory_80 or older</th>\n",
              "      <th>Race_American Indian/Alaskan Native</th>\n",
              "      <th>Race_Asian</th>\n",
              "      <th>Race_Black</th>\n",
              "      <th>Race_Hispanic</th>\n",
              "      <th>Race_Other</th>\n",
              "      <th>Race_White</th>\n",
              "      <th>Diabetic_No</th>\n",
              "      <th>Diabetic_No, borderline diabetes</th>\n",
              "      <th>Diabetic_Yes</th>\n",
              "      <th>Diabetic_Yes (during pregnancy)</th>\n",
              "      <th>GenHealth_0</th>\n",
              "      <th>GenHealth_1</th>\n",
              "      <th>GenHealth_2</th>\n",
              "      <th>GenHealth_3</th>\n",
              "      <th>GenHealth_4</th>\n",
              "    </tr>\n",
              "  </thead>\n",
              "  <tbody>\n",
              "    <tr>\n",
              "      <th>0</th>\n",
              "      <td>0.0</td>\n",
              "      <td>0.0</td>\n",
              "      <td>0.0</td>\n",
              "      <td>0.0</td>\n",
              "      <td>0.0</td>\n",
              "      <td>0.0</td>\n",
              "      <td>0.0</td>\n",
              "      <td>1.0</td>\n",
              "      <td>0.0</td>\n",
              "      <td>0.0</td>\n",
              "      <td>0.0</td>\n",
              "      <td>0.0</td>\n",
              "      <td>0.0</td>\n",
              "      <td>0.0</td>\n",
              "      <td>0.0</td>\n",
              "      <td>0.0</td>\n",
              "      <td>0.0</td>\n",
              "      <td>0.0</td>\n",
              "      <td>1.0</td>\n",
              "      <td>0.0</td>\n",
              "      <td>0.0</td>\n",
              "      <td>1.0</td>\n",
              "      <td>0.0</td>\n",
              "      <td>0.0</td>\n",
              "      <td>0.0</td>\n",
              "      <td>0.0</td>\n",
              "      <td>1.0</td>\n",
              "      <td>0.0</td>\n",
              "    </tr>\n",
              "    <tr>\n",
              "      <th>1</th>\n",
              "      <td>0.0</td>\n",
              "      <td>0.0</td>\n",
              "      <td>0.0</td>\n",
              "      <td>0.0</td>\n",
              "      <td>0.0</td>\n",
              "      <td>0.0</td>\n",
              "      <td>0.0</td>\n",
              "      <td>0.0</td>\n",
              "      <td>0.0</td>\n",
              "      <td>0.0</td>\n",
              "      <td>0.0</td>\n",
              "      <td>0.0</td>\n",
              "      <td>1.0</td>\n",
              "      <td>0.0</td>\n",
              "      <td>0.0</td>\n",
              "      <td>0.0</td>\n",
              "      <td>0.0</td>\n",
              "      <td>0.0</td>\n",
              "      <td>1.0</td>\n",
              "      <td>1.0</td>\n",
              "      <td>0.0</td>\n",
              "      <td>0.0</td>\n",
              "      <td>0.0</td>\n",
              "      <td>0.0</td>\n",
              "      <td>0.0</td>\n",
              "      <td>0.0</td>\n",
              "      <td>1.0</td>\n",
              "      <td>0.0</td>\n",
              "    </tr>\n",
              "    <tr>\n",
              "      <th>2</th>\n",
              "      <td>0.0</td>\n",
              "      <td>0.0</td>\n",
              "      <td>0.0</td>\n",
              "      <td>0.0</td>\n",
              "      <td>0.0</td>\n",
              "      <td>0.0</td>\n",
              "      <td>0.0</td>\n",
              "      <td>0.0</td>\n",
              "      <td>0.0</td>\n",
              "      <td>1.0</td>\n",
              "      <td>0.0</td>\n",
              "      <td>0.0</td>\n",
              "      <td>0.0</td>\n",
              "      <td>0.0</td>\n",
              "      <td>0.0</td>\n",
              "      <td>0.0</td>\n",
              "      <td>0.0</td>\n",
              "      <td>0.0</td>\n",
              "      <td>1.0</td>\n",
              "      <td>0.0</td>\n",
              "      <td>0.0</td>\n",
              "      <td>1.0</td>\n",
              "      <td>0.0</td>\n",
              "      <td>0.0</td>\n",
              "      <td>1.0</td>\n",
              "      <td>0.0</td>\n",
              "      <td>0.0</td>\n",
              "      <td>0.0</td>\n",
              "    </tr>\n",
              "    <tr>\n",
              "      <th>3</th>\n",
              "      <td>0.0</td>\n",
              "      <td>0.0</td>\n",
              "      <td>0.0</td>\n",
              "      <td>0.0</td>\n",
              "      <td>0.0</td>\n",
              "      <td>0.0</td>\n",
              "      <td>0.0</td>\n",
              "      <td>0.0</td>\n",
              "      <td>0.0</td>\n",
              "      <td>0.0</td>\n",
              "      <td>0.0</td>\n",
              "      <td>1.0</td>\n",
              "      <td>0.0</td>\n",
              "      <td>0.0</td>\n",
              "      <td>0.0</td>\n",
              "      <td>0.0</td>\n",
              "      <td>0.0</td>\n",
              "      <td>0.0</td>\n",
              "      <td>1.0</td>\n",
              "      <td>1.0</td>\n",
              "      <td>0.0</td>\n",
              "      <td>0.0</td>\n",
              "      <td>0.0</td>\n",
              "      <td>0.0</td>\n",
              "      <td>0.0</td>\n",
              "      <td>1.0</td>\n",
              "      <td>0.0</td>\n",
              "      <td>0.0</td>\n",
              "    </tr>\n",
              "    <tr>\n",
              "      <th>4</th>\n",
              "      <td>0.0</td>\n",
              "      <td>0.0</td>\n",
              "      <td>0.0</td>\n",
              "      <td>0.0</td>\n",
              "      <td>1.0</td>\n",
              "      <td>0.0</td>\n",
              "      <td>0.0</td>\n",
              "      <td>0.0</td>\n",
              "      <td>0.0</td>\n",
              "      <td>0.0</td>\n",
              "      <td>0.0</td>\n",
              "      <td>0.0</td>\n",
              "      <td>0.0</td>\n",
              "      <td>0.0</td>\n",
              "      <td>0.0</td>\n",
              "      <td>0.0</td>\n",
              "      <td>0.0</td>\n",
              "      <td>0.0</td>\n",
              "      <td>1.0</td>\n",
              "      <td>1.0</td>\n",
              "      <td>0.0</td>\n",
              "      <td>0.0</td>\n",
              "      <td>0.0</td>\n",
              "      <td>0.0</td>\n",
              "      <td>0.0</td>\n",
              "      <td>0.0</td>\n",
              "      <td>1.0</td>\n",
              "      <td>0.0</td>\n",
              "    </tr>\n",
              "    <tr>\n",
              "      <th>...</th>\n",
              "      <td>...</td>\n",
              "      <td>...</td>\n",
              "      <td>...</td>\n",
              "      <td>...</td>\n",
              "      <td>...</td>\n",
              "      <td>...</td>\n",
              "      <td>...</td>\n",
              "      <td>...</td>\n",
              "      <td>...</td>\n",
              "      <td>...</td>\n",
              "      <td>...</td>\n",
              "      <td>...</td>\n",
              "      <td>...</td>\n",
              "      <td>...</td>\n",
              "      <td>...</td>\n",
              "      <td>...</td>\n",
              "      <td>...</td>\n",
              "      <td>...</td>\n",
              "      <td>...</td>\n",
              "      <td>...</td>\n",
              "      <td>...</td>\n",
              "      <td>...</td>\n",
              "      <td>...</td>\n",
              "      <td>...</td>\n",
              "      <td>...</td>\n",
              "      <td>...</td>\n",
              "      <td>...</td>\n",
              "      <td>...</td>\n",
              "    </tr>\n",
              "    <tr>\n",
              "      <th>319790</th>\n",
              "      <td>0.0</td>\n",
              "      <td>0.0</td>\n",
              "      <td>0.0</td>\n",
              "      <td>0.0</td>\n",
              "      <td>0.0</td>\n",
              "      <td>0.0</td>\n",
              "      <td>0.0</td>\n",
              "      <td>0.0</td>\n",
              "      <td>1.0</td>\n",
              "      <td>0.0</td>\n",
              "      <td>0.0</td>\n",
              "      <td>0.0</td>\n",
              "      <td>0.0</td>\n",
              "      <td>0.0</td>\n",
              "      <td>0.0</td>\n",
              "      <td>0.0</td>\n",
              "      <td>1.0</td>\n",
              "      <td>0.0</td>\n",
              "      <td>0.0</td>\n",
              "      <td>0.0</td>\n",
              "      <td>0.0</td>\n",
              "      <td>1.0</td>\n",
              "      <td>0.0</td>\n",
              "      <td>0.0</td>\n",
              "      <td>1.0</td>\n",
              "      <td>0.0</td>\n",
              "      <td>0.0</td>\n",
              "      <td>0.0</td>\n",
              "    </tr>\n",
              "    <tr>\n",
              "      <th>319791</th>\n",
              "      <td>0.0</td>\n",
              "      <td>0.0</td>\n",
              "      <td>0.0</td>\n",
              "      <td>1.0</td>\n",
              "      <td>0.0</td>\n",
              "      <td>0.0</td>\n",
              "      <td>0.0</td>\n",
              "      <td>0.0</td>\n",
              "      <td>0.0</td>\n",
              "      <td>0.0</td>\n",
              "      <td>0.0</td>\n",
              "      <td>0.0</td>\n",
              "      <td>0.0</td>\n",
              "      <td>0.0</td>\n",
              "      <td>0.0</td>\n",
              "      <td>0.0</td>\n",
              "      <td>1.0</td>\n",
              "      <td>0.0</td>\n",
              "      <td>0.0</td>\n",
              "      <td>1.0</td>\n",
              "      <td>0.0</td>\n",
              "      <td>0.0</td>\n",
              "      <td>0.0</td>\n",
              "      <td>0.0</td>\n",
              "      <td>0.0</td>\n",
              "      <td>0.0</td>\n",
              "      <td>1.0</td>\n",
              "      <td>0.0</td>\n",
              "    </tr>\n",
              "    <tr>\n",
              "      <th>319792</th>\n",
              "      <td>0.0</td>\n",
              "      <td>0.0</td>\n",
              "      <td>0.0</td>\n",
              "      <td>0.0</td>\n",
              "      <td>0.0</td>\n",
              "      <td>1.0</td>\n",
              "      <td>0.0</td>\n",
              "      <td>0.0</td>\n",
              "      <td>0.0</td>\n",
              "      <td>0.0</td>\n",
              "      <td>0.0</td>\n",
              "      <td>0.0</td>\n",
              "      <td>0.0</td>\n",
              "      <td>0.0</td>\n",
              "      <td>0.0</td>\n",
              "      <td>0.0</td>\n",
              "      <td>1.0</td>\n",
              "      <td>0.0</td>\n",
              "      <td>0.0</td>\n",
              "      <td>1.0</td>\n",
              "      <td>0.0</td>\n",
              "      <td>0.0</td>\n",
              "      <td>0.0</td>\n",
              "      <td>0.0</td>\n",
              "      <td>0.0</td>\n",
              "      <td>1.0</td>\n",
              "      <td>0.0</td>\n",
              "      <td>0.0</td>\n",
              "    </tr>\n",
              "    <tr>\n",
              "      <th>319793</th>\n",
              "      <td>0.0</td>\n",
              "      <td>1.0</td>\n",
              "      <td>0.0</td>\n",
              "      <td>0.0</td>\n",
              "      <td>0.0</td>\n",
              "      <td>0.0</td>\n",
              "      <td>0.0</td>\n",
              "      <td>0.0</td>\n",
              "      <td>0.0</td>\n",
              "      <td>0.0</td>\n",
              "      <td>0.0</td>\n",
              "      <td>0.0</td>\n",
              "      <td>0.0</td>\n",
              "      <td>0.0</td>\n",
              "      <td>0.0</td>\n",
              "      <td>0.0</td>\n",
              "      <td>1.0</td>\n",
              "      <td>0.0</td>\n",
              "      <td>0.0</td>\n",
              "      <td>1.0</td>\n",
              "      <td>0.0</td>\n",
              "      <td>0.0</td>\n",
              "      <td>0.0</td>\n",
              "      <td>0.0</td>\n",
              "      <td>0.0</td>\n",
              "      <td>1.0</td>\n",
              "      <td>0.0</td>\n",
              "      <td>0.0</td>\n",
              "    </tr>\n",
              "    <tr>\n",
              "      <th>319794</th>\n",
              "      <td>0.0</td>\n",
              "      <td>0.0</td>\n",
              "      <td>0.0</td>\n",
              "      <td>0.0</td>\n",
              "      <td>0.0</td>\n",
              "      <td>0.0</td>\n",
              "      <td>0.0</td>\n",
              "      <td>0.0</td>\n",
              "      <td>0.0</td>\n",
              "      <td>0.0</td>\n",
              "      <td>0.0</td>\n",
              "      <td>0.0</td>\n",
              "      <td>1.0</td>\n",
              "      <td>0.0</td>\n",
              "      <td>0.0</td>\n",
              "      <td>0.0</td>\n",
              "      <td>1.0</td>\n",
              "      <td>0.0</td>\n",
              "      <td>0.0</td>\n",
              "      <td>1.0</td>\n",
              "      <td>0.0</td>\n",
              "      <td>0.0</td>\n",
              "      <td>0.0</td>\n",
              "      <td>0.0</td>\n",
              "      <td>0.0</td>\n",
              "      <td>1.0</td>\n",
              "      <td>0.0</td>\n",
              "      <td>0.0</td>\n",
              "    </tr>\n",
              "  </tbody>\n",
              "</table>\n",
              "<p>319795 rows × 28 columns</p>\n",
              "</div>"
            ],
            "text/plain": [
              "        AgeCategory_18-24  AgeCategory_25-29  AgeCategory_30-34  \\\n",
              "0                     0.0                0.0                0.0   \n",
              "1                     0.0                0.0                0.0   \n",
              "2                     0.0                0.0                0.0   \n",
              "3                     0.0                0.0                0.0   \n",
              "4                     0.0                0.0                0.0   \n",
              "...                   ...                ...                ...   \n",
              "319790                0.0                0.0                0.0   \n",
              "319791                0.0                0.0                0.0   \n",
              "319792                0.0                0.0                0.0   \n",
              "319793                0.0                1.0                0.0   \n",
              "319794                0.0                0.0                0.0   \n",
              "\n",
              "        AgeCategory_35-39  AgeCategory_40-44  AgeCategory_45-49  \\\n",
              "0                     0.0                0.0                0.0   \n",
              "1                     0.0                0.0                0.0   \n",
              "2                     0.0                0.0                0.0   \n",
              "3                     0.0                0.0                0.0   \n",
              "4                     0.0                1.0                0.0   \n",
              "...                   ...                ...                ...   \n",
              "319790                0.0                0.0                0.0   \n",
              "319791                1.0                0.0                0.0   \n",
              "319792                0.0                0.0                1.0   \n",
              "319793                0.0                0.0                0.0   \n",
              "319794                0.0                0.0                0.0   \n",
              "\n",
              "        AgeCategory_50-54  AgeCategory_55-59  AgeCategory_60-64  \\\n",
              "0                     0.0                1.0                0.0   \n",
              "1                     0.0                0.0                0.0   \n",
              "2                     0.0                0.0                0.0   \n",
              "3                     0.0                0.0                0.0   \n",
              "4                     0.0                0.0                0.0   \n",
              "...                   ...                ...                ...   \n",
              "319790                0.0                0.0                1.0   \n",
              "319791                0.0                0.0                0.0   \n",
              "319792                0.0                0.0                0.0   \n",
              "319793                0.0                0.0                0.0   \n",
              "319794                0.0                0.0                0.0   \n",
              "\n",
              "        AgeCategory_65-69  AgeCategory_70-74  AgeCategory_75-79  \\\n",
              "0                     0.0                0.0                0.0   \n",
              "1                     0.0                0.0                0.0   \n",
              "2                     1.0                0.0                0.0   \n",
              "3                     0.0                0.0                1.0   \n",
              "4                     0.0                0.0                0.0   \n",
              "...                   ...                ...                ...   \n",
              "319790                0.0                0.0                0.0   \n",
              "319791                0.0                0.0                0.0   \n",
              "319792                0.0                0.0                0.0   \n",
              "319793                0.0                0.0                0.0   \n",
              "319794                0.0                0.0                0.0   \n",
              "\n",
              "        AgeCategory_80 or older  Race_American Indian/Alaskan Native  \\\n",
              "0                           0.0                                  0.0   \n",
              "1                           1.0                                  0.0   \n",
              "2                           0.0                                  0.0   \n",
              "3                           0.0                                  0.0   \n",
              "4                           0.0                                  0.0   \n",
              "...                         ...                                  ...   \n",
              "319790                      0.0                                  0.0   \n",
              "319791                      0.0                                  0.0   \n",
              "319792                      0.0                                  0.0   \n",
              "319793                      0.0                                  0.0   \n",
              "319794                      1.0                                  0.0   \n",
              "\n",
              "        Race_Asian  Race_Black  Race_Hispanic  Race_Other  Race_White  \\\n",
              "0              0.0         0.0            0.0         0.0         1.0   \n",
              "1              0.0         0.0            0.0         0.0         1.0   \n",
              "2              0.0         0.0            0.0         0.0         1.0   \n",
              "3              0.0         0.0            0.0         0.0         1.0   \n",
              "4              0.0         0.0            0.0         0.0         1.0   \n",
              "...            ...         ...            ...         ...         ...   \n",
              "319790         0.0         0.0            1.0         0.0         0.0   \n",
              "319791         0.0         0.0            1.0         0.0         0.0   \n",
              "319792         0.0         0.0            1.0         0.0         0.0   \n",
              "319793         0.0         0.0            1.0         0.0         0.0   \n",
              "319794         0.0         0.0            1.0         0.0         0.0   \n",
              "\n",
              "        Diabetic_No  Diabetic_No, borderline diabetes  Diabetic_Yes  \\\n",
              "0               0.0                               0.0           1.0   \n",
              "1               1.0                               0.0           0.0   \n",
              "2               0.0                               0.0           1.0   \n",
              "3               1.0                               0.0           0.0   \n",
              "4               1.0                               0.0           0.0   \n",
              "...             ...                               ...           ...   \n",
              "319790          0.0                               0.0           1.0   \n",
              "319791          1.0                               0.0           0.0   \n",
              "319792          1.0                               0.0           0.0   \n",
              "319793          1.0                               0.0           0.0   \n",
              "319794          1.0                               0.0           0.0   \n",
              "\n",
              "        Diabetic_Yes (during pregnancy)  GenHealth_0  GenHealth_1  \\\n",
              "0                                   0.0          0.0          0.0   \n",
              "1                                   0.0          0.0          0.0   \n",
              "2                                   0.0          0.0          1.0   \n",
              "3                                   0.0          0.0          0.0   \n",
              "4                                   0.0          0.0          0.0   \n",
              "...                                 ...          ...          ...   \n",
              "319790                              0.0          0.0          1.0   \n",
              "319791                              0.0          0.0          0.0   \n",
              "319792                              0.0          0.0          0.0   \n",
              "319793                              0.0          0.0          0.0   \n",
              "319794                              0.0          0.0          0.0   \n",
              "\n",
              "        GenHealth_2  GenHealth_3  GenHealth_4  \n",
              "0               0.0          1.0          0.0  \n",
              "1               0.0          1.0          0.0  \n",
              "2               0.0          0.0          0.0  \n",
              "3               1.0          0.0          0.0  \n",
              "4               0.0          1.0          0.0  \n",
              "...             ...          ...          ...  \n",
              "319790          0.0          0.0          0.0  \n",
              "319791          0.0          1.0          0.0  \n",
              "319792          1.0          0.0          0.0  \n",
              "319793          1.0          0.0          0.0  \n",
              "319794          1.0          0.0          0.0  \n",
              "\n",
              "[319795 rows x 28 columns]"
            ]
          },
          "execution_count": 68,
          "metadata": {},
          "output_type": "execute_result"
        }
      ],
      "source": [
        "# 2024-07-01 AGM Modificamos ahora las columnas categóricas haciendo OneHotEncoding.\n",
        "\n",
        "columns_to_encode = ['AgeCategory', 'Race', 'Diabetic', 'GenHealth']\n",
        "\n",
        "# 2024-07-01 AGM Inicializar el OneHotEncoder. Sparse_output = false genera una matriz que se puede convertir a dataframe.\n",
        "one_hot_encoder = OneHotEncoder(drop = None, sparse_output = False)\n",
        "\n",
        "# 2024-07-01 AGM Crea tabla con todas las columnas que se han codificado.\n",
        "encoded_data = one_hot_encoder.fit_transform(df_ml[columns_to_encode])\n",
        "\n",
        "# 2024-07-01 AGM Convertimos dataframe del encoded_data y asignamos nombres a las columnas.\n",
        "df_encoded_data = pd.DataFrame(encoded_data, columns = one_hot_encoder.get_feature_names_out(columns_to_encode))\n",
        "df_encoded_data"
      ]
    },
    {
      "cell_type": "code",
      "execution_count": 69,
      "metadata": {
        "colab": {
          "base_uri": "https://localhost:8080/"
        },
        "id": "lNN-QzC5cDfT",
        "outputId": "ef1a27e0-4d7a-4119-8a32-b57b25f3811f"
      },
      "outputs": [
        {
          "data": {
            "text/plain": [
              "Index(['HeartDisease', 'BMI', 'Smoking', 'AlcoholDrinking', 'Stroke',\n",
              "       'PhysicalHealth', 'MentalHealth', 'DiffWalking', 'Sex',\n",
              "       'PhysicalActivity', 'SleepTime', 'Asthma', 'KidneyDisease',\n",
              "       'SkinCancer'],\n",
              "      dtype='object')"
            ]
          },
          "execution_count": 69,
          "metadata": {},
          "output_type": "execute_result"
        }
      ],
      "source": [
        "# 2024-07-01 AGM Eliminamos las columnas codificadas.\n",
        "\n",
        "df_ml.drop(columns = columns_to_encode, inplace = True)\n",
        "df_ml.columns"
      ]
    },
    {
      "cell_type": "code",
      "execution_count": 70,
      "metadata": {
        "colab": {
          "base_uri": "https://localhost:8080/"
        },
        "id": "aePHE2yic1Yn",
        "outputId": "019c582e-771e-4fb2-d3f2-2b371bfa026c"
      },
      "outputs": [
        {
          "data": {
            "text/plain": [
              "Index(['HeartDisease', 'BMI', 'Smoking', 'AlcoholDrinking', 'Stroke',\n",
              "       'PhysicalHealth', 'MentalHealth', 'DiffWalking', 'Sex',\n",
              "       'PhysicalActivity', 'SleepTime', 'Asthma', 'KidneyDisease',\n",
              "       'SkinCancer', 'AgeCategory_18-24', 'AgeCategory_25-29',\n",
              "       'AgeCategory_30-34', 'AgeCategory_35-39', 'AgeCategory_40-44',\n",
              "       'AgeCategory_45-49', 'AgeCategory_50-54', 'AgeCategory_55-59',\n",
              "       'AgeCategory_60-64', 'AgeCategory_65-69', 'AgeCategory_70-74',\n",
              "       'AgeCategory_75-79', 'AgeCategory_80 or older',\n",
              "       'Race_American Indian/Alaskan Native', 'Race_Asian', 'Race_Black',\n",
              "       'Race_Hispanic', 'Race_Other', 'Race_White', 'Diabetic_No',\n",
              "       'Diabetic_No, borderline diabetes', 'Diabetic_Yes',\n",
              "       'Diabetic_Yes (during pregnancy)', 'GenHealth_0', 'GenHealth_1',\n",
              "       'GenHealth_2', 'GenHealth_3', 'GenHealth_4'],\n",
              "      dtype='object')"
            ]
          },
          "execution_count": 70,
          "metadata": {},
          "output_type": "execute_result"
        }
      ],
      "source": [
        "# 2024-07-01 AGM Vamos a unir ambos dataframes. Importante: Al usar concat hay que especificar si queremos que concatene los dataframes verticalmente u horizontalmente. Para concatenar horizontalmente hay que usar axis = 1, para verticalmente, axis = 0. Lo descubrí tras varios fallos y ChatGPT me ayudó :P\n",
        "\n",
        "df_ml = pd.concat([df_ml, df_encoded_data], axis = 1)\n",
        "df_ml.columns"
      ]
    },
    {
      "cell_type": "code",
      "execution_count": 71,
      "metadata": {
        "colab": {
          "base_uri": "https://localhost:8080/",
          "height": 261
        },
        "id": "OO5VYv2Xdgyd",
        "outputId": "8c4bedc7-28e8-493a-b577-29e740bf8977"
      },
      "outputs": [
        {
          "data": {
            "text/html": [
              "<div>\n",
              "<style scoped>\n",
              "    .dataframe tbody tr th:only-of-type {\n",
              "        vertical-align: middle;\n",
              "    }\n",
              "\n",
              "    .dataframe tbody tr th {\n",
              "        vertical-align: top;\n",
              "    }\n",
              "\n",
              "    .dataframe thead th {\n",
              "        text-align: right;\n",
              "    }\n",
              "</style>\n",
              "<table border=\"1\" class=\"dataframe\">\n",
              "  <thead>\n",
              "    <tr style=\"text-align: right;\">\n",
              "      <th></th>\n",
              "      <th>HeartDisease</th>\n",
              "      <th>BMI</th>\n",
              "      <th>Smoking</th>\n",
              "      <th>AlcoholDrinking</th>\n",
              "      <th>Stroke</th>\n",
              "      <th>PhysicalHealth</th>\n",
              "      <th>MentalHealth</th>\n",
              "      <th>DiffWalking</th>\n",
              "      <th>Sex</th>\n",
              "      <th>PhysicalActivity</th>\n",
              "      <th>SleepTime</th>\n",
              "      <th>Asthma</th>\n",
              "      <th>KidneyDisease</th>\n",
              "      <th>SkinCancer</th>\n",
              "      <th>AgeCategory_18-24</th>\n",
              "      <th>AgeCategory_25-29</th>\n",
              "      <th>AgeCategory_30-34</th>\n",
              "      <th>AgeCategory_35-39</th>\n",
              "      <th>AgeCategory_40-44</th>\n",
              "      <th>AgeCategory_45-49</th>\n",
              "      <th>AgeCategory_50-54</th>\n",
              "      <th>AgeCategory_55-59</th>\n",
              "      <th>AgeCategory_60-64</th>\n",
              "      <th>AgeCategory_65-69</th>\n",
              "      <th>AgeCategory_70-74</th>\n",
              "      <th>AgeCategory_75-79</th>\n",
              "      <th>AgeCategory_80 or older</th>\n",
              "      <th>Race_American Indian/Alaskan Native</th>\n",
              "      <th>Race_Asian</th>\n",
              "      <th>Race_Black</th>\n",
              "      <th>Race_Hispanic</th>\n",
              "      <th>Race_Other</th>\n",
              "      <th>Race_White</th>\n",
              "      <th>Diabetic_No</th>\n",
              "      <th>Diabetic_No, borderline diabetes</th>\n",
              "      <th>Diabetic_Yes</th>\n",
              "      <th>Diabetic_Yes (during pregnancy)</th>\n",
              "      <th>GenHealth_0</th>\n",
              "      <th>GenHealth_1</th>\n",
              "      <th>GenHealth_2</th>\n",
              "      <th>GenHealth_3</th>\n",
              "      <th>GenHealth_4</th>\n",
              "    </tr>\n",
              "  </thead>\n",
              "  <tbody>\n",
              "    <tr>\n",
              "      <th>244637</th>\n",
              "      <td>0</td>\n",
              "      <td>32.92</td>\n",
              "      <td>0</td>\n",
              "      <td>0</td>\n",
              "      <td>0</td>\n",
              "      <td>30</td>\n",
              "      <td>0</td>\n",
              "      <td>1</td>\n",
              "      <td>1</td>\n",
              "      <td>1</td>\n",
              "      <td>8</td>\n",
              "      <td>0</td>\n",
              "      <td>0</td>\n",
              "      <td>0</td>\n",
              "      <td>0.0</td>\n",
              "      <td>0.0</td>\n",
              "      <td>0.0</td>\n",
              "      <td>0.0</td>\n",
              "      <td>0.0</td>\n",
              "      <td>0.0</td>\n",
              "      <td>1.0</td>\n",
              "      <td>0.0</td>\n",
              "      <td>0.0</td>\n",
              "      <td>0.0</td>\n",
              "      <td>0.0</td>\n",
              "      <td>0.0</td>\n",
              "      <td>0.0</td>\n",
              "      <td>0.0</td>\n",
              "      <td>0.0</td>\n",
              "      <td>0.0</td>\n",
              "      <td>1.0</td>\n",
              "      <td>0.0</td>\n",
              "      <td>0.0</td>\n",
              "      <td>0.0</td>\n",
              "      <td>0.0</td>\n",
              "      <td>1.0</td>\n",
              "      <td>0.0</td>\n",
              "      <td>0.0</td>\n",
              "      <td>1.0</td>\n",
              "      <td>0.0</td>\n",
              "      <td>0.0</td>\n",
              "      <td>0.0</td>\n",
              "    </tr>\n",
              "    <tr>\n",
              "      <th>215557</th>\n",
              "      <td>0</td>\n",
              "      <td>23.29</td>\n",
              "      <td>1</td>\n",
              "      <td>0</td>\n",
              "      <td>0</td>\n",
              "      <td>0</td>\n",
              "      <td>0</td>\n",
              "      <td>0</td>\n",
              "      <td>0</td>\n",
              "      <td>1</td>\n",
              "      <td>6</td>\n",
              "      <td>0</td>\n",
              "      <td>0</td>\n",
              "      <td>0</td>\n",
              "      <td>0.0</td>\n",
              "      <td>0.0</td>\n",
              "      <td>0.0</td>\n",
              "      <td>0.0</td>\n",
              "      <td>0.0</td>\n",
              "      <td>1.0</td>\n",
              "      <td>0.0</td>\n",
              "      <td>0.0</td>\n",
              "      <td>0.0</td>\n",
              "      <td>0.0</td>\n",
              "      <td>0.0</td>\n",
              "      <td>0.0</td>\n",
              "      <td>0.0</td>\n",
              "      <td>0.0</td>\n",
              "      <td>0.0</td>\n",
              "      <td>0.0</td>\n",
              "      <td>0.0</td>\n",
              "      <td>0.0</td>\n",
              "      <td>1.0</td>\n",
              "      <td>1.0</td>\n",
              "      <td>0.0</td>\n",
              "      <td>0.0</td>\n",
              "      <td>0.0</td>\n",
              "      <td>0.0</td>\n",
              "      <td>0.0</td>\n",
              "      <td>1.0</td>\n",
              "      <td>0.0</td>\n",
              "      <td>0.0</td>\n",
              "    </tr>\n",
              "    <tr>\n",
              "      <th>168634</th>\n",
              "      <td>1</td>\n",
              "      <td>35.44</td>\n",
              "      <td>1</td>\n",
              "      <td>0</td>\n",
              "      <td>0</td>\n",
              "      <td>0</td>\n",
              "      <td>10</td>\n",
              "      <td>0</td>\n",
              "      <td>0</td>\n",
              "      <td>0</td>\n",
              "      <td>12</td>\n",
              "      <td>0</td>\n",
              "      <td>0</td>\n",
              "      <td>0</td>\n",
              "      <td>0.0</td>\n",
              "      <td>0.0</td>\n",
              "      <td>0.0</td>\n",
              "      <td>0.0</td>\n",
              "      <td>0.0</td>\n",
              "      <td>0.0</td>\n",
              "      <td>0.0</td>\n",
              "      <td>0.0</td>\n",
              "      <td>0.0</td>\n",
              "      <td>0.0</td>\n",
              "      <td>1.0</td>\n",
              "      <td>0.0</td>\n",
              "      <td>0.0</td>\n",
              "      <td>0.0</td>\n",
              "      <td>0.0</td>\n",
              "      <td>0.0</td>\n",
              "      <td>0.0</td>\n",
              "      <td>0.0</td>\n",
              "      <td>1.0</td>\n",
              "      <td>0.0</td>\n",
              "      <td>0.0</td>\n",
              "      <td>1.0</td>\n",
              "      <td>0.0</td>\n",
              "      <td>0.0</td>\n",
              "      <td>1.0</td>\n",
              "      <td>0.0</td>\n",
              "      <td>0.0</td>\n",
              "      <td>0.0</td>\n",
              "    </tr>\n",
              "    <tr>\n",
              "      <th>222692</th>\n",
              "      <td>0</td>\n",
              "      <td>29.18</td>\n",
              "      <td>1</td>\n",
              "      <td>0</td>\n",
              "      <td>0</td>\n",
              "      <td>0</td>\n",
              "      <td>0</td>\n",
              "      <td>0</td>\n",
              "      <td>1</td>\n",
              "      <td>1</td>\n",
              "      <td>6</td>\n",
              "      <td>1</td>\n",
              "      <td>0</td>\n",
              "      <td>0</td>\n",
              "      <td>0.0</td>\n",
              "      <td>1.0</td>\n",
              "      <td>0.0</td>\n",
              "      <td>0.0</td>\n",
              "      <td>0.0</td>\n",
              "      <td>0.0</td>\n",
              "      <td>0.0</td>\n",
              "      <td>0.0</td>\n",
              "      <td>0.0</td>\n",
              "      <td>0.0</td>\n",
              "      <td>0.0</td>\n",
              "      <td>0.0</td>\n",
              "      <td>0.0</td>\n",
              "      <td>0.0</td>\n",
              "      <td>0.0</td>\n",
              "      <td>0.0</td>\n",
              "      <td>0.0</td>\n",
              "      <td>0.0</td>\n",
              "      <td>1.0</td>\n",
              "      <td>1.0</td>\n",
              "      <td>0.0</td>\n",
              "      <td>0.0</td>\n",
              "      <td>0.0</td>\n",
              "      <td>0.0</td>\n",
              "      <td>0.0</td>\n",
              "      <td>0.0</td>\n",
              "      <td>0.0</td>\n",
              "      <td>1.0</td>\n",
              "    </tr>\n",
              "    <tr>\n",
              "      <th>166500</th>\n",
              "      <td>0</td>\n",
              "      <td>18.83</td>\n",
              "      <td>1</td>\n",
              "      <td>0</td>\n",
              "      <td>0</td>\n",
              "      <td>0</td>\n",
              "      <td>0</td>\n",
              "      <td>0</td>\n",
              "      <td>1</td>\n",
              "      <td>1</td>\n",
              "      <td>7</td>\n",
              "      <td>0</td>\n",
              "      <td>0</td>\n",
              "      <td>0</td>\n",
              "      <td>0.0</td>\n",
              "      <td>0.0</td>\n",
              "      <td>0.0</td>\n",
              "      <td>0.0</td>\n",
              "      <td>0.0</td>\n",
              "      <td>1.0</td>\n",
              "      <td>0.0</td>\n",
              "      <td>0.0</td>\n",
              "      <td>0.0</td>\n",
              "      <td>0.0</td>\n",
              "      <td>0.0</td>\n",
              "      <td>0.0</td>\n",
              "      <td>0.0</td>\n",
              "      <td>0.0</td>\n",
              "      <td>0.0</td>\n",
              "      <td>0.0</td>\n",
              "      <td>0.0</td>\n",
              "      <td>0.0</td>\n",
              "      <td>1.0</td>\n",
              "      <td>1.0</td>\n",
              "      <td>0.0</td>\n",
              "      <td>0.0</td>\n",
              "      <td>0.0</td>\n",
              "      <td>0.0</td>\n",
              "      <td>0.0</td>\n",
              "      <td>0.0</td>\n",
              "      <td>0.0</td>\n",
              "      <td>1.0</td>\n",
              "    </tr>\n",
              "  </tbody>\n",
              "</table>\n",
              "</div>"
            ],
            "text/plain": [
              "        HeartDisease    BMI  Smoking  AlcoholDrinking  Stroke  PhysicalHealth  \\\n",
              "244637             0  32.92        0                0       0              30   \n",
              "215557             0  23.29        1                0       0               0   \n",
              "168634             1  35.44        1                0       0               0   \n",
              "222692             0  29.18        1                0       0               0   \n",
              "166500             0  18.83        1                0       0               0   \n",
              "\n",
              "        MentalHealth  DiffWalking  Sex  PhysicalActivity  SleepTime  Asthma  \\\n",
              "244637             0            1    1                 1          8       0   \n",
              "215557             0            0    0                 1          6       0   \n",
              "168634            10            0    0                 0         12       0   \n",
              "222692             0            0    1                 1          6       1   \n",
              "166500             0            0    1                 1          7       0   \n",
              "\n",
              "        KidneyDisease  SkinCancer  AgeCategory_18-24  AgeCategory_25-29  \\\n",
              "244637              0           0                0.0                0.0   \n",
              "215557              0           0                0.0                0.0   \n",
              "168634              0           0                0.0                0.0   \n",
              "222692              0           0                0.0                1.0   \n",
              "166500              0           0                0.0                0.0   \n",
              "\n",
              "        AgeCategory_30-34  AgeCategory_35-39  AgeCategory_40-44  \\\n",
              "244637                0.0                0.0                0.0   \n",
              "215557                0.0                0.0                0.0   \n",
              "168634                0.0                0.0                0.0   \n",
              "222692                0.0                0.0                0.0   \n",
              "166500                0.0                0.0                0.0   \n",
              "\n",
              "        AgeCategory_45-49  AgeCategory_50-54  AgeCategory_55-59  \\\n",
              "244637                0.0                1.0                0.0   \n",
              "215557                1.0                0.0                0.0   \n",
              "168634                0.0                0.0                0.0   \n",
              "222692                0.0                0.0                0.0   \n",
              "166500                1.0                0.0                0.0   \n",
              "\n",
              "        AgeCategory_60-64  AgeCategory_65-69  AgeCategory_70-74  \\\n",
              "244637                0.0                0.0                0.0   \n",
              "215557                0.0                0.0                0.0   \n",
              "168634                0.0                0.0                1.0   \n",
              "222692                0.0                0.0                0.0   \n",
              "166500                0.0                0.0                0.0   \n",
              "\n",
              "        AgeCategory_75-79  AgeCategory_80 or older  \\\n",
              "244637                0.0                      0.0   \n",
              "215557                0.0                      0.0   \n",
              "168634                0.0                      0.0   \n",
              "222692                0.0                      0.0   \n",
              "166500                0.0                      0.0   \n",
              "\n",
              "        Race_American Indian/Alaskan Native  Race_Asian  Race_Black  \\\n",
              "244637                                  0.0         0.0         0.0   \n",
              "215557                                  0.0         0.0         0.0   \n",
              "168634                                  0.0         0.0         0.0   \n",
              "222692                                  0.0         0.0         0.0   \n",
              "166500                                  0.0         0.0         0.0   \n",
              "\n",
              "        Race_Hispanic  Race_Other  Race_White  Diabetic_No  \\\n",
              "244637            1.0         0.0         0.0          0.0   \n",
              "215557            0.0         0.0         1.0          1.0   \n",
              "168634            0.0         0.0         1.0          0.0   \n",
              "222692            0.0         0.0         1.0          1.0   \n",
              "166500            0.0         0.0         1.0          1.0   \n",
              "\n",
              "        Diabetic_No, borderline diabetes  Diabetic_Yes  \\\n",
              "244637                               0.0           1.0   \n",
              "215557                               0.0           0.0   \n",
              "168634                               0.0           1.0   \n",
              "222692                               0.0           0.0   \n",
              "166500                               0.0           0.0   \n",
              "\n",
              "        Diabetic_Yes (during pregnancy)  GenHealth_0  GenHealth_1  \\\n",
              "244637                              0.0          0.0          1.0   \n",
              "215557                              0.0          0.0          0.0   \n",
              "168634                              0.0          0.0          1.0   \n",
              "222692                              0.0          0.0          0.0   \n",
              "166500                              0.0          0.0          0.0   \n",
              "\n",
              "        GenHealth_2  GenHealth_3  GenHealth_4  \n",
              "244637          0.0          0.0          0.0  \n",
              "215557          1.0          0.0          0.0  \n",
              "168634          0.0          0.0          0.0  \n",
              "222692          0.0          0.0          1.0  \n",
              "166500          0.0          0.0          1.0  "
            ]
          },
          "execution_count": 71,
          "metadata": {},
          "output_type": "execute_result"
        }
      ],
      "source": [
        "df_ml.sample(5)"
      ]
    },
    {
      "cell_type": "code",
      "execution_count": 75,
      "metadata": {},
      "outputs": [
        {
          "data": {
            "text/plain": [
              "HeartDisease                           0\n",
              "BMI                                    0\n",
              "Smoking                                0\n",
              "AlcoholDrinking                        0\n",
              "Stroke                                 0\n",
              "PhysicalHealth                         0\n",
              "MentalHealth                           0\n",
              "DiffWalking                            0\n",
              "Sex                                    0\n",
              "PhysicalActivity                       0\n",
              "SleepTime                              0\n",
              "Asthma                                 0\n",
              "KidneyDisease                          0\n",
              "SkinCancer                             0\n",
              "AgeCategory_18-24                      0\n",
              "AgeCategory_25-29                      0\n",
              "AgeCategory_30-34                      0\n",
              "AgeCategory_35-39                      0\n",
              "AgeCategory_40-44                      0\n",
              "AgeCategory_45-49                      0\n",
              "AgeCategory_50-54                      0\n",
              "AgeCategory_55-59                      0\n",
              "AgeCategory_60-64                      0\n",
              "AgeCategory_65-69                      0\n",
              "AgeCategory_70-74                      0\n",
              "AgeCategory_75-79                      0\n",
              "AgeCategory_80 or older                0\n",
              "Race_American Indian/Alaskan Native    0\n",
              "Race_Asian                             0\n",
              "Race_Black                             0\n",
              "Race_Hispanic                          0\n",
              "Race_Other                             0\n",
              "Race_White                             0\n",
              "Diabetic_No                            0\n",
              "Diabetic_No, borderline diabetes       0\n",
              "Diabetic_Yes                           0\n",
              "Diabetic_Yes (during pregnancy)        0\n",
              "GenHealth_0                            0\n",
              "GenHealth_1                            0\n",
              "GenHealth_2                            0\n",
              "GenHealth_3                            0\n",
              "GenHealth_4                            0\n",
              "dtype: int64"
            ]
          },
          "execution_count": 75,
          "metadata": {},
          "output_type": "execute_result"
        }
      ],
      "source": [
        "df_ml.isna().sum()"
      ]
    },
    {
      "cell_type": "code",
      "execution_count": 76,
      "metadata": {
        "id": "nan-A0TSgP2H"
      },
      "outputs": [],
      "source": [
        "# 2024-07-01 AGM De alguna manera se nos ha colado algún nulo. Me los cargo para poder hacer rápido esto, pero habrá que echar un vistazo.\n",
        "\n",
        "df_ml.dropna(inplace = True)"
      ]
    },
    {
      "cell_type": "code",
      "execution_count": 78,
      "metadata": {
        "colab": {
          "base_uri": "https://localhost:8080/",
          "height": 261
        },
        "id": "IO2pgjeGduZG",
        "outputId": "44258df3-bab3-4d9b-f83e-b78ae4e81dbb"
      },
      "outputs": [
        {
          "data": {
            "text/html": [
              "<div>\n",
              "<style scoped>\n",
              "    .dataframe tbody tr th:only-of-type {\n",
              "        vertical-align: middle;\n",
              "    }\n",
              "\n",
              "    .dataframe tbody tr th {\n",
              "        vertical-align: top;\n",
              "    }\n",
              "\n",
              "    .dataframe thead th {\n",
              "        text-align: right;\n",
              "    }\n",
              "</style>\n",
              "<table border=\"1\" class=\"dataframe\">\n",
              "  <thead>\n",
              "    <tr style=\"text-align: right;\">\n",
              "      <th></th>\n",
              "      <th>HeartDisease</th>\n",
              "      <th>BMI</th>\n",
              "      <th>Smoking</th>\n",
              "      <th>AlcoholDrinking</th>\n",
              "      <th>Stroke</th>\n",
              "      <th>PhysicalHealth</th>\n",
              "      <th>MentalHealth</th>\n",
              "      <th>DiffWalking</th>\n",
              "      <th>Sex</th>\n",
              "      <th>PhysicalActivity</th>\n",
              "      <th>SleepTime</th>\n",
              "      <th>Asthma</th>\n",
              "      <th>KidneyDisease</th>\n",
              "      <th>SkinCancer</th>\n",
              "      <th>AgeCategory_18-24</th>\n",
              "      <th>AgeCategory_25-29</th>\n",
              "      <th>AgeCategory_30-34</th>\n",
              "      <th>AgeCategory_35-39</th>\n",
              "      <th>AgeCategory_40-44</th>\n",
              "      <th>AgeCategory_45-49</th>\n",
              "      <th>AgeCategory_50-54</th>\n",
              "      <th>AgeCategory_55-59</th>\n",
              "      <th>AgeCategory_60-64</th>\n",
              "      <th>AgeCategory_65-69</th>\n",
              "      <th>AgeCategory_70-74</th>\n",
              "      <th>AgeCategory_75-79</th>\n",
              "      <th>AgeCategory_80 or older</th>\n",
              "      <th>Race_American Indian/Alaskan Native</th>\n",
              "      <th>Race_Asian</th>\n",
              "      <th>Race_Black</th>\n",
              "      <th>Race_Hispanic</th>\n",
              "      <th>Race_Other</th>\n",
              "      <th>Race_White</th>\n",
              "      <th>Diabetic_No</th>\n",
              "      <th>Diabetic_No, borderline diabetes</th>\n",
              "      <th>Diabetic_Yes</th>\n",
              "      <th>Diabetic_Yes (during pregnancy)</th>\n",
              "      <th>GenHealth_0</th>\n",
              "      <th>GenHealth_1</th>\n",
              "      <th>GenHealth_2</th>\n",
              "      <th>GenHealth_3</th>\n",
              "      <th>GenHealth_4</th>\n",
              "    </tr>\n",
              "  </thead>\n",
              "  <tbody>\n",
              "    <tr>\n",
              "      <th>129505</th>\n",
              "      <td>0</td>\n",
              "      <td>25.09</td>\n",
              "      <td>0</td>\n",
              "      <td>0</td>\n",
              "      <td>0</td>\n",
              "      <td>0</td>\n",
              "      <td>0</td>\n",
              "      <td>0</td>\n",
              "      <td>0</td>\n",
              "      <td>1</td>\n",
              "      <td>8</td>\n",
              "      <td>1</td>\n",
              "      <td>0</td>\n",
              "      <td>0</td>\n",
              "      <td>0</td>\n",
              "      <td>0</td>\n",
              "      <td>1</td>\n",
              "      <td>0</td>\n",
              "      <td>0</td>\n",
              "      <td>0</td>\n",
              "      <td>0</td>\n",
              "      <td>0</td>\n",
              "      <td>0</td>\n",
              "      <td>0</td>\n",
              "      <td>0</td>\n",
              "      <td>0</td>\n",
              "      <td>0</td>\n",
              "      <td>0</td>\n",
              "      <td>0</td>\n",
              "      <td>0</td>\n",
              "      <td>0</td>\n",
              "      <td>0</td>\n",
              "      <td>1</td>\n",
              "      <td>1</td>\n",
              "      <td>0</td>\n",
              "      <td>0</td>\n",
              "      <td>0</td>\n",
              "      <td>0</td>\n",
              "      <td>0</td>\n",
              "      <td>0</td>\n",
              "      <td>1</td>\n",
              "      <td>0</td>\n",
              "    </tr>\n",
              "    <tr>\n",
              "      <th>303556</th>\n",
              "      <td>0</td>\n",
              "      <td>32.78</td>\n",
              "      <td>1</td>\n",
              "      <td>0</td>\n",
              "      <td>0</td>\n",
              "      <td>0</td>\n",
              "      <td>0</td>\n",
              "      <td>1</td>\n",
              "      <td>0</td>\n",
              "      <td>1</td>\n",
              "      <td>7</td>\n",
              "      <td>0</td>\n",
              "      <td>0</td>\n",
              "      <td>0</td>\n",
              "      <td>0</td>\n",
              "      <td>0</td>\n",
              "      <td>0</td>\n",
              "      <td>0</td>\n",
              "      <td>0</td>\n",
              "      <td>0</td>\n",
              "      <td>0</td>\n",
              "      <td>0</td>\n",
              "      <td>1</td>\n",
              "      <td>0</td>\n",
              "      <td>0</td>\n",
              "      <td>0</td>\n",
              "      <td>0</td>\n",
              "      <td>0</td>\n",
              "      <td>0</td>\n",
              "      <td>0</td>\n",
              "      <td>0</td>\n",
              "      <td>0</td>\n",
              "      <td>1</td>\n",
              "      <td>1</td>\n",
              "      <td>0</td>\n",
              "      <td>0</td>\n",
              "      <td>0</td>\n",
              "      <td>0</td>\n",
              "      <td>0</td>\n",
              "      <td>1</td>\n",
              "      <td>0</td>\n",
              "      <td>0</td>\n",
              "    </tr>\n",
              "    <tr>\n",
              "      <th>212415</th>\n",
              "      <td>1</td>\n",
              "      <td>26.00</td>\n",
              "      <td>1</td>\n",
              "      <td>0</td>\n",
              "      <td>0</td>\n",
              "      <td>0</td>\n",
              "      <td>0</td>\n",
              "      <td>1</td>\n",
              "      <td>0</td>\n",
              "      <td>0</td>\n",
              "      <td>6</td>\n",
              "      <td>0</td>\n",
              "      <td>0</td>\n",
              "      <td>0</td>\n",
              "      <td>0</td>\n",
              "      <td>0</td>\n",
              "      <td>0</td>\n",
              "      <td>0</td>\n",
              "      <td>0</td>\n",
              "      <td>0</td>\n",
              "      <td>0</td>\n",
              "      <td>0</td>\n",
              "      <td>1</td>\n",
              "      <td>0</td>\n",
              "      <td>0</td>\n",
              "      <td>0</td>\n",
              "      <td>0</td>\n",
              "      <td>0</td>\n",
              "      <td>0</td>\n",
              "      <td>1</td>\n",
              "      <td>0</td>\n",
              "      <td>0</td>\n",
              "      <td>0</td>\n",
              "      <td>1</td>\n",
              "      <td>0</td>\n",
              "      <td>0</td>\n",
              "      <td>0</td>\n",
              "      <td>0</td>\n",
              "      <td>1</td>\n",
              "      <td>0</td>\n",
              "      <td>0</td>\n",
              "      <td>0</td>\n",
              "    </tr>\n",
              "    <tr>\n",
              "      <th>89120</th>\n",
              "      <td>0</td>\n",
              "      <td>24.89</td>\n",
              "      <td>0</td>\n",
              "      <td>0</td>\n",
              "      <td>0</td>\n",
              "      <td>0</td>\n",
              "      <td>7</td>\n",
              "      <td>0</td>\n",
              "      <td>1</td>\n",
              "      <td>1</td>\n",
              "      <td>8</td>\n",
              "      <td>0</td>\n",
              "      <td>0</td>\n",
              "      <td>0</td>\n",
              "      <td>1</td>\n",
              "      <td>0</td>\n",
              "      <td>0</td>\n",
              "      <td>0</td>\n",
              "      <td>0</td>\n",
              "      <td>0</td>\n",
              "      <td>0</td>\n",
              "      <td>0</td>\n",
              "      <td>0</td>\n",
              "      <td>0</td>\n",
              "      <td>0</td>\n",
              "      <td>0</td>\n",
              "      <td>0</td>\n",
              "      <td>0</td>\n",
              "      <td>0</td>\n",
              "      <td>0</td>\n",
              "      <td>1</td>\n",
              "      <td>0</td>\n",
              "      <td>0</td>\n",
              "      <td>1</td>\n",
              "      <td>0</td>\n",
              "      <td>0</td>\n",
              "      <td>0</td>\n",
              "      <td>0</td>\n",
              "      <td>0</td>\n",
              "      <td>0</td>\n",
              "      <td>0</td>\n",
              "      <td>1</td>\n",
              "    </tr>\n",
              "    <tr>\n",
              "      <th>47747</th>\n",
              "      <td>0</td>\n",
              "      <td>28.34</td>\n",
              "      <td>1</td>\n",
              "      <td>0</td>\n",
              "      <td>1</td>\n",
              "      <td>1</td>\n",
              "      <td>15</td>\n",
              "      <td>0</td>\n",
              "      <td>1</td>\n",
              "      <td>0</td>\n",
              "      <td>10</td>\n",
              "      <td>0</td>\n",
              "      <td>0</td>\n",
              "      <td>0</td>\n",
              "      <td>0</td>\n",
              "      <td>0</td>\n",
              "      <td>0</td>\n",
              "      <td>0</td>\n",
              "      <td>0</td>\n",
              "      <td>0</td>\n",
              "      <td>0</td>\n",
              "      <td>0</td>\n",
              "      <td>0</td>\n",
              "      <td>1</td>\n",
              "      <td>0</td>\n",
              "      <td>0</td>\n",
              "      <td>0</td>\n",
              "      <td>0</td>\n",
              "      <td>0</td>\n",
              "      <td>0</td>\n",
              "      <td>0</td>\n",
              "      <td>0</td>\n",
              "      <td>1</td>\n",
              "      <td>0</td>\n",
              "      <td>0</td>\n",
              "      <td>1</td>\n",
              "      <td>0</td>\n",
              "      <td>0</td>\n",
              "      <td>1</td>\n",
              "      <td>0</td>\n",
              "      <td>0</td>\n",
              "      <td>0</td>\n",
              "    </tr>\n",
              "  </tbody>\n",
              "</table>\n",
              "</div>"
            ],
            "text/plain": [
              "        HeartDisease    BMI  Smoking  AlcoholDrinking  Stroke  PhysicalHealth  \\\n",
              "129505             0  25.09        0                0       0               0   \n",
              "303556             0  32.78        1                0       0               0   \n",
              "212415             1  26.00        1                0       0               0   \n",
              "89120              0  24.89        0                0       0               0   \n",
              "47747              0  28.34        1                0       1               1   \n",
              "\n",
              "        MentalHealth  DiffWalking  Sex  PhysicalActivity  SleepTime  Asthma  \\\n",
              "129505             0            0    0                 1          8       1   \n",
              "303556             0            1    0                 1          7       0   \n",
              "212415             0            1    0                 0          6       0   \n",
              "89120              7            0    1                 1          8       0   \n",
              "47747             15            0    1                 0         10       0   \n",
              "\n",
              "        KidneyDisease  SkinCancer  AgeCategory_18-24  AgeCategory_25-29  \\\n",
              "129505              0           0                  0                  0   \n",
              "303556              0           0                  0                  0   \n",
              "212415              0           0                  0                  0   \n",
              "89120               0           0                  1                  0   \n",
              "47747               0           0                  0                  0   \n",
              "\n",
              "        AgeCategory_30-34  AgeCategory_35-39  AgeCategory_40-44  \\\n",
              "129505                  1                  0                  0   \n",
              "303556                  0                  0                  0   \n",
              "212415                  0                  0                  0   \n",
              "89120                   0                  0                  0   \n",
              "47747                   0                  0                  0   \n",
              "\n",
              "        AgeCategory_45-49  AgeCategory_50-54  AgeCategory_55-59  \\\n",
              "129505                  0                  0                  0   \n",
              "303556                  0                  0                  0   \n",
              "212415                  0                  0                  0   \n",
              "89120                   0                  0                  0   \n",
              "47747                   0                  0                  0   \n",
              "\n",
              "        AgeCategory_60-64  AgeCategory_65-69  AgeCategory_70-74  \\\n",
              "129505                  0                  0                  0   \n",
              "303556                  1                  0                  0   \n",
              "212415                  1                  0                  0   \n",
              "89120                   0                  0                  0   \n",
              "47747                   0                  1                  0   \n",
              "\n",
              "        AgeCategory_75-79  AgeCategory_80 or older  \\\n",
              "129505                  0                        0   \n",
              "303556                  0                        0   \n",
              "212415                  0                        0   \n",
              "89120                   0                        0   \n",
              "47747                   0                        0   \n",
              "\n",
              "        Race_American Indian/Alaskan Native  Race_Asian  Race_Black  \\\n",
              "129505                                    0           0           0   \n",
              "303556                                    0           0           0   \n",
              "212415                                    0           0           1   \n",
              "89120                                     0           0           0   \n",
              "47747                                     0           0           0   \n",
              "\n",
              "        Race_Hispanic  Race_Other  Race_White  Diabetic_No  \\\n",
              "129505              0           0           1            1   \n",
              "303556              0           0           1            1   \n",
              "212415              0           0           0            1   \n",
              "89120               1           0           0            1   \n",
              "47747               0           0           1            0   \n",
              "\n",
              "        Diabetic_No, borderline diabetes  Diabetic_Yes  \\\n",
              "129505                                 0             0   \n",
              "303556                                 0             0   \n",
              "212415                                 0             0   \n",
              "89120                                  0             0   \n",
              "47747                                  0             1   \n",
              "\n",
              "        Diabetic_Yes (during pregnancy)  GenHealth_0  GenHealth_1  \\\n",
              "129505                                0            0            0   \n",
              "303556                                0            0            0   \n",
              "212415                                0            0            1   \n",
              "89120                                 0            0            0   \n",
              "47747                                 0            0            1   \n",
              "\n",
              "        GenHealth_2  GenHealth_3  GenHealth_4  \n",
              "129505            0            1            0  \n",
              "303556            1            0            0  \n",
              "212415            0            0            0  \n",
              "89120             0            0            1  \n",
              "47747             0            0            0  "
            ]
          },
          "execution_count": 78,
          "metadata": {},
          "output_type": "execute_result"
        }
      ],
      "source": [
        "# 2024-07-01 AGM Convertimos de Float a int todas las columnas excepto BMI.\n",
        "\n",
        "for column in df_ml.columns:\n",
        "    if column != 'BMI':\n",
        "        df_ml[column] = df_ml[column].astype(int)\n",
        "\n",
        "df_ml.sample(5)"
      ]
    },
    {
      "cell_type": "code",
      "execution_count": null,
      "metadata": {
        "id": "I92ujxdjVts-"
      },
      "outputs": [],
      "source": [
        "# 2024-07-01 AGM Variable a predecir (Target): HeartDisease\n",
        "\n",
        "df_ml_copy = df_ml.copy()\n",
        "\n",
        "X = df_ml_copy.drop('HeartDisease', axis = 1)\n",
        "y = df_ml_copy['HeartDisease']"
      ]
    },
    {
      "cell_type": "code",
      "execution_count": null,
      "metadata": {
        "id": "u_vUmjxmhXfs"
      },
      "outputs": [],
      "source": [
        "# 2024-07-01 AGM\n",
        "\n",
        "X_train, X_test, y_train, y_test = train_test_split(X, y, test_size = 0.20, random_state = 42)"
      ]
    },
    {
      "cell_type": "code",
      "execution_count": null,
      "metadata": {
        "id": "SdsyLIQEhuKW"
      },
      "outputs": [],
      "source": [
        "# 2024-07-01 AGM Usamos de normalizador el MinMaxScaler. Se puede probar con varios.\n",
        "\n",
        "scaler = MinMaxScaler()\n",
        "\n",
        "X_train = scaler.fit_transform(X_train)\n",
        "X_test = scaler.transform(X_test)"
      ]
    },
    {
      "cell_type": "code",
      "execution_count": null,
      "metadata": {
        "colab": {
          "base_uri": "https://localhost:8080/"
        },
        "id": "Z9F0ZWR4iDlb",
        "outputId": "c98f5fde-2886-428c-e7e4-a960ca45c02d"
      },
      "outputs": [
        {
          "name": "stdout",
          "output_type": "stream",
          "text": [
            "Regresión logística: \n",
            "accuracy: 0.9138666958520302\n",
            "[[57890   477]\n",
            " [ 5032   560]]\n",
            "Árbol de decisión: \n",
            "accuracy: 0.8634906737128473\n",
            "[[53816  4551]\n",
            " [ 4180  1412]]\n",
            "Random forest: \n",
            "accuracy: 0.9026876592817273\n",
            "[[57064  1303]\n",
            " [ 4921   671]]\n",
            "Gradient boosting: \n",
            "accuracy: 0.9140230460138526\n",
            "[[57963   404]\n",
            " [ 5095   497]]\n",
            "Adaboost: \n",
            "accuracy: 0.9136321706092966\n",
            "[[57801   566]\n",
            " [ 4958   634]]\n",
            "KNN: \n",
            "accuracy: 0.9054237871136197\n",
            "[[57191  1176]\n",
            " [ 4873   719]]\n",
            "Gaussian NB: \n",
            "accuracy: 0.7119248268421958\n",
            "[[41158 17209]\n",
            " [ 1216  4376]]\n",
            "LDA: \n",
            "accuracy: 0.9055957722916244\n",
            "[[56561  1806]\n",
            " [ 4232  1360]]\n",
            "QDA: \n",
            "accuracy: 0.66550446379712\n",
            "[[38086 20281]\n",
            " [ 1113  4479]]\n"
          ]
        },
        {
          "name": "stderr",
          "output_type": "stream",
          "text": [
            "/usr/local/lib/python3.10/dist-packages/sklearn/discriminant_analysis.py:926: UserWarning: Variables are collinear\n",
            "  warnings.warn(\"Variables are collinear\")\n"
          ]
        }
      ],
      "source": [
        "# # 2024-07-01 AGM Modelos candidatos: añadir mas opciones luego.\n",
        "\n",
        "# candidate_models = {'Regresión logística', LogisticRegression(max_iter = 1000),\n",
        "#                     'Árbol de decisión', DecisionTreeClassifier(),\n",
        "#                     'Random forest', RandomForestClassifier(),\n",
        "#                     'Gradient boosting', GradientBoostingClassifier(),\n",
        "#                     'Adaboost', AdaBoostClassifier(),\n",
        "#                     'KNN', KNeighborsClassifier(),\n",
        "#                     'Gaussian NB', GaussianNB(),\n",
        "#                     'LDA', LinearDiscriminantAnalysis(),\n",
        "#                     'QDA', QuadraticDiscriminantAnalysis()}\n",
        "\n",
        "# # Quito 'SVM': SVC() del diccionario porque tarda mucho (222 minutos).\n",
        "# for name, model in candidate_models.items():\n",
        "#     model.fit(X_train, y_train)\n",
        "#     y_predict = model.predict(X_test)\n",
        "#     accuracy = accuracy_score(y_test, y_predict)\n",
        "#     print(f'{name}: \\naccuracy: {accuracy}')\n",
        "#     print(f\"ROC AUC Score: {roc_auc_score(y_test, y_prob)}\\n\")\n",
        "#     print(confusion_matrix(y_test, y_predict))"
      ]
    },
    {
      "cell_type": "code",
      "execution_count": null,
      "metadata": {
        "id": "GIfsa7fJzZLf"
      },
      "outputs": [],
      "source": [
        "# Función para entrenar y evaluar un modelo\n",
        "def func_train_and_evaluate_model(modelo, nombre_modelo):\n",
        "    modelo.fit(X_train, y_train)\n",
        "    y_predict = modelo.predict(X_test)\n",
        "    y_prob = modelo.predict_proba(X_test)[:, 1] if hasattr(modelo, 'predict_proba') else modelo.decision_function(X_test)\n",
        "\n",
        "    print(f'Resultados para {nombre_modelo}:\\n')\n",
        "    print(confusion_matrix(y_test, y_predict))\n",
        "    print(classification_report(y_test, y_predict))\n",
        "    print(f'ROC AUC Score: {roc_auc_score(y_test, y_prob)}\\n')\n",
        "    print('-' * 60)\n",
        "\n",
        "modelos = [(LogisticRegression(max_iter = 1000), 'Regresión logística'),\n",
        "           (DecisionTreeClassifier(), 'Árbol de decisión'),\n",
        "           (RandomForestClassifier(), 'Random forest'),\n",
        "           (GradientBoostingClassifier(), 'Gradient boosting'),\n",
        "           (AdaBoostClassifier(), 'Adaboost'),\n",
        "           (KNeighborsClassifier(), 'KNN'),\n",
        "           (GaussianNB(), 'Gaussian NB'),\n",
        "           (LinearDiscriminantAnalysis(), 'LDA'),\n",
        "           (QuadraticDiscriminantAnalysis(), 'QDA')]"
      ]
    },
    {
      "cell_type": "code",
      "execution_count": null,
      "metadata": {
        "colab": {
          "base_uri": "https://localhost:8080/"
        },
        "id": "bXS14bsr0gTU",
        "outputId": "d93cb188-61a6-411f-8977-211497b4fea4"
      },
      "outputs": [
        {
          "name": "stdout",
          "output_type": "stream",
          "text": [
            "Resultados para Regresión logística:\n",
            "\n",
            "[[57890   477]\n",
            " [ 5032   560]]\n",
            "              precision    recall  f1-score   support\n",
            "\n",
            "           0       0.92      0.99      0.95     58367\n",
            "           1       0.54      0.10      0.17      5592\n",
            "\n",
            "    accuracy                           0.91     63959\n",
            "   macro avg       0.73      0.55      0.56     63959\n",
            "weighted avg       0.89      0.91      0.89     63959\n",
            "\n",
            "ROC AUC Score: 0.8364465074638836\n",
            "\n",
            "------------------------------------------------------------\n",
            "Resultados para Árbol de decisión:\n",
            "\n",
            "[[53830  4537]\n",
            " [ 4183  1409]]\n",
            "              precision    recall  f1-score   support\n",
            "\n",
            "           0       0.93      0.92      0.93     58367\n",
            "           1       0.24      0.25      0.24      5592\n",
            "\n",
            "    accuracy                           0.86     63959\n",
            "   macro avg       0.58      0.59      0.58     63959\n",
            "weighted avg       0.87      0.86      0.87     63959\n",
            "\n",
            "ROC AUC Score: 0.588062092514454\n",
            "\n",
            "------------------------------------------------------------\n",
            "Resultados para Random forest:\n",
            "\n",
            "[[57071  1296]\n",
            " [ 4910   682]]\n",
            "              precision    recall  f1-score   support\n",
            "\n",
            "           0       0.92      0.98      0.95     58367\n",
            "           1       0.34      0.12      0.18      5592\n",
            "\n",
            "    accuracy                           0.90     63959\n",
            "   macro avg       0.63      0.55      0.56     63959\n",
            "weighted avg       0.87      0.90      0.88     63959\n",
            "\n",
            "ROC AUC Score: 0.7828959683427833\n",
            "\n",
            "------------------------------------------------------------\n",
            "Resultados para Gradient boosting:\n",
            "\n",
            "[[57963   404]\n",
            " [ 5095   497]]\n",
            "              precision    recall  f1-score   support\n",
            "\n",
            "           0       0.92      0.99      0.95     58367\n",
            "           1       0.55      0.09      0.15      5592\n",
            "\n",
            "    accuracy                           0.91     63959\n",
            "   macro avg       0.74      0.54      0.55     63959\n",
            "weighted avg       0.89      0.91      0.88     63959\n",
            "\n",
            "ROC AUC Score: 0.8380146735300507\n",
            "\n",
            "------------------------------------------------------------\n",
            "Resultados para Adaboost:\n",
            "\n",
            "[[57801   566]\n",
            " [ 4958   634]]\n",
            "              precision    recall  f1-score   support\n",
            "\n",
            "           0       0.92      0.99      0.95     58367\n",
            "           1       0.53      0.11      0.19      5592\n",
            "\n",
            "    accuracy                           0.91     63959\n",
            "   macro avg       0.72      0.55      0.57     63959\n",
            "weighted avg       0.89      0.91      0.89     63959\n",
            "\n",
            "ROC AUC Score: 0.8366114965457214\n",
            "\n",
            "------------------------------------------------------------\n",
            "Resultados para KNN:\n",
            "\n",
            "[[57191  1176]\n",
            " [ 4873   719]]\n",
            "              precision    recall  f1-score   support\n",
            "\n",
            "           0       0.92      0.98      0.95     58367\n",
            "           1       0.38      0.13      0.19      5592\n",
            "\n",
            "    accuracy                           0.91     63959\n",
            "   macro avg       0.65      0.55      0.57     63959\n",
            "weighted avg       0.87      0.91      0.88     63959\n",
            "\n",
            "ROC AUC Score: 0.703374207413291\n",
            "\n",
            "------------------------------------------------------------\n",
            "Resultados para Gaussian NB:\n",
            "\n",
            "[[41158 17209]\n",
            " [ 1216  4376]]\n",
            "              precision    recall  f1-score   support\n",
            "\n",
            "           0       0.97      0.71      0.82     58367\n",
            "           1       0.20      0.78      0.32      5592\n",
            "\n",
            "    accuracy                           0.71     63959\n",
            "   macro avg       0.59      0.74      0.57     63959\n",
            "weighted avg       0.90      0.71      0.77     63959\n",
            "\n",
            "ROC AUC Score: 0.8138788715760932\n",
            "\n",
            "------------------------------------------------------------\n",
            "Resultados para LDA:\n",
            "\n",
            "[[56561  1806]\n",
            " [ 4232  1360]]\n",
            "              precision    recall  f1-score   support\n",
            "\n",
            "           0       0.93      0.97      0.95     58367\n",
            "           1       0.43      0.24      0.31      5592\n",
            "\n",
            "    accuracy                           0.91     63959\n",
            "   macro avg       0.68      0.61      0.63     63959\n",
            "weighted avg       0.89      0.91      0.89     63959\n",
            "\n",
            "ROC AUC Score: 0.8310869029898698\n",
            "\n",
            "------------------------------------------------------------\n"
          ]
        },
        {
          "name": "stderr",
          "output_type": "stream",
          "text": [
            "/usr/local/lib/python3.10/dist-packages/sklearn/discriminant_analysis.py:926: UserWarning: Variables are collinear\n",
            "  warnings.warn(\"Variables are collinear\")\n"
          ]
        },
        {
          "name": "stdout",
          "output_type": "stream",
          "text": [
            "Resultados para QDA:\n",
            "\n",
            "[[38086 20281]\n",
            " [ 1113  4479]]\n",
            "              precision    recall  f1-score   support\n",
            "\n",
            "           0       0.97      0.65      0.78     58367\n",
            "           1       0.18      0.80      0.30      5592\n",
            "\n",
            "    accuracy                           0.67     63959\n",
            "   macro avg       0.58      0.73      0.54     63959\n",
            "weighted avg       0.90      0.67      0.74     63959\n",
            "\n",
            "ROC AUC Score: 0.7981658479607587\n",
            "\n",
            "------------------------------------------------------------\n"
          ]
        }
      ],
      "source": [
        "# Entrenamiento y evaluación de los modelos\n",
        "for modelo, nombre in modelos:\n",
        "    func_train_and_evaluate_model(modelo, nombre)\n",
        "\n",
        "  # Crear dataframe con los datos"
      ]
    },
    {
      "cell_type": "markdown",
      "metadata": {
        "id": "k7TsCuzOGuCf"
      },
      "source": [
        "### Conclusiones\n",
        "\n",
        "El modelo de **Gradient Boosting** y **Regresión Logística** han mostrado el mejor rendimiento global en términos de precisión, recall y ROC AUC Score. Ambos tienen una precisión en clase 0 (no enfermo) muy alta, pero una precisión y recall más bajos en la clase 1 (enfermo)."
      ]
    },
    {
      "cell_type": "markdown",
      "metadata": {
        "id": "2OI1JyUC12Rk"
      },
      "source": [
        "# Evalución con RandomForest y GradientBoosting"
      ]
    },
    {
      "cell_type": "code",
      "execution_count": null,
      "metadata": {
        "colab": {
          "base_uri": "https://localhost:8080/",
          "height": 375
        },
        "id": "hrJiRlAVm4yz",
        "outputId": "88d9870c-5058-4434-9213-aada8d07edfe"
      },
      "outputs": [
        {
          "ename": "KeyboardInterrupt",
          "evalue": "",
          "output_type": "error",
          "traceback": [
            "\u001b[0;31m---------------------------------------------------------------------------\u001b[0m",
            "\u001b[0;31mKeyboardInterrupt\u001b[0m                         Traceback (most recent call last)",
            "\u001b[0;32m<ipython-input-27-28d278db584b>\u001b[0m in \u001b[0;36m<cell line: 15>\u001b[0;34m()\u001b[0m\n\u001b[1;32m     13\u001b[0m \u001b[0mgrid_search_random_forest\u001b[0m \u001b[0;34m=\u001b[0m \u001b[0mGridSearchCV\u001b[0m\u001b[0;34m(\u001b[0m\u001b[0mRandomForestClassifier\u001b[0m\u001b[0;34m(\u001b[0m\u001b[0mrandom_state\u001b[0m \u001b[0;34m=\u001b[0m \u001b[0;36m42\u001b[0m\u001b[0;34m)\u001b[0m\u001b[0;34m,\u001b[0m \u001b[0mparam_grid_random_forest\u001b[0m\u001b[0;34m,\u001b[0m \u001b[0mcv\u001b[0m \u001b[0;34m=\u001b[0m \u001b[0;36m5\u001b[0m\u001b[0;34m,\u001b[0m \u001b[0mn_jobs\u001b[0m \u001b[0;34m=\u001b[0m \u001b[0;34m-\u001b[0m\u001b[0;36m1\u001b[0m\u001b[0;34m,\u001b[0m \u001b[0mscoring\u001b[0m \u001b[0;34m=\u001b[0m \u001b[0;34m'roc_auc'\u001b[0m\u001b[0;34m)\u001b[0m\u001b[0;34m\u001b[0m\u001b[0;34m\u001b[0m\u001b[0m\n\u001b[1;32m     14\u001b[0m \u001b[0;34m\u001b[0m\u001b[0m\n\u001b[0;32m---> 15\u001b[0;31m \u001b[0mgrid_search_random_forest\u001b[0m\u001b[0;34m.\u001b[0m\u001b[0mfit\u001b[0m\u001b[0;34m(\u001b[0m\u001b[0mX_train\u001b[0m\u001b[0;34m,\u001b[0m \u001b[0my_train\u001b[0m\u001b[0;34m)\u001b[0m\u001b[0;34m\u001b[0m\u001b[0;34m\u001b[0m\u001b[0m\n\u001b[0m\u001b[1;32m     16\u001b[0m \u001b[0;34m\u001b[0m\u001b[0m\n\u001b[1;32m     17\u001b[0m \u001b[0mprint\u001b[0m\u001b[0;34m(\u001b[0m\u001b[0;34mf'Mejores parámetros para Random Forest: {grid_search_random_forest.best_params_}'\u001b[0m\u001b[0;34m)\u001b[0m\u001b[0;34m\u001b[0m\u001b[0;34m\u001b[0m\u001b[0m\n",
            "\u001b[0;32m/usr/local/lib/python3.10/dist-packages/sklearn/model_selection/_search.py\u001b[0m in \u001b[0;36mfit\u001b[0;34m(self, X, y, groups, **fit_params)\u001b[0m\n\u001b[1;32m    872\u001b[0m                 \u001b[0;32mreturn\u001b[0m \u001b[0mresults\u001b[0m\u001b[0;34m\u001b[0m\u001b[0;34m\u001b[0m\u001b[0m\n\u001b[1;32m    873\u001b[0m \u001b[0;34m\u001b[0m\u001b[0m\n\u001b[0;32m--> 874\u001b[0;31m             \u001b[0mself\u001b[0m\u001b[0;34m.\u001b[0m\u001b[0m_run_search\u001b[0m\u001b[0;34m(\u001b[0m\u001b[0mevaluate_candidates\u001b[0m\u001b[0;34m)\u001b[0m\u001b[0;34m\u001b[0m\u001b[0;34m\u001b[0m\u001b[0m\n\u001b[0m\u001b[1;32m    875\u001b[0m \u001b[0;34m\u001b[0m\u001b[0m\n\u001b[1;32m    876\u001b[0m             \u001b[0;31m# multimetric is determined here because in the case of a callable\u001b[0m\u001b[0;34m\u001b[0m\u001b[0;34m\u001b[0m\u001b[0m\n",
            "\u001b[0;32m/usr/local/lib/python3.10/dist-packages/sklearn/model_selection/_search.py\u001b[0m in \u001b[0;36m_run_search\u001b[0;34m(self, evaluate_candidates)\u001b[0m\n\u001b[1;32m   1386\u001b[0m     \u001b[0;32mdef\u001b[0m \u001b[0m_run_search\u001b[0m\u001b[0;34m(\u001b[0m\u001b[0mself\u001b[0m\u001b[0;34m,\u001b[0m \u001b[0mevaluate_candidates\u001b[0m\u001b[0;34m)\u001b[0m\u001b[0;34m:\u001b[0m\u001b[0;34m\u001b[0m\u001b[0;34m\u001b[0m\u001b[0m\n\u001b[1;32m   1387\u001b[0m         \u001b[0;34m\"\"\"Search all candidates in param_grid\"\"\"\u001b[0m\u001b[0;34m\u001b[0m\u001b[0;34m\u001b[0m\u001b[0m\n\u001b[0;32m-> 1388\u001b[0;31m         \u001b[0mevaluate_candidates\u001b[0m\u001b[0;34m(\u001b[0m\u001b[0mParameterGrid\u001b[0m\u001b[0;34m(\u001b[0m\u001b[0mself\u001b[0m\u001b[0;34m.\u001b[0m\u001b[0mparam_grid\u001b[0m\u001b[0;34m)\u001b[0m\u001b[0;34m)\u001b[0m\u001b[0;34m\u001b[0m\u001b[0;34m\u001b[0m\u001b[0m\n\u001b[0m\u001b[1;32m   1389\u001b[0m \u001b[0;34m\u001b[0m\u001b[0m\n\u001b[1;32m   1390\u001b[0m \u001b[0;34m\u001b[0m\u001b[0m\n",
            "\u001b[0;32m/usr/local/lib/python3.10/dist-packages/sklearn/model_selection/_search.py\u001b[0m in \u001b[0;36mevaluate_candidates\u001b[0;34m(candidate_params, cv, more_results)\u001b[0m\n\u001b[1;32m    819\u001b[0m                     )\n\u001b[1;32m    820\u001b[0m \u001b[0;34m\u001b[0m\u001b[0m\n\u001b[0;32m--> 821\u001b[0;31m                 out = parallel(\n\u001b[0m\u001b[1;32m    822\u001b[0m                     delayed(_fit_and_score)(\n\u001b[1;32m    823\u001b[0m                         \u001b[0mclone\u001b[0m\u001b[0;34m(\u001b[0m\u001b[0mbase_estimator\u001b[0m\u001b[0;34m)\u001b[0m\u001b[0;34m,\u001b[0m\u001b[0;34m\u001b[0m\u001b[0;34m\u001b[0m\u001b[0m\n",
            "\u001b[0;32m/usr/local/lib/python3.10/dist-packages/sklearn/utils/parallel.py\u001b[0m in \u001b[0;36m__call__\u001b[0;34m(self, iterable)\u001b[0m\n\u001b[1;32m     61\u001b[0m             \u001b[0;32mfor\u001b[0m \u001b[0mdelayed_func\u001b[0m\u001b[0;34m,\u001b[0m \u001b[0margs\u001b[0m\u001b[0;34m,\u001b[0m \u001b[0mkwargs\u001b[0m \u001b[0;32min\u001b[0m \u001b[0miterable\u001b[0m\u001b[0;34m\u001b[0m\u001b[0;34m\u001b[0m\u001b[0m\n\u001b[1;32m     62\u001b[0m         )\n\u001b[0;32m---> 63\u001b[0;31m         \u001b[0;32mreturn\u001b[0m \u001b[0msuper\u001b[0m\u001b[0;34m(\u001b[0m\u001b[0;34m)\u001b[0m\u001b[0;34m.\u001b[0m\u001b[0m__call__\u001b[0m\u001b[0;34m(\u001b[0m\u001b[0miterable_with_config\u001b[0m\u001b[0;34m)\u001b[0m\u001b[0;34m\u001b[0m\u001b[0;34m\u001b[0m\u001b[0m\n\u001b[0m\u001b[1;32m     64\u001b[0m \u001b[0;34m\u001b[0m\u001b[0m\n\u001b[1;32m     65\u001b[0m \u001b[0;34m\u001b[0m\u001b[0m\n",
            "\u001b[0;32m/usr/local/lib/python3.10/dist-packages/joblib/parallel.py\u001b[0m in \u001b[0;36m__call__\u001b[0;34m(self, iterable)\u001b[0m\n\u001b[1;32m   2005\u001b[0m         \u001b[0mnext\u001b[0m\u001b[0;34m(\u001b[0m\u001b[0moutput\u001b[0m\u001b[0;34m)\u001b[0m\u001b[0;34m\u001b[0m\u001b[0;34m\u001b[0m\u001b[0m\n\u001b[1;32m   2006\u001b[0m \u001b[0;34m\u001b[0m\u001b[0m\n\u001b[0;32m-> 2007\u001b[0;31m         \u001b[0;32mreturn\u001b[0m \u001b[0moutput\u001b[0m \u001b[0;32mif\u001b[0m \u001b[0mself\u001b[0m\u001b[0;34m.\u001b[0m\u001b[0mreturn_generator\u001b[0m \u001b[0;32melse\u001b[0m \u001b[0mlist\u001b[0m\u001b[0;34m(\u001b[0m\u001b[0moutput\u001b[0m\u001b[0;34m)\u001b[0m\u001b[0;34m\u001b[0m\u001b[0;34m\u001b[0m\u001b[0m\n\u001b[0m\u001b[1;32m   2008\u001b[0m \u001b[0;34m\u001b[0m\u001b[0m\n\u001b[1;32m   2009\u001b[0m     \u001b[0;32mdef\u001b[0m \u001b[0m__repr__\u001b[0m\u001b[0;34m(\u001b[0m\u001b[0mself\u001b[0m\u001b[0;34m)\u001b[0m\u001b[0;34m:\u001b[0m\u001b[0;34m\u001b[0m\u001b[0;34m\u001b[0m\u001b[0m\n",
            "\u001b[0;32m/usr/local/lib/python3.10/dist-packages/joblib/parallel.py\u001b[0m in \u001b[0;36m_get_outputs\u001b[0;34m(self, iterator, pre_dispatch)\u001b[0m\n\u001b[1;32m   1648\u001b[0m \u001b[0;34m\u001b[0m\u001b[0m\n\u001b[1;32m   1649\u001b[0m             \u001b[0;32mwith\u001b[0m \u001b[0mself\u001b[0m\u001b[0;34m.\u001b[0m\u001b[0m_backend\u001b[0m\u001b[0;34m.\u001b[0m\u001b[0mretrieval_context\u001b[0m\u001b[0;34m(\u001b[0m\u001b[0;34m)\u001b[0m\u001b[0;34m:\u001b[0m\u001b[0;34m\u001b[0m\u001b[0;34m\u001b[0m\u001b[0m\n\u001b[0;32m-> 1650\u001b[0;31m                 \u001b[0;32myield\u001b[0m \u001b[0;32mfrom\u001b[0m \u001b[0mself\u001b[0m\u001b[0;34m.\u001b[0m\u001b[0m_retrieve\u001b[0m\u001b[0;34m(\u001b[0m\u001b[0;34m)\u001b[0m\u001b[0;34m\u001b[0m\u001b[0;34m\u001b[0m\u001b[0m\n\u001b[0m\u001b[1;32m   1651\u001b[0m \u001b[0;34m\u001b[0m\u001b[0m\n\u001b[1;32m   1652\u001b[0m         \u001b[0;32mexcept\u001b[0m \u001b[0mGeneratorExit\u001b[0m\u001b[0;34m:\u001b[0m\u001b[0;34m\u001b[0m\u001b[0;34m\u001b[0m\u001b[0m\n",
            "\u001b[0;32m/usr/local/lib/python3.10/dist-packages/joblib/parallel.py\u001b[0m in \u001b[0;36m_retrieve\u001b[0;34m(self)\u001b[0m\n\u001b[1;32m   1760\u001b[0m                 (self._jobs[0].get_status(\n\u001b[1;32m   1761\u001b[0m                     timeout=self.timeout) == TASK_PENDING)):\n\u001b[0;32m-> 1762\u001b[0;31m                 \u001b[0mtime\u001b[0m\u001b[0;34m.\u001b[0m\u001b[0msleep\u001b[0m\u001b[0;34m(\u001b[0m\u001b[0;36m0.01\u001b[0m\u001b[0;34m)\u001b[0m\u001b[0;34m\u001b[0m\u001b[0;34m\u001b[0m\u001b[0m\n\u001b[0m\u001b[1;32m   1763\u001b[0m                 \u001b[0;32mcontinue\u001b[0m\u001b[0;34m\u001b[0m\u001b[0;34m\u001b[0m\u001b[0m\n\u001b[1;32m   1764\u001b[0m \u001b[0;34m\u001b[0m\u001b[0m\n",
            "\u001b[0;31mKeyboardInterrupt\u001b[0m: "
          ]
        }
      ],
      "source": [
        "# TARDA  MINUTOS\n",
        "\n",
        "# Validación Cruzada y Ajuste de Hiperparámetros para Random Forest\n",
        "\n",
        "# Definir el conjunto de hiperparámetros para Random Forest\n",
        "param_grid_random_forest = {\n",
        "    'n_estimators': [50, 100, 200, 250],\n",
        "    'max_depth': [None, 10, 20, 30],\n",
        "    'min_samples_leaf': [1, 2, 4],\n",
        "    'criterion': ['gini', 'entropy'],\n",
        "    'max_features': ['auto', 'sqrt', 'log2']\n",
        "}\n",
        "\n",
        "grid_search_random_forest = GridSearchCV(RandomForestClassifier(random_state = 42), param_grid_random_forest, cv = 5, n_jobs = -1, scoring = 'roc_auc')\n",
        "\n",
        "grid_search_random_forest.fit(X_train, y_train)\n",
        "\n",
        "print(f'Mejores parámetros para Random Forest: {grid_search_random_forest.best_params_}')\n",
        "\n",
        "# Evaluación\n",
        "best_random_forest = grid_search_random_forest.best_estimator_\n",
        "func_train_and_evaluate_model(best_random_forest, 'Random Forest con ajuste de hiperparámetros')"
      ]
    },
    {
      "cell_type": "code",
      "execution_count": null,
      "metadata": {
        "id": "Qj9_x5uOnF7h"
      },
      "outputs": [],
      "source": [
        "# TARDA  MINUTOS\n",
        "\n",
        "# Validación Cruzada y Ajuste de Hiperparámetros para Gradient Boosting\n",
        "\n",
        "# Definir el conjunto de hiperparámetros para Gradient Boosting\n",
        "param_grid_gradient_boosting = {\n",
        "    'n_estimators': [50, 100, 200, 250],\n",
        "    'learning_rate': [0.001, 0.01, 0.1],\n",
        "    'max_depth': [3, 5, 7],\n",
        "    'max_features': ['sqrt', 'log2', None]\n",
        "}\n",
        "\n",
        "grid_search_gradient_boosting = GridSearchCV(GradientBoostingClassifier(random_state = 42), param_grid_gradient_boosting, cv = 5, n_jobs = -1, scoring = 'roc_auc')\n",
        "\n",
        "grid_search_gradient_boosting.fit(X_train, y_train)\n",
        "\n",
        "print(f'Mejores parámetros para Gradient Boosting: {grid_search_gradient_boosting.best_params_}')\n",
        "\n",
        "# Evaluación\n",
        "best_gradient_boosting = grid_search_gradient_boosting.best_estimator_\n",
        "func_train_and_evaluate_model(best_gradient_boosting, 'Gradient Boosting con ajuste de hiperparámetros')"
      ]
    },
    {
      "cell_type": "markdown",
      "metadata": {
        "id": "8ZbkXOSr3irf"
      },
      "source": [
        "Gradient Boosting parece ofrecer un mejor rendimiento general en términos de precisión, recall y F1-score para la clase positiva (casos de enfermedad cardíaca) en comparación con Random Forest\n"
      ]
    },
    {
      "cell_type": "markdown",
      "metadata": {
        "id": "otarrRqz4LIz"
      },
      "source": [
        "# Ajuste del Umbral de Decisión"
      ]
    },
    {
      "cell_type": "code",
      "execution_count": null,
      "metadata": {
        "id": "A7IuGERSyIU8"
      },
      "outputs": [],
      "source": [
        "from sklearn.model_selection import GridSearchCV\n",
        "from sklearn.ensemble import GradientBoostingClassifier\n",
        "\n",
        "gradient_boosting = GradientBoostingClassifier(random_state = 42)\n",
        "\n",
        "# Parámetros ajustados\n",
        "param_grid = {\n",
        "    'n_estimators': [50, 100, 200, 250],\n",
        "    'learning_rate': [0.001, 0.01, 0.1],\n",
        "    'max_depth': [3, 5, 7],\n",
        "    'max_features': ['sqrt', 'log2', None]\n",
        "}\n",
        "\n",
        "# Configurar GridSearchCV\n",
        "grid_search = GridSearchCV(estimator = gradient_boosting, param_grid = param_grid, scoring = 'roc_auc', cv = 5, verbose = 1, n_jobs = -1)\n",
        "\n",
        "grid_search.fit(X, y)\n",
        "\n",
        "# Mejores parámetros y score\n",
        "print('Mejores parámetros encontrados:')\n",
        "print(grid_search.best_params_)\n",
        "print()\n",
        "print(f'Mejor ROC AUC score encontrado: {grid_search.best_score_:.4f}')"
      ]
    },
    {
      "cell_type": "markdown",
      "metadata": {
        "id": "uY1i81va4882"
      },
      "source": [
        "Después de realizar el ajuste de hiperparámetros utilizando Grid Search Cross-Validation, encontramos que el mejor modelo Gradient Boosting Classifier tiene los siguientes parámetros optimizados:\n",
        "\n",
        "- Mejores parámetros encontrados: {}\n",
        "- Mejor ROC AUC score encontrado:"
      ]
    },
    {
      "cell_type": "code",
      "execution_count": null,
      "metadata": {
        "id": "20R4ebfGNA_w"
      },
      "outputs": [],
      "source": [
        "# calcular las métricas con los mejores parámetros"
      ]
    },
    {
      "cell_type": "markdown",
      "metadata": {
        "id": "ikTZTxPxZaVu"
      },
      "source": [
        "# 05. Resultados y Conclusiones"
      ]
    },
    {
      "cell_type": "markdown",
      "metadata": {
        "id": "yzWA-vS3pIxq"
      },
      "source": [
        "Para terminar, vamos a probar el modelo con datos completamente nuevos y vamos explicar el desempeño del modelo y que alternativas podemos tomar para mejorar el desempeño del modelo."
      ]
    },
    {
      "cell_type": "markdown",
      "metadata": {
        "id": "S1IHjGreH7vS"
      },
      "source": [
        "Rendimiento del Modelo: El modelo Gradient Boosting Classifier optimizado muestra una capacidad significativa para predecir la variable objetivo (Heart Disease) con un ROC AUC promedio de '' en validación cruzada y '' en el conjunto de prueba independiente."
      ]
    },
    {
      "cell_type": "code",
      "execution_count": null,
      "metadata": {
        "id": "KSAcnXb0Nl_5"
      },
      "outputs": [],
      "source": []
    },
    {
      "cell_type": "code",
      "execution_count": null,
      "metadata": {
        "id": "SL4WWVXWNndM"
      },
      "outputs": [],
      "source": []
    },
    {
      "cell_type": "markdown",
      "metadata": {
        "id": "rGYgye9Apf2M"
      },
      "source": [
        "# 06. Storytelling"
      ]
    },
    {
      "cell_type": "markdown",
      "metadata": {
        "id": "6ld8nkq7pkAY"
      },
      "source": [
        "Como último vamos a hacer una pequeña presentación de principio a fin sobre el proyecto, esta presentación puede incluir:\n",
        "\n",
        "*  Motivaciones del proyecto.\n",
        "\n",
        "*  Alcance del proyecto.\n",
        "\n",
        "*  Herramientas o tecnologías usadas.\n",
        "\n",
        "*  Desafíos en cada parte del proceso.\n",
        "\n",
        "*  Resolución de cada desafío o problema.\n",
        "\n",
        "*  Un esquema de lo que fue el proyecto.\n",
        "\n",
        "*  Visualizaciones y resultados.\n",
        "\n",
        "Todos los miembros del equipo deben participar, no es obligatorio hacer una presentación o material audiovisual. Esta parte no será evaluada."
      ]
    }
  ],
  "metadata": {
    "colab": {
      "provenance": []
    },
    "kernelspec": {
      "display_name": "Python 3",
      "name": "python3"
    },
    "language_info": {
      "codemirror_mode": {
        "name": "ipython",
        "version": 3
      },
      "file_extension": ".py",
      "mimetype": "text/x-python",
      "name": "python",
      "nbconvert_exporter": "python",
      "pygments_lexer": "ipython3",
      "version": "3.11.7"
    }
  },
  "nbformat": 4,
  "nbformat_minor": 0
}
